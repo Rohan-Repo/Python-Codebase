{
 "cells": [
  {
   "cell_type": "markdown",
   "metadata": {},
   "source": [
    "### Problem Statement"
   ]
  },
  {
   "cell_type": "markdown",
   "metadata": {},
   "source": [
    "A large company named XYZ, employs, at any given point of time, around 4000 employees. However, every year, around 15% of its employees leave the company and need to be replaced with the talent pool available in the job market. The management believes that this level of attrition (employees leaving, either on their own or because they got fired) is bad for the company, because of the following reasons -  The former employees’ projects get delayed, which makes it difficult to meet timelines, resulting in a reputation loss among consumers and partners A sizeable department has to be maintained, for the purposes of recruiting new talent More often than not, the new employees have to be trained for the job and/or given time to acclimatise themselves to the company Hence, the management has contracted an HR analytics firm to understand what factors they should focus on, in order to curb attrition. In other words, they want to know what changes they should make to their workplace, in order to get most of their employees to stay. Also, they want to know which of these variables is most important and needs to be addressed right away. Goal of the case study You are required to model the probability of attrition. The results thus obtained will be used by the management to understand what changes they should make to their workplace, in order to get most of their employees to stay."
   ]
  },
  {
   "cell_type": "markdown",
   "metadata": {},
   "source": [
    "###### Ignore Warnings"
   ]
  },
  {
   "cell_type": "code",
   "execution_count": 66,
   "metadata": {},
   "outputs": [],
   "source": [
    "import warnings\n",
    "warnings.filterwarnings(\"ignore\", category=FutureWarning)"
   ]
  },
  {
   "cell_type": "markdown",
   "metadata": {},
   "source": [
    "###### Import required libraries"
   ]
  },
  {
   "cell_type": "code",
   "execution_count": 67,
   "metadata": {},
   "outputs": [],
   "source": [
    "import pandas as pd\n",
    "import numpy as np\n",
    "import matplotlib.pyplot as plt\n",
    "import seaborn as sns"
   ]
  },
  {
   "cell_type": "markdown",
   "metadata": {},
   "source": [
    "###### Read the required Data"
   ]
  },
  {
   "cell_type": "code",
   "execution_count": 68,
   "metadata": {},
   "outputs": [
    {
     "data": {
      "text/html": [
       "<div>\n",
       "<style scoped>\n",
       "    .dataframe tbody tr th:only-of-type {\n",
       "        vertical-align: middle;\n",
       "    }\n",
       "\n",
       "    .dataframe tbody tr th {\n",
       "        vertical-align: top;\n",
       "    }\n",
       "\n",
       "    .dataframe thead th {\n",
       "        text-align: right;\n",
       "    }\n",
       "</style>\n",
       "<table border=\"1\" class=\"dataframe\">\n",
       "  <thead>\n",
       "    <tr style=\"text-align: right;\">\n",
       "      <th></th>\n",
       "      <th>Age</th>\n",
       "      <th>Attrition</th>\n",
       "      <th>BusinessTravel</th>\n",
       "      <th>Department</th>\n",
       "      <th>DistanceFromHome</th>\n",
       "      <th>Education</th>\n",
       "      <th>EducationField</th>\n",
       "      <th>EmployeeCount</th>\n",
       "      <th>EmployeeID</th>\n",
       "      <th>Gender</th>\n",
       "      <th>...</th>\n",
       "      <th>NumCompaniesWorked</th>\n",
       "      <th>Over18</th>\n",
       "      <th>PercentSalaryHike</th>\n",
       "      <th>StandardHours</th>\n",
       "      <th>StockOptionLevel</th>\n",
       "      <th>TotalWorkingYears</th>\n",
       "      <th>TrainingTimesLastYear</th>\n",
       "      <th>YearsAtCompany</th>\n",
       "      <th>YearsSinceLastPromotion</th>\n",
       "      <th>YearsWithCurrManager</th>\n",
       "    </tr>\n",
       "  </thead>\n",
       "  <tbody>\n",
       "    <tr>\n",
       "      <th>0</th>\n",
       "      <td>51</td>\n",
       "      <td>No</td>\n",
       "      <td>Travel_Rarely</td>\n",
       "      <td>Sales</td>\n",
       "      <td>6</td>\n",
       "      <td>2</td>\n",
       "      <td>Life Sciences</td>\n",
       "      <td>1</td>\n",
       "      <td>1</td>\n",
       "      <td>Female</td>\n",
       "      <td>...</td>\n",
       "      <td>1.0</td>\n",
       "      <td>Y</td>\n",
       "      <td>11</td>\n",
       "      <td>8</td>\n",
       "      <td>0</td>\n",
       "      <td>1.0</td>\n",
       "      <td>6</td>\n",
       "      <td>1</td>\n",
       "      <td>0</td>\n",
       "      <td>0</td>\n",
       "    </tr>\n",
       "    <tr>\n",
       "      <th>1</th>\n",
       "      <td>31</td>\n",
       "      <td>Yes</td>\n",
       "      <td>Travel_Frequently</td>\n",
       "      <td>Research &amp; Development</td>\n",
       "      <td>10</td>\n",
       "      <td>1</td>\n",
       "      <td>Life Sciences</td>\n",
       "      <td>1</td>\n",
       "      <td>2</td>\n",
       "      <td>Female</td>\n",
       "      <td>...</td>\n",
       "      <td>0.0</td>\n",
       "      <td>Y</td>\n",
       "      <td>23</td>\n",
       "      <td>8</td>\n",
       "      <td>1</td>\n",
       "      <td>6.0</td>\n",
       "      <td>3</td>\n",
       "      <td>5</td>\n",
       "      <td>1</td>\n",
       "      <td>4</td>\n",
       "    </tr>\n",
       "    <tr>\n",
       "      <th>2</th>\n",
       "      <td>32</td>\n",
       "      <td>No</td>\n",
       "      <td>Travel_Frequently</td>\n",
       "      <td>Research &amp; Development</td>\n",
       "      <td>17</td>\n",
       "      <td>4</td>\n",
       "      <td>Other</td>\n",
       "      <td>1</td>\n",
       "      <td>3</td>\n",
       "      <td>Male</td>\n",
       "      <td>...</td>\n",
       "      <td>1.0</td>\n",
       "      <td>Y</td>\n",
       "      <td>15</td>\n",
       "      <td>8</td>\n",
       "      <td>3</td>\n",
       "      <td>5.0</td>\n",
       "      <td>2</td>\n",
       "      <td>5</td>\n",
       "      <td>0</td>\n",
       "      <td>3</td>\n",
       "    </tr>\n",
       "    <tr>\n",
       "      <th>3</th>\n",
       "      <td>38</td>\n",
       "      <td>No</td>\n",
       "      <td>Non-Travel</td>\n",
       "      <td>Research &amp; Development</td>\n",
       "      <td>2</td>\n",
       "      <td>5</td>\n",
       "      <td>Life Sciences</td>\n",
       "      <td>1</td>\n",
       "      <td>4</td>\n",
       "      <td>Male</td>\n",
       "      <td>...</td>\n",
       "      <td>3.0</td>\n",
       "      <td>Y</td>\n",
       "      <td>11</td>\n",
       "      <td>8</td>\n",
       "      <td>3</td>\n",
       "      <td>13.0</td>\n",
       "      <td>5</td>\n",
       "      <td>8</td>\n",
       "      <td>7</td>\n",
       "      <td>5</td>\n",
       "    </tr>\n",
       "    <tr>\n",
       "      <th>4</th>\n",
       "      <td>32</td>\n",
       "      <td>No</td>\n",
       "      <td>Travel_Rarely</td>\n",
       "      <td>Research &amp; Development</td>\n",
       "      <td>10</td>\n",
       "      <td>1</td>\n",
       "      <td>Medical</td>\n",
       "      <td>1</td>\n",
       "      <td>5</td>\n",
       "      <td>Male</td>\n",
       "      <td>...</td>\n",
       "      <td>4.0</td>\n",
       "      <td>Y</td>\n",
       "      <td>12</td>\n",
       "      <td>8</td>\n",
       "      <td>2</td>\n",
       "      <td>9.0</td>\n",
       "      <td>2</td>\n",
       "      <td>6</td>\n",
       "      <td>0</td>\n",
       "      <td>4</td>\n",
       "    </tr>\n",
       "  </tbody>\n",
       "</table>\n",
       "<p>5 rows × 24 columns</p>\n",
       "</div>"
      ],
      "text/plain": [
       "   Age Attrition     BusinessTravel              Department  DistanceFromHome  \\\n",
       "0   51        No      Travel_Rarely                   Sales                 6   \n",
       "1   31       Yes  Travel_Frequently  Research & Development                10   \n",
       "2   32        No  Travel_Frequently  Research & Development                17   \n",
       "3   38        No         Non-Travel  Research & Development                 2   \n",
       "4   32        No      Travel_Rarely  Research & Development                10   \n",
       "\n",
       "   Education EducationField  EmployeeCount  EmployeeID  Gender  ...  \\\n",
       "0          2  Life Sciences              1           1  Female  ...   \n",
       "1          1  Life Sciences              1           2  Female  ...   \n",
       "2          4          Other              1           3    Male  ...   \n",
       "3          5  Life Sciences              1           4    Male  ...   \n",
       "4          1        Medical              1           5    Male  ...   \n",
       "\n",
       "   NumCompaniesWorked Over18 PercentSalaryHike  StandardHours  \\\n",
       "0                 1.0      Y                11              8   \n",
       "1                 0.0      Y                23              8   \n",
       "2                 1.0      Y                15              8   \n",
       "3                 3.0      Y                11              8   \n",
       "4                 4.0      Y                12              8   \n",
       "\n",
       "   StockOptionLevel TotalWorkingYears  TrainingTimesLastYear  YearsAtCompany  \\\n",
       "0                 0               1.0                      6               1   \n",
       "1                 1               6.0                      3               5   \n",
       "2                 3               5.0                      2               5   \n",
       "3                 3              13.0                      5               8   \n",
       "4                 2               9.0                      2               6   \n",
       "\n",
       "   YearsSinceLastPromotion  YearsWithCurrManager  \n",
       "0                        0                     0  \n",
       "1                        1                     4  \n",
       "2                        0                     3  \n",
       "3                        7                     5  \n",
       "4                        0                     4  \n",
       "\n",
       "[5 rows x 24 columns]"
      ]
     },
     "execution_count": 68,
     "metadata": {},
     "output_type": "execute_result"
    }
   ],
   "source": [
    "basePath = 'D:\\\\MyCodes\\\\Python\\\\LetsUpgrade_Repo\\\\LU-Day-Wise\\\\Day-07\\\\Assignment\\\\'\n",
    "emp_df = pd.read_csv( basePath + 'Employee_Attrition_Data.csv' )\n",
    "emp_df.head()"
   ]
  },
  {
   "cell_type": "markdown",
   "metadata": {},
   "source": [
    "###### Feature Engineering:\n",
    "- Handle Missing/Duplicate Values\n",
    "- Feature Selection\n",
    "- Feature Scaling and Normalization"
   ]
  },
  {
   "cell_type": "code",
   "execution_count": 69,
   "metadata": {},
   "outputs": [
    {
     "data": {
      "text/plain": [
       "Index(['Age', 'Attrition', 'BusinessTravel', 'Department', 'DistanceFromHome',\n",
       "       'Education', 'EducationField', 'EmployeeCount', 'EmployeeID', 'Gender',\n",
       "       'JobLevel', 'JobRole', 'MaritalStatus', 'MonthlyIncome',\n",
       "       'NumCompaniesWorked', 'Over18', 'PercentSalaryHike', 'StandardHours',\n",
       "       'StockOptionLevel', 'TotalWorkingYears', 'TrainingTimesLastYear',\n",
       "       'YearsAtCompany', 'YearsSinceLastPromotion', 'YearsWithCurrManager'],\n",
       "      dtype='object')"
      ]
     },
     "execution_count": 69,
     "metadata": {},
     "output_type": "execute_result"
    }
   ],
   "source": [
    "emp_df.columns"
   ]
  },
  {
   "cell_type": "markdown",
   "metadata": {},
   "source": [
    "###### Check and handle missing values"
   ]
  },
  {
   "cell_type": "code",
   "execution_count": 70,
   "metadata": {},
   "outputs": [
    {
     "data": {
      "text/plain": [
       "Age                        False\n",
       "Attrition                  False\n",
       "BusinessTravel             False\n",
       "Department                 False\n",
       "DistanceFromHome           False\n",
       "Education                  False\n",
       "EducationField             False\n",
       "EmployeeCount              False\n",
       "EmployeeID                 False\n",
       "Gender                     False\n",
       "JobLevel                   False\n",
       "JobRole                    False\n",
       "MaritalStatus              False\n",
       "MonthlyIncome              False\n",
       "NumCompaniesWorked          True\n",
       "Over18                     False\n",
       "PercentSalaryHike          False\n",
       "StandardHours              False\n",
       "StockOptionLevel           False\n",
       "TotalWorkingYears           True\n",
       "TrainingTimesLastYear      False\n",
       "YearsAtCompany             False\n",
       "YearsSinceLastPromotion    False\n",
       "YearsWithCurrManager       False\n",
       "dtype: bool"
      ]
     },
     "execution_count": 70,
     "metadata": {},
     "output_type": "execute_result"
    }
   ],
   "source": [
    "emp_df.isna().any()"
   ]
  },
  {
   "cell_type": "code",
   "execution_count": 71,
   "metadata": {},
   "outputs": [
    {
     "data": {
      "text/plain": [
       "Age                        False\n",
       "Attrition                  False\n",
       "BusinessTravel             False\n",
       "Department                 False\n",
       "DistanceFromHome           False\n",
       "Education                  False\n",
       "EducationField             False\n",
       "EmployeeCount              False\n",
       "EmployeeID                 False\n",
       "Gender                     False\n",
       "JobLevel                   False\n",
       "JobRole                    False\n",
       "MaritalStatus              False\n",
       "MonthlyIncome              False\n",
       "NumCompaniesWorked          True\n",
       "Over18                     False\n",
       "PercentSalaryHike          False\n",
       "StandardHours              False\n",
       "StockOptionLevel           False\n",
       "TotalWorkingYears           True\n",
       "TrainingTimesLastYear      False\n",
       "YearsAtCompany             False\n",
       "YearsSinceLastPromotion    False\n",
       "YearsWithCurrManager       False\n",
       "dtype: bool"
      ]
     },
     "execution_count": 71,
     "metadata": {},
     "output_type": "execute_result"
    }
   ],
   "source": [
    "emp_df.isnull().any()"
   ]
  },
  {
   "cell_type": "code",
   "execution_count": 72,
   "metadata": {},
   "outputs": [
    {
     "name": "stdout",
     "output_type": "stream",
     "text": [
      "<class 'pandas.core.frame.DataFrame'>\n",
      "RangeIndex: 4410 entries, 0 to 4409\n",
      "Data columns (total 24 columns):\n",
      " #   Column                   Non-Null Count  Dtype  \n",
      "---  ------                   --------------  -----  \n",
      " 0   Age                      4410 non-null   int64  \n",
      " 1   Attrition                4410 non-null   object \n",
      " 2   BusinessTravel           4410 non-null   object \n",
      " 3   Department               4410 non-null   object \n",
      " 4   DistanceFromHome         4410 non-null   int64  \n",
      " 5   Education                4410 non-null   int64  \n",
      " 6   EducationField           4410 non-null   object \n",
      " 7   EmployeeCount            4410 non-null   int64  \n",
      " 8   EmployeeID               4410 non-null   int64  \n",
      " 9   Gender                   4410 non-null   object \n",
      " 10  JobLevel                 4410 non-null   int64  \n",
      " 11  JobRole                  4410 non-null   object \n",
      " 12  MaritalStatus            4410 non-null   object \n",
      " 13  MonthlyIncome            4410 non-null   int64  \n",
      " 14  NumCompaniesWorked       4391 non-null   float64\n",
      " 15  Over18                   4410 non-null   object \n",
      " 16  PercentSalaryHike        4410 non-null   int64  \n",
      " 17  StandardHours            4410 non-null   int64  \n",
      " 18  StockOptionLevel         4410 non-null   int64  \n",
      " 19  TotalWorkingYears        4401 non-null   float64\n",
      " 20  TrainingTimesLastYear    4410 non-null   int64  \n",
      " 21  YearsAtCompany           4410 non-null   int64  \n",
      " 22  YearsSinceLastPromotion  4410 non-null   int64  \n",
      " 23  YearsWithCurrManager     4410 non-null   int64  \n",
      "dtypes: float64(2), int64(14), object(8)\n",
      "memory usage: 827.0+ KB\n"
     ]
    }
   ],
   "source": [
    "emp_df.info()"
   ]
  },
  {
   "cell_type": "markdown",
   "metadata": {},
   "source": [
    "###### Drop Missing values as they are less in number"
   ]
  },
  {
   "cell_type": "code",
   "execution_count": 73,
   "metadata": {},
   "outputs": [
    {
     "name": "stdout",
     "output_type": "stream",
     "text": [
      "<class 'pandas.core.frame.DataFrame'>\n",
      "Int64Index: 4382 entries, 0 to 4408\n",
      "Data columns (total 24 columns):\n",
      " #   Column                   Non-Null Count  Dtype  \n",
      "---  ------                   --------------  -----  \n",
      " 0   Age                      4382 non-null   int64  \n",
      " 1   Attrition                4382 non-null   object \n",
      " 2   BusinessTravel           4382 non-null   object \n",
      " 3   Department               4382 non-null   object \n",
      " 4   DistanceFromHome         4382 non-null   int64  \n",
      " 5   Education                4382 non-null   int64  \n",
      " 6   EducationField           4382 non-null   object \n",
      " 7   EmployeeCount            4382 non-null   int64  \n",
      " 8   EmployeeID               4382 non-null   int64  \n",
      " 9   Gender                   4382 non-null   object \n",
      " 10  JobLevel                 4382 non-null   int64  \n",
      " 11  JobRole                  4382 non-null   object \n",
      " 12  MaritalStatus            4382 non-null   object \n",
      " 13  MonthlyIncome            4382 non-null   int64  \n",
      " 14  NumCompaniesWorked       4382 non-null   float64\n",
      " 15  Over18                   4382 non-null   object \n",
      " 16  PercentSalaryHike        4382 non-null   int64  \n",
      " 17  StandardHours            4382 non-null   int64  \n",
      " 18  StockOptionLevel         4382 non-null   int64  \n",
      " 19  TotalWorkingYears        4382 non-null   float64\n",
      " 20  TrainingTimesLastYear    4382 non-null   int64  \n",
      " 21  YearsAtCompany           4382 non-null   int64  \n",
      " 22  YearsSinceLastPromotion  4382 non-null   int64  \n",
      " 23  YearsWithCurrManager     4382 non-null   int64  \n",
      "dtypes: float64(2), int64(14), object(8)\n",
      "memory usage: 855.9+ KB\n"
     ]
    }
   ],
   "source": [
    "emp_df = emp_df.dropna(axis=0)\n",
    "emp_df.info()"
   ]
  },
  {
   "cell_type": "markdown",
   "metadata": {},
   "source": [
    "###### No Duplicate Values present"
   ]
  },
  {
   "cell_type": "code",
   "execution_count": 74,
   "metadata": {},
   "outputs": [
    {
     "data": {
      "text/plain": [
       "False"
      ]
     },
     "execution_count": 74,
     "metadata": {},
     "output_type": "execute_result"
    }
   ],
   "source": [
    "emp_df.duplicated().any()"
   ]
  },
  {
   "attachments": {},
   "cell_type": "markdown",
   "metadata": {},
   "source": [
    "###### Drop Unnecessary Columns like - EmployeeID, EmployeeCount or Over18"
   ]
  },
  {
   "cell_type": "code",
   "execution_count": 75,
   "metadata": {},
   "outputs": [
    {
     "name": "stdout",
     "output_type": "stream",
     "text": [
      "Col List Before :  24\n",
      "Col List After :  21\n"
     ]
    }
   ],
   "source": [
    "print( 'Col List Before : ', len(emp_df.columns) )\n",
    "emp_df = emp_df.drop( ['EmployeeID','EmployeeCount', 'Over18'], axis=1 )\n",
    "print( 'Col List After : ', len(emp_df.columns) )"
   ]
  },
  {
   "cell_type": "markdown",
   "metadata": {},
   "source": [
    "###### Uni-variate Analysis"
   ]
  },
  {
   "cell_type": "code",
   "execution_count": 76,
   "metadata": {},
   "outputs": [
    {
     "data": {
      "text/html": [
       "<div>\n",
       "<style scoped>\n",
       "    .dataframe tbody tr th:only-of-type {\n",
       "        vertical-align: middle;\n",
       "    }\n",
       "\n",
       "    .dataframe tbody tr th {\n",
       "        vertical-align: top;\n",
       "    }\n",
       "\n",
       "    .dataframe thead th {\n",
       "        text-align: right;\n",
       "    }\n",
       "</style>\n",
       "<table border=\"1\" class=\"dataframe\">\n",
       "  <thead>\n",
       "    <tr style=\"text-align: right;\">\n",
       "      <th></th>\n",
       "      <th>Age</th>\n",
       "      <th>DistanceFromHome</th>\n",
       "      <th>Education</th>\n",
       "      <th>JobLevel</th>\n",
       "      <th>MonthlyIncome</th>\n",
       "      <th>NumCompaniesWorked</th>\n",
       "      <th>PercentSalaryHike</th>\n",
       "      <th>StandardHours</th>\n",
       "      <th>StockOptionLevel</th>\n",
       "      <th>TotalWorkingYears</th>\n",
       "      <th>TrainingTimesLastYear</th>\n",
       "      <th>YearsAtCompany</th>\n",
       "      <th>YearsSinceLastPromotion</th>\n",
       "      <th>YearsWithCurrManager</th>\n",
       "    </tr>\n",
       "  </thead>\n",
       "  <tbody>\n",
       "    <tr>\n",
       "      <th>count</th>\n",
       "      <td>4382.000000</td>\n",
       "      <td>4382.000000</td>\n",
       "      <td>4382.000000</td>\n",
       "      <td>4382.000000</td>\n",
       "      <td>4382.000000</td>\n",
       "      <td>4382.000000</td>\n",
       "      <td>4382.000000</td>\n",
       "      <td>4382.0</td>\n",
       "      <td>4382.000000</td>\n",
       "      <td>4382.000000</td>\n",
       "      <td>4382.000000</td>\n",
       "      <td>4382.000000</td>\n",
       "      <td>4382.000000</td>\n",
       "      <td>4382.000000</td>\n",
       "    </tr>\n",
       "    <tr>\n",
       "      <th>mean</th>\n",
       "      <td>36.933364</td>\n",
       "      <td>9.198996</td>\n",
       "      <td>2.912369</td>\n",
       "      <td>2.063898</td>\n",
       "      <td>65061.702419</td>\n",
       "      <td>2.693291</td>\n",
       "      <td>15.210634</td>\n",
       "      <td>8.0</td>\n",
       "      <td>0.794614</td>\n",
       "      <td>11.290278</td>\n",
       "      <td>2.798266</td>\n",
       "      <td>7.010497</td>\n",
       "      <td>2.191693</td>\n",
       "      <td>4.126198</td>\n",
       "    </tr>\n",
       "    <tr>\n",
       "      <th>std</th>\n",
       "      <td>9.137272</td>\n",
       "      <td>8.105396</td>\n",
       "      <td>1.024728</td>\n",
       "      <td>1.106115</td>\n",
       "      <td>47142.310175</td>\n",
       "      <td>2.497832</td>\n",
       "      <td>3.663007</td>\n",
       "      <td>0.0</td>\n",
       "      <td>0.852397</td>\n",
       "      <td>7.785717</td>\n",
       "      <td>1.289402</td>\n",
       "      <td>6.129351</td>\n",
       "      <td>3.224994</td>\n",
       "      <td>3.569674</td>\n",
       "    </tr>\n",
       "    <tr>\n",
       "      <th>min</th>\n",
       "      <td>18.000000</td>\n",
       "      <td>1.000000</td>\n",
       "      <td>1.000000</td>\n",
       "      <td>1.000000</td>\n",
       "      <td>10090.000000</td>\n",
       "      <td>0.000000</td>\n",
       "      <td>11.000000</td>\n",
       "      <td>8.0</td>\n",
       "      <td>0.000000</td>\n",
       "      <td>0.000000</td>\n",
       "      <td>0.000000</td>\n",
       "      <td>0.000000</td>\n",
       "      <td>0.000000</td>\n",
       "      <td>0.000000</td>\n",
       "    </tr>\n",
       "    <tr>\n",
       "      <th>25%</th>\n",
       "      <td>30.000000</td>\n",
       "      <td>2.000000</td>\n",
       "      <td>2.000000</td>\n",
       "      <td>1.000000</td>\n",
       "      <td>29110.000000</td>\n",
       "      <td>1.000000</td>\n",
       "      <td>12.000000</td>\n",
       "      <td>8.0</td>\n",
       "      <td>0.000000</td>\n",
       "      <td>6.000000</td>\n",
       "      <td>2.000000</td>\n",
       "      <td>3.000000</td>\n",
       "      <td>0.000000</td>\n",
       "      <td>2.000000</td>\n",
       "    </tr>\n",
       "    <tr>\n",
       "      <th>50%</th>\n",
       "      <td>36.000000</td>\n",
       "      <td>7.000000</td>\n",
       "      <td>3.000000</td>\n",
       "      <td>2.000000</td>\n",
       "      <td>49190.000000</td>\n",
       "      <td>2.000000</td>\n",
       "      <td>14.000000</td>\n",
       "      <td>8.0</td>\n",
       "      <td>1.000000</td>\n",
       "      <td>10.000000</td>\n",
       "      <td>3.000000</td>\n",
       "      <td>5.000000</td>\n",
       "      <td>1.000000</td>\n",
       "      <td>3.000000</td>\n",
       "    </tr>\n",
       "    <tr>\n",
       "      <th>75%</th>\n",
       "      <td>43.000000</td>\n",
       "      <td>14.000000</td>\n",
       "      <td>4.000000</td>\n",
       "      <td>3.000000</td>\n",
       "      <td>83790.000000</td>\n",
       "      <td>4.000000</td>\n",
       "      <td>18.000000</td>\n",
       "      <td>8.0</td>\n",
       "      <td>1.000000</td>\n",
       "      <td>15.000000</td>\n",
       "      <td>3.000000</td>\n",
       "      <td>9.000000</td>\n",
       "      <td>3.000000</td>\n",
       "      <td>7.000000</td>\n",
       "    </tr>\n",
       "    <tr>\n",
       "      <th>max</th>\n",
       "      <td>60.000000</td>\n",
       "      <td>29.000000</td>\n",
       "      <td>5.000000</td>\n",
       "      <td>5.000000</td>\n",
       "      <td>199990.000000</td>\n",
       "      <td>9.000000</td>\n",
       "      <td>25.000000</td>\n",
       "      <td>8.0</td>\n",
       "      <td>3.000000</td>\n",
       "      <td>40.000000</td>\n",
       "      <td>6.000000</td>\n",
       "      <td>40.000000</td>\n",
       "      <td>15.000000</td>\n",
       "      <td>17.000000</td>\n",
       "    </tr>\n",
       "  </tbody>\n",
       "</table>\n",
       "</div>"
      ],
      "text/plain": [
       "               Age  DistanceFromHome    Education     JobLevel  MonthlyIncome  \\\n",
       "count  4382.000000       4382.000000  4382.000000  4382.000000    4382.000000   \n",
       "mean     36.933364          9.198996     2.912369     2.063898   65061.702419   \n",
       "std       9.137272          8.105396     1.024728     1.106115   47142.310175   \n",
       "min      18.000000          1.000000     1.000000     1.000000   10090.000000   \n",
       "25%      30.000000          2.000000     2.000000     1.000000   29110.000000   \n",
       "50%      36.000000          7.000000     3.000000     2.000000   49190.000000   \n",
       "75%      43.000000         14.000000     4.000000     3.000000   83790.000000   \n",
       "max      60.000000         29.000000     5.000000     5.000000  199990.000000   \n",
       "\n",
       "       NumCompaniesWorked  PercentSalaryHike  StandardHours  StockOptionLevel  \\\n",
       "count         4382.000000        4382.000000         4382.0       4382.000000   \n",
       "mean             2.693291          15.210634            8.0          0.794614   \n",
       "std              2.497832           3.663007            0.0          0.852397   \n",
       "min              0.000000          11.000000            8.0          0.000000   \n",
       "25%              1.000000          12.000000            8.0          0.000000   \n",
       "50%              2.000000          14.000000            8.0          1.000000   \n",
       "75%              4.000000          18.000000            8.0          1.000000   \n",
       "max              9.000000          25.000000            8.0          3.000000   \n",
       "\n",
       "       TotalWorkingYears  TrainingTimesLastYear  YearsAtCompany  \\\n",
       "count        4382.000000            4382.000000     4382.000000   \n",
       "mean           11.290278               2.798266        7.010497   \n",
       "std             7.785717               1.289402        6.129351   \n",
       "min             0.000000               0.000000        0.000000   \n",
       "25%             6.000000               2.000000        3.000000   \n",
       "50%            10.000000               3.000000        5.000000   \n",
       "75%            15.000000               3.000000        9.000000   \n",
       "max            40.000000               6.000000       40.000000   \n",
       "\n",
       "       YearsSinceLastPromotion  YearsWithCurrManager  \n",
       "count              4382.000000           4382.000000  \n",
       "mean                  2.191693              4.126198  \n",
       "std                   3.224994              3.569674  \n",
       "min                   0.000000              0.000000  \n",
       "25%                   0.000000              2.000000  \n",
       "50%                   1.000000              3.000000  \n",
       "75%                   3.000000              7.000000  \n",
       "max                  15.000000             17.000000  "
      ]
     },
     "execution_count": 76,
     "metadata": {},
     "output_type": "execute_result"
    }
   ],
   "source": [
    "emp_df.describe()"
   ]
  },
  {
   "cell_type": "code",
   "execution_count": 77,
   "metadata": {},
   "outputs": [
    {
     "data": {
      "text/plain": [
       "Age                           36.933364\n",
       "DistanceFromHome               9.198996\n",
       "Education                      2.912369\n",
       "JobLevel                       2.063898\n",
       "MonthlyIncome              65061.702419\n",
       "NumCompaniesWorked             2.693291\n",
       "PercentSalaryHike             15.210634\n",
       "StandardHours                  8.000000\n",
       "StockOptionLevel               0.794614\n",
       "TotalWorkingYears             11.290278\n",
       "TrainingTimesLastYear          2.798266\n",
       "YearsAtCompany                 7.010497\n",
       "YearsSinceLastPromotion        2.191693\n",
       "YearsWithCurrManager           4.126198\n",
       "dtype: float64"
      ]
     },
     "execution_count": 77,
     "metadata": {},
     "output_type": "execute_result"
    }
   ],
   "source": [
    "emp_df.mean()"
   ]
  },
  {
   "cell_type": "code",
   "execution_count": 78,
   "metadata": {},
   "outputs": [
    {
     "data": {
      "text/plain": [
       "Age                        8.348974e+01\n",
       "DistanceFromHome           6.569744e+01\n",
       "Education                  1.050068e+00\n",
       "JobLevel                   1.223490e+00\n",
       "MonthlyIncome              2.222397e+09\n",
       "NumCompaniesWorked         6.239165e+00\n",
       "PercentSalaryHike          1.341762e+01\n",
       "StandardHours              0.000000e+00\n",
       "StockOptionLevel           7.265814e-01\n",
       "TotalWorkingYears          6.061739e+01\n",
       "TrainingTimesLastYear      1.662558e+00\n",
       "YearsAtCompany             3.756894e+01\n",
       "YearsSinceLastPromotion    1.040059e+01\n",
       "YearsWithCurrManager       1.274257e+01\n",
       "dtype: float64"
      ]
     },
     "execution_count": 78,
     "metadata": {},
     "output_type": "execute_result"
    }
   ],
   "source": [
    "emp_df.var()"
   ]
  },
  {
   "cell_type": "code",
   "execution_count": 79,
   "metadata": {},
   "outputs": [
    {
     "data": {
      "text/plain": [
       "Age                        0.413048\n",
       "DistanceFromHome           0.955517\n",
       "Education                 -0.288977\n",
       "JobLevel                   1.021797\n",
       "MonthlyIncome              1.367457\n",
       "NumCompaniesWorked         1.029174\n",
       "PercentSalaryHike          0.819510\n",
       "StandardHours              0.000000\n",
       "StockOptionLevel           0.967263\n",
       "TotalWorkingYears          1.115419\n",
       "TrainingTimesLastYear      0.551818\n",
       "YearsAtCompany             1.764619\n",
       "YearsSinceLastPromotion    1.980992\n",
       "YearsWithCurrManager       0.834277\n",
       "dtype: float64"
      ]
     },
     "execution_count": 79,
     "metadata": {},
     "output_type": "execute_result"
    }
   ],
   "source": [
    "emp_df.skew()"
   ]
  },
  {
   "cell_type": "code",
   "execution_count": 80,
   "metadata": {},
   "outputs": [
    {
     "data": {
      "image/png": "[encoded data removed]",
      "text/plain": [
       "<Figure size 1224x216 with 3 Axes>"
      ]
     },
     "metadata": {
      "needs_background": "light"
     },
     "output_type": "display_data"
    }
   ],
   "source": [
    "plt.figure(figsize=(17,3))\n",
    "plt.subplot(1, 3, 1)\n",
    "plt.title('Age Box Plot')\n",
    "plt.boxplot( emp_df['Age'] )\n",
    "plt.subplot(1, 3, 2)\n",
    "plt.title('DistanceFromHome Box Plot')\n",
    "plt.boxplot( emp_df['DistanceFromHome'] )\n",
    "plt.subplot(1, 3, 3)\n",
    "plt.title('MonthlyIncome Box Plot')\n",
    "plt.boxplot( emp_df['MonthlyIncome'] )\n",
    "plt.show()"
   ]
  },
  {
   "cell_type": "code",
   "execution_count": 81,
   "metadata": {},
   "outputs": [
    {
     "data": {
      "image/png": "[encoded data removed]",
      "text/plain": [
       "<Figure size 1224x216 with 3 Axes>"
      ]
     },
     "metadata": {
      "needs_background": "light"
     },
     "output_type": "display_data"
    }
   ],
   "source": [
    "plt.figure(figsize=(17,3))\n",
    "plt.subplot(1, 3, 1)\n",
    "plt.title('YearsWithCurrManager Box Plot')\n",
    "plt.boxplot( emp_df['YearsWithCurrManager'] )\n",
    "plt.subplot(1, 3, 2)\n",
    "plt.title('PercentSalaryHike Box Plot')\n",
    "plt.boxplot( emp_df['PercentSalaryHike'] )\n",
    "plt.subplot(1, 3, 3)\n",
    "plt.title('YearsSinceLastPromotion Box Plot')\n",
    "plt.boxplot( emp_df['YearsSinceLastPromotion'] )\n",
    "plt.show()"
   ]
  },
  {
   "cell_type": "code",
   "execution_count": 82,
   "metadata": {},
   "outputs": [
    {
     "data": {
      "image/png": "[encoded data removed]",
      "text/plain": [
       "<Figure size 1224x216 with 3 Axes>"
      ]
     },
     "metadata": {
      "needs_background": "light"
     },
     "output_type": "display_data"
    }
   ],
   "source": [
    "plt.figure(figsize=(17,3))\n",
    "plt.subplot(1, 3, 1)\n",
    "plt.title('Education Box Plot')\n",
    "plt.boxplot( emp_df['Education'] )\n",
    "plt.subplot(1, 3, 2)\n",
    "plt.title('JobLevel Box Plot')\n",
    "plt.boxplot( emp_df['JobLevel'] )\n",
    "plt.subplot(1, 3, 3)\n",
    "plt.title('TrainingTimesLastYear Box Plot')\n",
    "plt.boxplot( emp_df['TrainingTimesLastYear'] )\n",
    "plt.show()"
   ]
  },
  {
   "cell_type": "code",
   "execution_count": 107,
   "metadata": {},
   "outputs": [
    {
     "data": {
      "image/png": "[encoded data removed]",
      "text/plain": [
       "<Figure size 936x216 with 3 Axes>"
      ]
     },
     "metadata": {
      "needs_background": "light"
     },
     "output_type": "display_data"
    }
   ],
   "source": [
    "plt.figure( figsize=(13,3) )\n",
    "\n",
    "plt.subplot(1, 3, 1)\n",
    "plt.xlabel('Attrition')\n",
    "plt.ylabel('DistanceFromHome')\n",
    "plt.title('Attrition v/s DistanceFromHome')\n",
    "plt.bar( emp_df['Attrition'], emp_df['DistanceFromHome'], color='teal' )\n",
    "\n",
    "plt.subplot(1, 3, 2)\n",
    "plt.xlabel('Attrition')\n",
    "plt.ylabel('YearsSinceLastPromotion')\n",
    "plt.title('Attrition v/s YearsSinceLastPromotion')\n",
    "plt.bar( emp_df['Attrition'], emp_df['YearsSinceLastPromotion'], color='steelblue' )\n",
    "\n",
    "plt.subplot(1, 3, 3)\n",
    "plt.xlabel('Attrition')\n",
    "plt.ylabel('MonthlyIncome')\n",
    "plt.title('Attrition v/s MonthlyIncome')\n",
    "plt.bar( emp_df['Attrition'], emp_df['MonthlyIncome'], color='darkslategray' )\n",
    "\n",
    "plt.tight_layout()\n",
    "\n",
    "plt.show()"
   ]
  },
  {
   "cell_type": "code",
   "execution_count": 105,
   "metadata": {},
   "outputs": [
    {
     "data": {
      "image/png": "[encoded data removed]",
      "text/plain": [
       "<Figure size 936x216 with 3 Axes>"
      ]
     },
     "metadata": {
      "needs_background": "light"
     },
     "output_type": "display_data"
    }
   ],
   "source": [
    "plt.figure( figsize=(13,3) )\n",
    "\n",
    "plt.subplot(1, 3, 1)\n",
    "plt.xlabel('Attrition')\n",
    "plt.ylabel('NumCompaniesWorked')\n",
    "plt.title('Attrition v/s NumCompaniesWorked')\n",
    "plt.bar( emp_df['Attrition'], emp_df['NumCompaniesWorked'], color='teal' )\n",
    "\n",
    "plt.subplot(1, 3, 2)\n",
    "plt.xlabel('Attrition')\n",
    "plt.ylabel('Education')\n",
    "plt.title('Attrition v/s Education')\n",
    "plt.bar( emp_df['Attrition'], emp_df['Education'], color='steelblue' )\n",
    "\n",
    "plt.subplot(1, 3, 3)\n",
    "plt.xlabel('Attrition')\n",
    "plt.ylabel('TrainingTimesLastYear')\n",
    "plt.title('Attrition v/s TrainingTimesLastYear')\n",
    "plt.bar( emp_df['Attrition'], emp_df['TrainingTimesLastYear'], color='darkslategray' )\n",
    "\n",
    "plt.tight_layout()\n",
    "\n",
    "plt.show()"
   ]
  },
  {
   "cell_type": "code",
   "execution_count": 118,
   "metadata": {},
   "outputs": [
    {
     "data": {
      "image/png": "[encoded data removed]",
      "text/plain": [
       "<Figure size 936x216 with 2 Axes>"
      ]
     },
     "metadata": {
      "needs_background": "light"
     },
     "output_type": "display_data"
    }
   ],
   "source": [
    "plt.figure( figsize=(13,3) )\n",
    "\n",
    "plt.subplot(1, 2, 1)\n",
    "plt.title('BusinessTravel Count Plot')\n",
    "sns.countplot( x='BusinessTravel', data=emp_df )\n",
    "\n",
    "plt.subplot(1, 2, 2)\n",
    "plt.title('YearsWithCurrManager Count Plot')\n",
    "sns.countplot( x='YearsWithCurrManager', data=emp_df )\n",
    "\n",
    "plt.show()"
   ]
  },
  {
   "cell_type": "code",
   "execution_count": 112,
   "metadata": {},
   "outputs": [
    {
     "data": {
      "image/png": "[encoded data removed]",
      "text/plain": [
       "<Figure size 936x216 with 3 Axes>"
      ]
     },
     "metadata": {
      "needs_background": "light"
     },
     "output_type": "display_data"
    }
   ],
   "source": [
    "plt.figure( figsize=(13,3) )\n",
    "\n",
    "plt.subplot(1, 3, 1)\n",
    "plt.title('YearsSinceLastPromotion Count Plot')\n",
    "sns.countplot( x='YearsSinceLastPromotion', data=emp_df )\n",
    "\n",
    "plt.subplot(1, 3, 2)\n",
    "plt.title('TrainingTimesLastYear Count Plot')\n",
    "sns.countplot( x='TrainingTimesLastYear', data=emp_df )\n",
    "\n",
    "plt.subplot(1, 3, 3)\n",
    "plt.title('NumCompaniesWorked Count Plot')\n",
    "sns.countplot( x='NumCompaniesWorked', data=emp_df )\n",
    "\n",
    "plt.tight_layout()\n",
    "\n",
    "plt.show()"
   ]
  },
  {
   "cell_type": "code",
   "execution_count": 127,
   "metadata": {},
   "outputs": [
    {
     "data": {
      "image/png": "[encoded data removed]",
      "text/plain": [
       "<Figure size 1224x360 with 1 Axes>"
      ]
     },
     "metadata": {
      "needs_background": "light"
     },
     "output_type": "display_data"
    }
   ],
   "source": [
    "plt.figure( figsize=(17,5) )\n",
    "\n",
    "plt.title('TotalWorkingYears Count Plot')\n",
    "sns.countplot( x='TotalWorkingYears', data=emp_df )\n",
    "\n",
    "plt.show()"
   ]
  },
  {
   "cell_type": "code",
   "execution_count": 129,
   "metadata": {},
   "outputs": [
    {
     "data": {
      "image/png": "[encoded data removed]",
      "text/plain": [
       "<Figure size 936x360 with 1 Axes>"
      ]
     },
     "metadata": {
      "needs_background": "light"
     },
     "output_type": "display_data"
    }
   ],
   "source": [
    "plt.figure( figsize=(13,5) )\n",
    "\n",
    "plt.title('YearsAtCompany Count Plot')\n",
    "sns.countplot( x='YearsAtCompany', data=emp_df )\n",
    "\n",
    "plt.show()"
   ]
  },
  {
   "cell_type": "markdown",
   "metadata": {},
   "source": [
    "###### Inferences from the Above Plot:\n",
    "- PercentSalaryHike and DistanceFromHome are rightly skewed with no OutLiers\n",
    "- YearsSinceLastPromotion, YearsWithCurrManager, MonthlyIncome are rightly skewed with many outliers\n",
    "- TrainingTimesLastYear is unevenly distributed\n",
    "- BusinessTravel is not frequent"
   ]
  },
  {
   "cell_type": "markdown",
   "metadata": {},
   "source": [
    "###### Steps which could be taken :\n",
    "- Salary Hike or Promotions of employees whereever possible, priority given to loyal employees\n",
    "- For employees staying far away Work-From-Home policies could be encouraged to reduce travel time and increase productivity\n",
    "- Training of employees on newer technologies should be encouraged\n",
    "- BusinessTravel should be encouraged for employees"
   ]
  }
 ],
 "metadata": {
  "kernelspec": {
   "display_name": "Python 3",
   "language": "python",
   "name": "python3"
  },
  "language_info": {
   "codemirror_mode": {
    "name": "ipython",
    "version": 3
   },
   "file_extension": ".py",
   "mimetype": "text/x-python",
   "name": "python",
   "nbconvert_exporter": "python",
   "pygments_lexer": "ipython3",
   "version": "3.7.7"
  }
 },
 "nbformat": 4,
 "nbformat_minor": 4
}
