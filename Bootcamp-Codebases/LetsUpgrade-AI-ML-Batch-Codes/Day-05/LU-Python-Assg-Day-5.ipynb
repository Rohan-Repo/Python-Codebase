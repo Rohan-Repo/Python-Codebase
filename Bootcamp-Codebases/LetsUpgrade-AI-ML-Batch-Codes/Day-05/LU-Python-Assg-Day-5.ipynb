{
 "cells": [
  {
   "cell_type": "markdown",
   "metadata": {},
   "source": [
    "### LetsUpgrade - Python Assignment Day 5"
   ]
  },
  {
   "cell_type": "markdown",
   "metadata": {},
   "source": [
    "###### 1. Write a Python program to find the first 20 non-even prime natural numbers."
   ]
  },
  {
   "cell_type": "code",
   "execution_count": 20,
   "metadata": {},
   "outputs": [
    {
     "name": "stdout",
     "output_type": "stream",
     "text": [
      "First 20 Non-Even Prime Numbers are :  [3, 5, 7, 11, 13, 17, 19, 23, 29, 31, 37, 41, 43, 47, 53, 59, 61, 67, 71, 73]\n"
     ]
    }
   ],
   "source": [
    "primeNumList = []\n",
    "\n",
    "for i in range( 3,80,2 ):\n",
    "    flag = False\n",
    "    for j in range( 3,i ):\n",
    "        if i%j == 0:\n",
    "            flag = True\n",
    "            break\n",
    "\n",
    "    if flag == False:\n",
    "        primeNumList.append( i )\n",
    "\n",
    "print( 'First 20 Non-Even Prime Numbers are : ', primeNumList[:-1:] )"
   ]
  },
  {
   "cell_type": "markdown",
   "metadata": {},
   "source": [
    "****"
   ]
  },
  {
   "cell_type": "markdown",
   "metadata": {},
   "source": [
    "###### 2. Write a Python program to implement 15 functions of string."
   ]
  },
  {
   "cell_type": "code",
   "execution_count": 45,
   "metadata": {},
   "outputs": [],
   "source": [
    "# str = 'Lorem ipsum dolor sit amet, consectetur adipiscing elit, sed do eiusmod tempor incididunt ut labore et dolore magna aliqua.'\n",
    "str = 'Lorem ipsum dolor sit amet, consectetur adipiscing elit'"
   ]
  },
  {
   "cell_type": "code",
   "execution_count": 59,
   "metadata": {},
   "outputs": [
    {
     "name": "stdout",
     "output_type": "stream",
     "text": [
      "Original String :  Lorem ipsum dolor sit amet, consectetur adipiscing elit\n",
      "String Function #1 - Upper Case :  LOREM IPSUM DOLOR SIT AMET, CONSECTETUR ADIPISCING ELIT\n",
      "String Function #2 - Lower Case :  lorem ipsum dolor sit amet, consectetur adipiscing elit\n",
      "String Function #3 - Count alphabet 'a' :  2\n",
      "String Function #4 - EndsWith 'lit' :  True\n",
      "String Function #5 - Find 'con' :  28\n",
      "String Function #6 - IndexOf 'con' :  28\n",
      "String Function #7 - Is AlphaNumeric? :  False\n",
      "String Function #8 - Replace 'con' with man :  Lorem ipsum dolor sit amet, mansectetur adipiscing elit\n",
      "String Function #9 - Split on Space :  ['Lorem', 'ipsum', 'dolor', 'sit', 'amet,', 'consectetur', 'adipiscing', 'elit']\n",
      "String Function #10 - StartsWith 'Rohan' :  False\n",
      "Modified String :      Lorem ipsum dolor sit amet, consectetur adipiscing elit     --\n",
      "String Function #11 - Remove Leading & Trailing Whitespaces :  Lorem ipsum dolor sit amet, consectetur adipiscing elit --\n",
      "Modified String :  Lorem IpsuM dolor sIt amEt, consecteTur AdiPiscing Elit\n",
      "String Function #12 - Swap Character Case :  lOREM iPSUm DOLOR SiT AMeT, CONSECTEtUR aDIpISCING eLIT\n",
      "String Function #13 - Format :  Hello Rohan Welcome!\n",
      "String Function #14 - Title - 1st Letter Capital :  Lorem Ipsum Dolor Sit Amet, Consectetur Adipiscing Elit\n",
      "\n",
      "Multi-Line String : \n",
      " Lorem ipsum dolor sit amet,\n",
      "consectetur adipiscing elit,\n",
      "sed do eiusmod tempor incididunt ut labore et dolore magna aliqua.\n",
      "\n",
      "String Function #15 - Split lines of multi-line String :  ['Lorem ipsum dolor sit amet,', 'consectetur adipiscing elit,', 'sed do eiusmod tempor incididunt ut labore et dolore magna aliqua.']\n"
     ]
    }
   ],
   "source": [
    "print( 'Original String : ', str )\n",
    "print( 'String Function #1 - Upper Case : ',  str.upper() )\n",
    "print( 'String Function #2 - Lower Case : ',  str.lower() )\n",
    "print( \"String Function #3 - Count alphabet 'a' : \",  str.count('a') )\n",
    "print( \"String Function #4 - EndsWith 'lit' : \",  str.endswith('lit') )\n",
    "print( \"String Function #5 - Find 'con' : \",  str.find('con') )\n",
    "print( \"String Function #6 - IndexOf 'con' : \",  str.index('con') )\n",
    "print( \"String Function #7 - Is AlphaNumeric? : \",  str.isalnum() )\n",
    "print( \"String Function #8 - Replace 'con' with man : \",  str.replace('con','man') )\n",
    "print( \"String Function #9 - Split on Space : \",  str.split() )\n",
    "print( \"String Function #10 - StartsWith 'Rohan' : \",  str.startswith('Rohan') )\n",
    "str2 = '    ' + str + '    ' \n",
    "print( 'Modified String : ', str2, '--' )\n",
    "print( \"String Function #11 - Remove Leading & Trailing Whitespaces : \",  str2.strip(), '--' )\n",
    "str3 = 'Lorem IpsuM dolor sIt amEt, consecteTur AdiPiscing Elit'\n",
    "print( 'Modified String : ', str3 )\n",
    "print( \"String Function #12 - Swap Character Case : \",  str3.swapcase() )\n",
    "\n",
    "name = 'Rohan'\n",
    "print( \"String Function #13 - Format : \", \"Hello {} Welcome!\".format(name) )\n",
    "print( \"String Function #14 - Title - 1st Letter Capital : \",  str.title() )\n",
    "\n",
    "mul_str = '''Lorem ipsum dolor sit amet,\n",
    "consectetur adipiscing elit,\n",
    "sed do eiusmod tempor incididunt ut labore et dolore magna aliqua.\n",
    "'''\n",
    "print( '\\nMulti-Line String : \\n', mul_str )\n",
    "print( \"String Function #15 - Split lines of multi-line String : \",  mul_str.splitlines() )"
   ]
  },
  {
   "cell_type": "markdown",
   "metadata": {},
   "source": [
    "****"
   ]
  },
  {
   "cell_type": "markdown",
   "metadata": {},
   "source": [
    "###### 3. Write a Python program to check if the given string is a Palindrome or Anagram or None of them. Display the message accordingly to the user."
   ]
  },
  {
   "cell_type": "code",
   "execution_count": 118,
   "metadata": {},
   "outputs": [],
   "source": [
    "def checkIfPalindrome(str1):\n",
    "    str1 = str1.lower()\n",
    "    list_str = list( zip(str1,str1[::-1]) )\n",
    "    \n",
    "    flag = True\n",
    "    for i in list_str:\n",
    "        if i[0] != i[1]:\n",
    "            flag = False\n",
    "            break\n",
    "    \n",
    "    return flag"
   ]
  },
  {
   "cell_type": "code",
   "execution_count": 119,
   "metadata": {},
   "outputs": [
    {
     "name": "stdout",
     "output_type": "stream",
     "text": [
      "Is 'Racecar' a Palindrome? True\n",
      "Is 'Rohan' a Palindrome? False\n",
      "Is 'Madam' a Palindrome? True\n"
     ]
    }
   ],
   "source": [
    "str2 = 'Racecar'\n",
    "print( \"Is '{}' a Palindrome? {}\".format( str2,checkIfPalindrome(str2) ) )\n",
    "\n",
    "str3 = 'Rohan'\n",
    "print( \"Is '{}' a Palindrome? {}\".format( str3,checkIfPalindrome(str3) ) )\n",
    "\n",
    "str4 = 'Madam'\n",
    "print( \"Is '{}' a Palindrome? {}\".format( str4,checkIfPalindrome(str4) ) )"
   ]
  },
  {
   "cell_type": "code",
   "execution_count": 120,
   "metadata": {},
   "outputs": [],
   "source": [
    "def checkIfAnagram(str1,str2):\n",
    "    str1 = str1.lower()\n",
    "    str2 = str2.lower()\n",
    "    if sorted(str1) == sorted(str2):\n",
    "        return True\n",
    "    else:\n",
    "        return False"
   ]
  },
  {
   "cell_type": "code",
   "execution_count": 122,
   "metadata": {},
   "outputs": [
    {
     "name": "stdout",
     "output_type": "stream",
     "text": [
      "Are 'Listen' and 'Silent' an Anagram? True\n",
      "Are 'Rohan' and 'Roger' an Anagram? False\n",
      "Are 'Stressed' and 'Desserts' an Anagram? True\n"
     ]
    }
   ],
   "source": [
    "s1 = 'Listen'\n",
    "s2 = 'Silent'\n",
    "print( \"Are '{}' and '{}' an Anagram? {}\".format( s1,s2,checkIfAnagram(s1,s2) ) )\n",
    "\n",
    "s3 = 'Rohan'\n",
    "s4 = 'Roger'\n",
    "print( \"Are '{}' and '{}' an Anagram? {}\".format( s3,s4,checkIfAnagram(s4,s3) ) )\n",
    "\n",
    "s5 = 'Stressed'\n",
    "s6 = 'Desserts'\n",
    "print( \"Are '{}' and '{}' an Anagram? {}\".format( s5,s6,checkIfAnagram(s5,s6) ) )"
   ]
  },
  {
   "cell_type": "markdown",
   "metadata": {},
   "source": [
    "****"
   ]
  },
  {
   "cell_type": "markdown",
   "metadata": {},
   "source": [
    "###### 4. Write a Python's user defined function that removes all the additional characters from the string and converts it finally to lower case using built-in lower(). eg: If the string is \"Dr. Darshan Ingle@AI-ML Trainer\", then the output be \"drdarshaningleaimltrainer\"."
   ]
  },
  {
   "cell_type": "code",
   "execution_count": 127,
   "metadata": {},
   "outputs": [],
   "source": [
    "import re"
   ]
  },
  {
   "cell_type": "code",
   "execution_count": 128,
   "metadata": {},
   "outputs": [],
   "source": [
    "def removeSpecialChars(str7):\n",
    "    return re.sub('[^A-Za-z0-9]+', '', str7 ).lower()"
   ]
  },
  {
   "cell_type": "code",
   "execution_count": 130,
   "metadata": {},
   "outputs": [
    {
     "name": "stdout",
     "output_type": "stream",
     "text": [
      "Original String :  Dr. Darshan Ingle@AI-ML Trainer\n",
      " Formatted String :  drdarshaningleaimltrainer\n",
      "Original String :  Bonjour@ Guten!Tag &Ahlan-bik #Shukran* Vielen>-Danke*= ;Merci<Beaucoup|\n",
      " Formatted String :  bonjourgutentagahlanbikshukranvielendankemercibeaucoup\n"
     ]
    }
   ],
   "source": [
    "str7 = \"Dr. Darshan Ingle@AI-ML Trainer\"\n",
    "\n",
    "print( 'Original String : ', str7 )\n",
    "print( ' Formatted String : ', removeSpecialChars(str7) )\n",
    "\n",
    "wordList = [ 'Bonjour@', 'Guten!Tag', '&Ahlan-bik', '#Shukran*', 'Vielen>-Danke*=', ';Merci<Beaucoup|' ]\n",
    "str8 = ' '.join(wordList)\n",
    "\n",
    "print( 'Original String : ', str8 )\n",
    "print( ' Formatted String : ', removeSpecialChars(str8) )"
   ]
  },
  {
   "cell_type": "markdown",
   "metadata": {},
   "source": [
    "****"
   ]
  }
 ],
 "metadata": {
  "kernelspec": {
   "display_name": "Python 3",
   "language": "python",
   "name": "python3"
  },
  "language_info": {
   "codemirror_mode": {
    "name": "ipython",
    "version": 3
   },
   "file_extension": ".py",
   "mimetype": "text/x-python",
   "name": "python",
   "nbconvert_exporter": "python",
   "pygments_lexer": "ipython3",
   "version": "3.7.7"
  }
 },
 "nbformat": 4,
 "nbformat_minor": 4
}
