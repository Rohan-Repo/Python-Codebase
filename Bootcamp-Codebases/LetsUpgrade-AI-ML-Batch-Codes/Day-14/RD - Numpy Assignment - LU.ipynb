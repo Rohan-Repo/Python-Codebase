{
 "cells": [
  {
   "cell_type": "code",
   "execution_count": 61,
   "metadata": {},
   "outputs": [],
   "source": [
    "import numpy as np"
   ]
  },
  {
   "cell_type": "markdown",
   "metadata": {},
   "source": [
    "# 1. Create a 3x3x3 array with random values "
   ]
  },
  {
   "cell_type": "code",
   "execution_count": 62,
   "metadata": {},
   "outputs": [
    {
     "data": {
      "text/plain": [
       "array([[[0.3179596 , 0.58087675, 0.16740102],\n",
       "        [0.08574162, 0.65576483, 0.83837048],\n",
       "        [0.12569102, 0.61180286, 0.44079821]],\n",
       "\n",
       "       [[0.79875431, 0.59139648, 0.27734997],\n",
       "        [0.94163179, 0.91858883, 0.40020562],\n",
       "        [0.31076716, 0.08240278, 0.31739216]],\n",
       "\n",
       "       [[0.31621484, 0.53757169, 0.78529669],\n",
       "        [0.94035473, 0.54265634, 0.17885005],\n",
       "        [0.50241841, 0.91404873, 0.80571149]]])"
      ]
     },
     "execution_count": 62,
     "metadata": {},
     "output_type": "execute_result"
    }
   ],
   "source": [
    "arr1 = np.random.random( (3,3,3) )\n",
    "arr1"
   ]
  },
  {
   "cell_type": "markdown",
   "metadata": {},
   "source": [
    "# 2.Create a 5x5 matrix with values 1,2,3,4 just below the diagonal"
   ]
  },
  {
   "cell_type": "code",
   "execution_count": 63,
   "metadata": {},
   "outputs": [
    {
     "data": {
      "text/plain": [
       "array([[0, 0, 0, 0, 0],\n",
       "       [1, 0, 0, 0, 0],\n",
       "       [0, 2, 0, 0, 0],\n",
       "       [0, 0, 3, 0, 0],\n",
       "       [0, 0, 0, 4, 0]])"
      ]
     },
     "execution_count": 63,
     "metadata": {},
     "output_type": "execute_result"
    }
   ],
   "source": [
    "arr2 = np.diag(1+np.arange(4), k = -1)\n",
    "\n",
    "arr2"
   ]
  },
  {
   "cell_type": "markdown",
   "metadata": {},
   "source": [
    "# 3.Create a 8x8 matrix and fill it with a checkerboard pattern"
   ]
  },
  {
   "cell_type": "code",
   "execution_count": 64,
   "metadata": {},
   "outputs": [
    {
     "data": {
      "text/plain": [
       "array([[0., 1., 0., 1., 0., 1., 0., 1.],\n",
       "       [1., 0., 1., 0., 1., 0., 1., 0.],\n",
       "       [0., 1., 0., 1., 0., 1., 0., 1.],\n",
       "       [1., 0., 1., 0., 1., 0., 1., 0.],\n",
       "       [0., 1., 0., 1., 0., 1., 0., 1.],\n",
       "       [1., 0., 1., 0., 1., 0., 1., 0.],\n",
       "       [0., 1., 0., 1., 0., 1., 0., 1.],\n",
       "       [1., 0., 1., 0., 1., 0., 1., 0.]])"
      ]
     },
     "execution_count": 64,
     "metadata": {},
     "output_type": "execute_result"
    }
   ],
   "source": [
    "arr3 = np.zeros ((8,8))\n",
    "\n",
    "arr3[1::2, ::2]= 1\n",
    "\n",
    "arr3[::2, 1::2] = 1\n",
    "\n",
    "arr3"
   ]
  },
  {
   "cell_type": "markdown",
   "metadata": {},
   "source": [
    "# 4. Normalize a 5x5 random matrix"
   ]
  },
  {
   "cell_type": "code",
   "execution_count": 65,
   "metadata": {},
   "outputs": [
    {
     "data": {
      "text/plain": [
       "array([[0.53346954, 0.61866525, 0.38765068, 0.40276751, 0.43205936],\n",
       "       [0.48234601, 0.21232357, 0.41003982, 0.38135407, 0.94328387],\n",
       "       [0.6559046 , 0.29471768, 0.40250583, 0.42129877, 0.30470339],\n",
       "       [0.        , 0.12981175, 0.30894276, 0.91213034, 0.07963337],\n",
       "       [0.55017472, 0.50564219, 1.        , 0.81551721, 0.25236004]])"
      ]
     },
     "execution_count": 65,
     "metadata": {},
     "output_type": "execute_result"
    }
   ],
   "source": [
    "arr5 = np.random.random((5,5))\n",
    "\n",
    "arr5max, arr5min = arr5.max(), arr5.min()\n",
    "\n",
    "arr5= (arr5-arr5min)/(arr5max-arr5min)\n",
    "\n",
    "arr5"
   ]
  },
  {
   "cell_type": "markdown",
   "metadata": {},
   "source": [
    "# 5.  How to find common values between two arrays?"
   ]
  },
  {
   "cell_type": "code",
   "execution_count": 66,
   "metadata": {},
   "outputs": [
    {
     "name": "stdout",
     "output_type": "stream",
     "text": [
      "Array #1 :  [ 1  7  3  9  4 17]\n",
      "Array #2 :  [ 1  7 14 87 34 17]\n",
      "Array Intersection :  [ 1  7 17]\n"
     ]
    }
   ],
   "source": [
    "arr1 = np.array( [1,7,3,9,4,17] )\n",
    "\n",
    "arr2 = np.array( [1,7,14,87,34,17] )\n",
    "\n",
    "arrIntersection = np.intersect1d( arr1, arr2 )\n",
    "\n",
    "print( 'Array #1 : ', arr1 )\n",
    "print( 'Array #2 : ', arr2 )\n",
    "print( 'Array Intersection : ', arrIntersection )"
   ]
  },
  {
   "cell_type": "markdown",
   "metadata": {},
   "source": [
    "# 6.How to get the dates of yesterday, today and tomorrow?"
   ]
  },
  {
   "cell_type": "code",
   "execution_count": 67,
   "metadata": {},
   "outputs": [
    {
     "name": "stdout",
     "output_type": "stream",
     "text": [
      "Todays Date :  2020-07-26\n",
      "Yesterdays Date :  2020-07-25\n",
      "Tomorrows Date :  2020-07-27\n"
     ]
    }
   ],
   "source": [
    "today     = np.datetime64('today', 'D')\n",
    "\n",
    "yesterday = np.datetime64('today', 'D') - np.timedelta64(1, 'D')\n",
    "\n",
    "tomorrow  = np.datetime64('today', 'D') + np.timedelta64(1, 'D')\n",
    "\n",
    "print( 'Todays Date : ', today )\n",
    "print( 'Yesterdays Date : ', yesterday )\n",
    "print( 'Tomorrows Date : ', tomorrow )"
   ]
  },
  {
   "cell_type": "markdown",
   "metadata": {},
   "source": [
    "# 7. Consider two random array A and B, check if they are equal"
   ]
  },
  {
   "cell_type": "code",
   "execution_count": 68,
   "metadata": {},
   "outputs": [
    {
     "name": "stdout",
     "output_type": "stream",
     "text": [
      "[[[0.34060091 0.80355245 0.54756551]\n",
      "  [0.12653267 0.37219346 0.6704988 ]\n",
      "  [0.1874453  0.63397201 0.71679805]]\n",
      "\n",
      " [[0.07856832 0.69711763 0.25837276]\n",
      "  [0.0346596  0.27531964 0.48353221]\n",
      "  [0.98077354 0.35906423 0.17050736]]\n",
      "\n",
      " [[0.18905294 0.82138544 0.71137282]\n",
      "  [0.27335455 0.81459149 0.66616627]\n",
      "  [0.20109481 0.87339143 0.8898254 ]]]\n",
      "\n",
      " ----\n",
      "\n",
      "[[[0.58538464 0.30439647 0.8871732 ]\n",
      "  [0.34950344 0.63405747 0.43153037]\n",
      "  [0.67142496 0.0184079  0.66615109]]\n",
      "\n",
      " [[0.98583153 0.53489083 0.8172225 ]\n",
      "  [0.66838772 0.5234696  0.1305576 ]\n",
      "  [0.83421331 0.30134551 0.16605503]]\n",
      "\n",
      " [[0.58830945 0.4068557  0.07946079]\n",
      "  [0.20869608 0.17288343 0.8410735 ]\n",
      "  [0.76174915 0.01338239 0.07716847]]]\n",
      "\n",
      " ----\n",
      "\n",
      "[[[False False False]\n",
      "  [False False False]\n",
      "  [False False False]]\n",
      "\n",
      " [[False False False]\n",
      "  [False False False]\n",
      "  [False False False]]\n",
      "\n",
      " [[False False False]\n",
      "  [False False False]\n",
      "  [False False False]]]\n"
     ]
    }
   ],
   "source": [
    "arr1 = np.random.random( (3,3,3) )\n",
    "\n",
    "arr2 = np.random.random( (3,3,3) )\n",
    "\n",
    "print( arr1 )\n",
    "print( '\\n ----\\n' )\n",
    "print( arr2 )\n",
    "print( '\\n ----\\n' )\n",
    "print( arr2 == arr1 )"
   ]
  },
  {
   "cell_type": "markdown",
   "metadata": {},
   "source": [
    "# 8.Create random vector of size 10 and replace the maximum value by 0 "
   ]
  },
  {
   "cell_type": "code",
   "execution_count": 69,
   "metadata": {},
   "outputs": [
    {
     "name": "stdout",
     "output_type": "stream",
     "text": [
      "Array Before :  [0.99755213 0.77277714 0.11362146 0.54297035 0.96788392 0.63864475\n",
      " 0.12275798 0.774219   0.81045967 0.23462959]\n",
      "Max Value :  0.997552131144241\n",
      "Array After :  [0.         0.77277714 0.11362146 0.54297035 0.96788392 0.63864475\n",
      " 0.12275798 0.774219   0.81045967 0.23462959]\n"
     ]
    }
   ],
   "source": [
    "arr7 = np.random.random( 10 )\n",
    "\n",
    "print( 'Array Before : ', arr7 )\n",
    "\n",
    "print( 'Max Value : ', arr7[ arr7.argmax() ] )\n",
    "\n",
    "arr7[ arr7.argmax() ] = 0\n",
    "\n",
    "print(  'Array After : ', arr7 )"
   ]
  },
  {
   "cell_type": "markdown",
   "metadata": {},
   "source": [
    "# 9. How to print all the values of an array?"
   ]
  },
  {
   "cell_type": "code",
   "execution_count": 70,
   "metadata": {},
   "outputs": [
    {
     "name": "stdout",
     "output_type": "stream",
     "text": [
      "Using Print Function : \n",
      " [[[0.70373104 0.14358853 0.93502696]\n",
      "  [0.55015422 0.48536115 0.70228291]\n",
      "  [0.93562283 0.8330909  0.25205575]]\n",
      "\n",
      " [[0.90070331 0.10222877 0.00166626]\n",
      "  [0.03017403 0.925878   0.29286848]\n",
      "  [0.62866836 0.14812876 0.24932633]]\n",
      "\n",
      " [[0.36242215 0.3859674  0.22250402]\n",
      "  [0.06739341 0.50573824 0.39092906]\n",
      "  [0.24795267 0.96320277 0.94914011]]]\n"
     ]
    }
   ],
   "source": [
    "arr1 = np.random.random( (3,3,3) )\n",
    "print( 'Using Print Function : \\n' , arr1 )"
   ]
  },
  {
   "cell_type": "markdown",
   "metadata": {},
   "source": [
    "# 10.Subtract the mean of each row of a matrix"
   ]
  },
  {
   "cell_type": "code",
   "execution_count": 71,
   "metadata": {},
   "outputs": [
    {
     "name": "stdout",
     "output_type": "stream",
     "text": [
      "Original matrix:\n",
      "\n",
      "[[0.12006048 0.71480812 0.23168953 0.95192827 0.43063112]\n",
      " [0.54126071 0.60157631 0.2186642  0.64186899 0.92435218]\n",
      " [0.24027896 0.58809596 0.7596283  0.80977507 0.28192028]\n",
      " [0.72795749 0.75049576 0.09635427 0.9327317  0.26639363]\n",
      " [0.66043257 0.59866675 0.68105302 0.30682925 0.6445522 ]]\n",
      "\n",
      " Matrix after Subtraction :\n",
      "\n",
      "[[-0.36976302  0.22498461 -0.25813398  0.46210476 -0.05919238]\n",
      " [-0.04428377  0.01603183 -0.36688027  0.05632451  0.3388077 ]\n",
      " [-0.29566076  0.05215625  0.22368859  0.27383536 -0.25401943]\n",
      " [ 0.17317092  0.19570919 -0.4584323   0.37794513 -0.28839294]\n",
      " [ 0.08212582  0.02035999  0.10274626 -0.27147751  0.06624544]]\n"
     ]
    }
   ],
   "source": [
    "print(\"Original matrix:\\n\")\n",
    "arr1 = np.random.rand(5,5)\n",
    "print(arr1)\n",
    "\n",
    "print(\"\\n Matrix after Subtraction :\\n\")\n",
    "\n",
    "arrSub = arr1 - arr1.mean(axis=1, keepdims=True)\n",
    "\n",
    "print(arrSub)"
   ]
  },
  {
   "cell_type": "markdown",
   "metadata": {},
   "source": [
    "# 11.Consider a given vector, how to add 1 to each element indexed by a second vector (be careful with repeated indices)? "
   ]
  },
  {
   "cell_type": "code",
   "execution_count": 72,
   "metadata": {},
   "outputs": [
    {
     "name": "stdout",
     "output_type": "stream",
     "text": [
      " Original Array :  [1. 1. 1. 1. 1. 1. 1. 1. 1. 1.]\n",
      " Modified Array :  [3. 3. 1. 6. 2. 2. 2. 2. 6. 3.]\n"
     ]
    }
   ],
   "source": [
    "arr1 = np.ones(10)\n",
    "\n",
    "print( ' Original Array : ', arr1 )\n",
    "\n",
    "pos = np.random.randint(0,len(arr1),20)\n",
    "\n",
    "np.add.at( arr1, pos, 1 )\n",
    "\n",
    "print( ' Modified Array : ', arr1 )"
   ]
  },
  {
   "cell_type": "markdown",
   "metadata": {},
   "source": [
    "# 12.How to get the diagonal of a dot product?"
   ]
  },
  {
   "cell_type": "code",
   "execution_count": 73,
   "metadata": {},
   "outputs": [
    {
     "name": "stdout",
     "output_type": "stream",
     "text": [
      "Array 1 : \n",
      " [[0.99907749 0.48612756 0.90324106 0.82801217 0.07523656]\n",
      " [0.71980211 0.70912777 0.80885259 0.74129392 0.9394245 ]\n",
      " [0.86643584 0.61076881 0.93058299 0.75165972 0.70139239]\n",
      " [0.34400793 0.10419394 0.19544204 0.16390312 0.79923507]\n",
      " [0.06884648 0.14930614 0.26547046 0.62054049 0.73676578]]\n",
      "Array 2 : \n",
      " [[0.50743089 0.14452667 0.29382455 0.51808151 0.04178685]\n",
      " [0.08257873 0.52127047 0.07088144 0.9753526  0.70335735]\n",
      " [0.19503892 0.35080455 0.25737351 0.69577329 0.34311176]\n",
      " [0.34384337 0.18890073 0.95044276 0.83440366 0.39109554]\n",
      " [0.59868558 0.66414817 0.67015439 0.15834136 0.09491788]]\n",
      "Dot Product : \n",
      " [[1.05302327 0.92103869 1.39787951 2.32300979 1.02455548]\n",
      " [1.39887534 1.52137517 1.80405364 2.39463191 1.18546025]\n",
      " [1.34995944 1.37786912 1.72183042 2.43032116 1.14563376]\n",
      " [0.75613077 0.73436542 0.85015641 0.67914665 0.29468252]\n",
      " [0.7535012  0.78744948 1.18267192 1.00044322 0.51160135]]\n",
      "Dot Product Diagonal : \n",
      " [1.05302327 1.52137517 1.72183042 0.67914665 0.51160135]\n"
     ]
    }
   ],
   "source": [
    "mat1 = np.random.uniform(0,1,(5,5))\n",
    "\n",
    "mat2 = np.random.uniform(0,1,(5,5))\n",
    "\n",
    "print( 'Array 1 : \\n', mat1 )\n",
    "print( 'Array 2 : \\n', mat2 )\n",
    "print( 'Dot Product : \\n', np.dot(mat1, mat2) )\n",
    "\n",
    "diagArr =  np.diag( np.dot(mat1, mat2) )\n",
    "print( 'Dot Product Diagonal : \\n', diagArr )\n"
   ]
  },
  {
   "cell_type": "markdown",
   "metadata": {},
   "source": [
    "# 13.How to find the most frequent value in an array?"
   ]
  },
  {
   "cell_type": "code",
   "execution_count": 74,
   "metadata": {},
   "outputs": [
    {
     "name": "stdout",
     "output_type": "stream",
     "text": [
      " Numpy Array :  [0 1 0 1 0 1 1 1 0 0 0 1 0 0 1 0 0]\n",
      "Most Frequest Value :  0\n"
     ]
    }
   ],
   "source": [
    "arr5 = np.random.randint(0,2,17)\n",
    "\n",
    "print( ' Numpy Array : ', arr5 )\n",
    "\n",
    "print( 'Most Frequest Value : ', np.bincount(arr5).argmax() )\n"
   ]
  },
  {
   "cell_type": "markdown",
   "metadata": {},
   "source": [
    "# 14.How to get the n largest values of an array"
   ]
  },
  {
   "cell_type": "code",
   "execution_count": 75,
   "metadata": {},
   "outputs": [
    {
     "name": "stdout",
     "output_type": "stream",
     "text": [
      "Original Array :  [14 16 11  3  5 15  2  1  0  4  6 10 13 12  7  9  8]\n",
      "\n",
      " Top  5  largest value :  [12 13 14 15 16]\n"
     ]
    }
   ],
   "source": [
    "arr6 = np.arange(17)\n",
    "\n",
    "np.random.shuffle(arr6)\n",
    "\n",
    "n = 5\n",
    "\n",
    "print( 'Original Array : ', arr6 )\n",
    "\n",
    "print ( '\\n Top ', n, ' largest value : ', arr6[np.argsort(arr6)[-n:]] )"
   ]
  },
  {
   "cell_type": "markdown",
   "metadata": {},
   "source": [
    "# 15.How to create a record array from a regular array?"
   ]
  },
  {
   "cell_type": "code",
   "execution_count": 76,
   "metadata": {},
   "outputs": [
    {
     "name": "stdout",
     "output_type": "stream",
     "text": [
      "Array #1 :  [1 2 3 4]\n",
      "Array #2 :  ['Red' 'Green' 'White' 'Orange']\n",
      "Array #3 :  [12.2 15.  20.  40. ]\n",
      "Record Array : \n",
      " [(1, 'Red', 12.2) (2, 'Green', 15. ) (3, 'White', 20. )\n",
      " (4, 'Orange', 40. )]\n"
     ]
    }
   ],
   "source": [
    "a1=np.array([1,2,3,4])\n",
    "a2=np.array(['Red','Green','White','Orange'])\n",
    "a3=np.array([12.20,15,20,40])\n",
    "result= np.core.records.fromarrays([a1, a2, a3],names='a,b,c')\n",
    "\n",
    "print( 'Array #1 : ', a1 )\n",
    "print( 'Array #2 : ', a2 )\n",
    "print( 'Array #3 : ', a3 )\n",
    "\n",
    "print( 'Record Array : \\n', result )"
   ]
  }
 ],
 "metadata": {
  "kernelspec": {
   "display_name": "Python 3",
   "language": "python",
   "name": "python3"
  },
  "language_info": {
   "codemirror_mode": {
    "name": "ipython",
    "version": 3
   },
   "file_extension": ".py",
   "mimetype": "text/x-python",
   "name": "python",
   "nbconvert_exporter": "python",
   "pygments_lexer": "ipython3",
   "version": "3.7.7"
  }
 },
 "nbformat": 4,
 "nbformat_minor": 2
}
