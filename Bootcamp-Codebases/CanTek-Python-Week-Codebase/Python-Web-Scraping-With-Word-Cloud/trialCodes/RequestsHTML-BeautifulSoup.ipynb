{
 "cells": [
  {
   "cell_type": "code",
   "execution_count": 1,
   "id": "642ae9b8-2055-41e9-af95-5c45315d816d",
   "metadata": {},
   "outputs": [],
   "source": [
    "from requests_html import HTMLSession"
   ]
  },
  {
   "cell_type": "code",
   "execution_count": 3,
   "id": "726c72ad-5ffa-4fea-b0cb-a087f132b355",
   "metadata": {},
   "outputs": [],
   "source": [
    "session = HTMLSession()"
   ]
  },
  {
   "cell_type": "code",
   "execution_count": 4,
   "id": "54a1c4ff-1c7c-4ed2-a1ab-2daab8ee6e02",
   "metadata": {},
   "outputs": [],
   "source": [
    "response = session.get( 'https://levelup.gitconnected.com/13-sql-statements-for-90-of-your-data-science-tasks-27902996dc2b' )"
   ]
  },
  {
   "cell_type": "code",
   "execution_count": 5,
   "id": "cc4fb39a-51aa-4c48-a5f9-f24642b7d738",
   "metadata": {},
   "outputs": [],
   "source": [
    "html_content = response.html"
   ]
  },
  {
   "cell_type": "code",
   "execution_count": 6,
   "id": "2bd04427-6486-4515-8cd9-1845c33b4423",
   "metadata": {},
   "outputs": [
    {
     "data": {
      "text/plain": [
       "<HTML url='https://levelup.gitconnected.com/13-sql-statements-for-90-of-your-data-science-tasks-27902996dc2b?gi=585a19e187a3'>"
      ]
     },
     "execution_count": 6,
     "metadata": {},
     "output_type": "execute_result"
    }
   ],
   "source": [
    "print( 'URL : ', html_content.url )"
   ]
  },
  {
   "cell_type": "code",
   "execution_count": 8,
   "id": "61ab2a91-c0e5-4378-9444-90737d317415",
   "metadata": {},
   "outputs": [
    {
     "data": {
      "text/plain": [
       "{'/i-spent-30-days-studying-a-programmer-who-built-a-230-billion-company-after-quitting-his-9-5-8ff4ebbe0346?responsesOpen=true&sortBy=REVERSE_CHRON&source=author_recirc-----27902996dc2b----1---------------------eda07f58_e983_4fb0_81e3_4310ccd93940-------',\n",
       " '/i-spent-30-days-studying-a-programmer-who-built-a-230-billion-company-after-quitting-his-9-5-8ff4ebbe0346?source=author_recirc-----27902996dc2b----1---------------------eda07f58_e983_4fb0_81e3_4310ccd93940-------',\n",
       " '/use-git-like-a-senior-engineer-ef6d741c898e?responsesOpen=true&sortBy=REVERSE_CHRON&source=author_recirc-----27902996dc2b----2---------------------eda07f58_e983_4fb0_81e3_4310ccd93940-------',\n",
       " '/use-git-like-a-senior-engineer-ef6d741c898e?responsesOpen=true&sortBy=REVERSE_CHRON&source=read_next_recirc-----27902996dc2b----0---------------------38c6e3ce_a457_41ca_8900_85be9c30838f-------',\n",
       " '/use-git-like-a-senior-engineer-ef6d741c898e?source=author_recirc-----27902996dc2b----2---------------------eda07f58_e983_4fb0_81e3_4310ccd93940-------',\n",
       " '/use-git-like-a-senior-engineer-ef6d741c898e?source=read_next_recirc-----27902996dc2b----0---------------------38c6e3ce_a457_41ca_8900_85be9c30838f-------',\n",
       " 'https://about.medium.com/creators/?source=post_page-----27902996dc2b--------------------------------',\n",
       " 'https://aigents.co/learn',\n",
       " 'https://aigents.co/learn/roadmaps/intro',\n",
       " 'https://blog.medium.com/?source=post_page-----27902996dc2b--------------------------------',\n",
       " 'https://community.aigents.co/spaces/9010170/',\n",
       " 'https://help.medium.com/hc/en-us?source=post_page-----27902996dc2b--------------------------------',\n",
       " 'https://jacobistyping.medium.com/?source=author_recirc-----27902996dc2b----2---------------------eda07f58_e983_4fb0_81e3_4310ccd93940-------',\n",
       " 'https://jacobistyping.medium.com/?source=read_next_recirc-----27902996dc2b----0---------------------38c6e3ce_a457_41ca_8900_85be9c30838f-------',\n",
       " 'https://kristennwalters.medium.com/?source=read_next_recirc-----27902996dc2b----2---------------------38c6e3ce_a457_41ca_8900_85be9c30838f-------',\n",
       " 'https://levelup.gitconnected.com/?source=author_recirc-----27902996dc2b----1---------------------eda07f58_e983_4fb0_81e3_4310ccd93940-------',\n",
       " 'https://levelup.gitconnected.com/?source=author_recirc-----27902996dc2b----2---------------------eda07f58_e983_4fb0_81e3_4310ccd93940-------',\n",
       " 'https://levelup.gitconnected.com/?source=post_page-----27902996dc2b--------------------------------',\n",
       " 'https://levelup.gitconnected.com/?source=read_next_recirc-----27902996dc2b----0---------------------38c6e3ce_a457_41ca_8900_85be9c30838f-------',\n",
       " 'https://lnkd.in/dXeg3KPW',\n",
       " 'https://lnkd.in/dtdUYBrM',\n",
       " 'https://medium.com/?source=---two_column_layout_nav----------------------------------',\n",
       " 'https://medium.com/?source=post_page-----27902996dc2b--------------------------------',\n",
       " 'https://medium.com/@ben.putney/list/predictive-modeling-w-python-e3668ea008e1?source=read_next_recirc-----27902996dc2b--------------------------------',\n",
       " 'https://medium.com/@coffee_bytes/list/its-never-too-late-or-early-to-start-something-eb57cf05d028?source=read_next_recirc-----27902996dc2b--------------------------------',\n",
       " 'https://medium.com/@eddiebarth/list/general-coding-knowledge-f2d429d4f0cd?source=read_next_recirc-----27902996dc2b--------------------------------',\n",
       " 'https://medium.com/@mattchapmanmsc?source=read_next_recirc-----27902996dc2b----0---------------------38c6e3ce_a457_41ca_8900_85be9c30838f-------',\n",
       " 'https://medium.com/@thecodingdiaries?source=read_next_recirc-----27902996dc2b----3---------------------38c6e3ce_a457_41ca_8900_85be9c30838f-------',\n",
       " 'https://medium.com/@william.dai/list/newreadinglist-d8e941a8265f?source=read_next_recirc-----27902996dc2b--------------------------------',\n",
       " 'https://medium.com/about?autoplay=1&source=post_page-----27902996dc2b--------------------------------',\n",
       " 'https://medium.com/business?source=post_page-----27902996dc2b--------------------------------',\n",
       " 'https://medium.com/jobs-at-medium/work-at-medium-959d1a85284e?source=post_page-----27902996dc2b--------------------------------',\n",
       " 'https://medium.com/m/signin?actionUrl=%2F_%2Fapi%2Fsubscriptions%2Fnewsletters%2Fdb3f953048ab&operation=register&redirect=https%3A%2F%2Flevelup.gitconnected.com%2F13-sql-statements-for-90-of-your-data-science-tasks-27902996dc2b&newsletterV3=859af34925b7&newsletterV3Id=db3f953048ab&user=Youssef+Hosni&userId=859af34925b7&source=-----27902996dc2b---------------------subscribe_user-----------',\n",
       " 'https://medium.com/m/signin?actionUrl=https%3A%2F%2Fmedium.com%2F_%2Fbookmark%2Fp%2F27902996dc2b&operation=register&redirect=https%3A%2F%2Flevelup.gitconnected.com%2F13-sql-statements-for-90-of-your-data-science-tasks-27902996dc2b&source=--------------------------bookmark_footer-----------',\n",
       " 'https://medium.com/m/signin?actionUrl=https%3A%2F%2Fmedium.com%2F_%2Fbookmark%2Fp%2F27902996dc2b&operation=register&redirect=https%3A%2F%2Flevelup.gitconnected.com%2F13-sql-statements-for-90-of-your-data-science-tasks-27902996dc2b&source=-----27902996dc2b---------------------bookmark_footer-----------',\n",
       " 'https://medium.com/m/signin?actionUrl=https%3A%2F%2Fmedium.com%2F_%2Fbookmark%2Fp%2F28cfd2b4a76b&operation=register&redirect=https%3A%2F%2Fmedium.com%2Fthe-ai-publishing-experiment%2F5-ways-im-using-ai-to-make-money-in-2023-28cfd2b4a76b&source=-----27902996dc2b----2-----------------bookmark_preview----38c6e3ce_a457_41ca_8900_85be9c30838f-------',\n",
       " 'https://medium.com/m/signin?actionUrl=https%3A%2F%2Fmedium.com%2F_%2Fbookmark%2Fp%2F513cc821bfe4&operation=register&redirect=https%3A%2F%2Ftowardsdatascience.com%2Fthe-portfolio-that-got-me-a-data-scientist-job-513cc821bfe4&source=-----27902996dc2b----0-----------------bookmark_preview----38c6e3ce_a457_41ca_8900_85be9c30838f-------',\n",
       " 'https://medium.com/m/signin?actionUrl=https%3A%2F%2Fmedium.com%2F_%2Fbookmark%2Fp%2F6d1465001518&operation=register&redirect=https%3A%2F%2Fmedium.com%2Fmlearning-ai%2Fmastering-hypothesis-testing-for-data-science-interviews-6d1465001518&source=-----27902996dc2b----0-----------------bookmark_preview----eda07f58_e983_4fb0_81e3_4310ccd93940-------',\n",
       " 'https://medium.com/m/signin?actionUrl=https%3A%2F%2Fmedium.com%2F_%2Fbookmark%2Fp%2F8ff4ebbe0346&operation=register&redirect=https%3A%2F%2Flevelup.gitconnected.com%2Fi-spent-30-days-studying-a-programmer-who-built-a-230-billion-company-after-quitting-his-9-5-8ff4ebbe0346&source=-----27902996dc2b----1-----------------bookmark_preview----eda07f58_e983_4fb0_81e3_4310ccd93940-------',\n",
       " 'https://medium.com/m/signin?actionUrl=https%3A%2F%2Fmedium.com%2F_%2Fbookmark%2Fp%2F9c2df7906516&operation=register&redirect=https%3A%2F%2Fpub.towardsai.net%2Fhow-to-read-machine-learning-papers-effectively-9c2df7906516&source=-----27902996dc2b----3-----------------bookmark_preview----eda07f58_e983_4fb0_81e3_4310ccd93940-------',\n",
       " 'https://medium.com/m/signin?actionUrl=https%3A%2F%2Fmedium.com%2F_%2Fbookmark%2Fp%2Fb22210ba343&operation=register&redirect=https%3A%2F%2Fmedium.com%2Fthe-coding-diaries%2Fwhy-experienced-programmers-fail-coding-interviews-b22210ba343&source=-----27902996dc2b----3-----------------bookmark_preview----38c6e3ce_a457_41ca_8900_85be9c30838f-------',\n",
       " 'https://medium.com/m/signin?actionUrl=https%3A%2F%2Fmedium.com%2F_%2Fbookmark%2Fp%2Fde3f0d6b1771&operation=register&redirect=https%3A%2F%2Fmedium.com%2Fpipeline-a-data-engineering-resource%2Fcreating-the-dashboard-that-got-me-a-data-analyst-job-offer-de3f0d6b1771&source=-----27902996dc2b----1-----------------bookmark_preview----38c6e3ce_a457_41ca_8900_85be9c30838f-------',\n",
       " 'https://medium.com/m/signin?actionUrl=https%3A%2F%2Fmedium.com%2F_%2Fbookmark%2Fp%2Fef6d741c898e&operation=register&redirect=https%3A%2F%2Flevelup.gitconnected.com%2Fuse-git-like-a-senior-engineer-ef6d741c898e&source=-----27902996dc2b----0-----------------bookmark_preview----38c6e3ce_a457_41ca_8900_85be9c30838f-------',\n",
       " 'https://medium.com/m/signin?actionUrl=https%3A%2F%2Fmedium.com%2F_%2Fbookmark%2Fp%2Fef6d741c898e&operation=register&redirect=https%3A%2F%2Flevelup.gitconnected.com%2Fuse-git-like-a-senior-engineer-ef6d741c898e&source=-----27902996dc2b----2-----------------bookmark_preview----eda07f58_e983_4fb0_81e3_4310ccd93940-------',\n",
       " 'https://medium.com/m/signin?actionUrl=https%3A%2F%2Fmedium.com%2F_%2Fbookmark%2Fp%2Ff376682b4e21&operation=register&redirect=https%3A%2F%2Fmedium.com%2Fpipeline-a-data-engineering-resource%2F3-data-science-projects-that-got-me-12-interviews-and-1-that-got-me-in-trouble-f376682b4e21&source=-----27902996dc2b----1-----------------bookmark_preview----38c6e3ce_a457_41ca_8900_85be9c30838f-------',\n",
       " 'https://medium.com/m/signin?actionUrl=https%3A%2F%2Fmedium.com%2F_%2Fsubscribe%2Fuser%2F859af34925b7&operation=register&redirect=https%3A%2F%2Flevelup.gitconnected.com%2F13-sql-statements-for-90-of-your-data-science-tasks-27902996dc2b&user=Youssef+Hosni&userId=859af34925b7&source=post_page-859af34925b7----27902996dc2b---------------------follow_profile-----------',\n",
       " 'https://medium.com/m/signin?actionUrl=https%3A%2F%2Fmedium.com%2F_%2Fsubscribe%2Fuser%2F859af34925b7&operation=register&redirect=https%3A%2F%2Flevelup.gitconnected.com%2F13-sql-statements-for-90-of-your-data-science-tasks-27902996dc2b&user=Youssef+Hosni&userId=859af34925b7&source=post_page-859af34925b7----27902996dc2b---------------------post_header-----------',\n",
       " 'https://medium.com/m/signin?actionUrl=https%3A%2F%2Fmedium.com%2F_%2Fvote%2Fgitconnected%2F27902996dc2b&operation=register&redirect=https%3A%2F%2Flevelup.gitconnected.com%2F13-sql-statements-for-90-of-your-data-science-tasks-27902996dc2b&user=Youssef+Hosni&userId=859af34925b7&source=-----27902996dc2b---------------------clap_footer-----------',\n",
       " 'https://medium.com/m/signin?actionUrl=https%3A%2F%2Fmedium.com%2F_%2Fvote%2Fgitconnected%2F8ff4ebbe0346&operation=register&redirect=https%3A%2F%2Flevelup.gitconnected.com%2Fi-spent-30-days-studying-a-programmer-who-built-a-230-billion-company-after-quitting-his-9-5-8ff4ebbe0346&user=Sanjay+Priyadarshi&userId=d8fc5db9b016&source=-----8ff4ebbe0346----1-----------------clap_footer----eda07f58_e983_4fb0_81e3_4310ccd93940-------',\n",
       " 'https://medium.com/m/signin?actionUrl=https%3A%2F%2Fmedium.com%2F_%2Fvote%2Fgitconnected%2Fef6d741c898e&operation=register&redirect=https%3A%2F%2Flevelup.gitconnected.com%2Fuse-git-like-a-senior-engineer-ef6d741c898e&user=Jacob+Bennett&userId=630ab5ffdf27&source=-----ef6d741c898e----0-----------------clap_footer----38c6e3ce_a457_41ca_8900_85be9c30838f-------',\n",
       " 'https://medium.com/m/signin?actionUrl=https%3A%2F%2Fmedium.com%2F_%2Fvote%2Fgitconnected%2Fef6d741c898e&operation=register&redirect=https%3A%2F%2Flevelup.gitconnected.com%2Fuse-git-like-a-senior-engineer-ef6d741c898e&user=Jacob+Bennett&userId=630ab5ffdf27&source=-----ef6d741c898e----2-----------------clap_footer----eda07f58_e983_4fb0_81e3_4310ccd93940-------',\n",
       " 'https://medium.com/m/signin?actionUrl=https%3A%2F%2Fmedium.com%2F_%2Fvote%2Fmlearning-ai%2F6d1465001518&operation=register&redirect=https%3A%2F%2Fmedium.com%2Fmlearning-ai%2Fmastering-hypothesis-testing-for-data-science-interviews-6d1465001518&user=Youssef+Hosni&userId=859af34925b7&source=-----6d1465001518----0-----------------clap_footer----eda07f58_e983_4fb0_81e3_4310ccd93940-------',\n",
       " 'https://medium.com/m/signin?actionUrl=https%3A%2F%2Fmedium.com%2F_%2Fvote%2Fpipeline-a-data-engineering-resource%2Fde3f0d6b1771&operation=register&redirect=https%3A%2F%2Fmedium.com%2Fpipeline-a-data-engineering-resource%2Fcreating-the-dashboard-that-got-me-a-data-analyst-job-offer-de3f0d6b1771&user=Zach+Quinn&userId=4364d136bdda&source=-----de3f0d6b1771----1-----------------clap_footer----38c6e3ce_a457_41ca_8900_85be9c30838f-------',\n",
       " 'https://medium.com/m/signin?actionUrl=https%3A%2F%2Fmedium.com%2F_%2Fvote%2Fpipeline-a-data-engineering-resource%2Ff376682b4e21&operation=register&redirect=https%3A%2F%2Fmedium.com%2Fpipeline-a-data-engineering-resource%2F3-data-science-projects-that-got-me-12-interviews-and-1-that-got-me-in-trouble-f376682b4e21&user=Zach+Quinn&userId=4364d136bdda&source=-----f376682b4e21----1-----------------clap_footer----38c6e3ce_a457_41ca_8900_85be9c30838f-------',\n",
       " 'https://medium.com/m/signin?actionUrl=https%3A%2F%2Fmedium.com%2F_%2Fvote%2Fthe-ai-publishing-experiment%2F28cfd2b4a76b&operation=register&redirect=https%3A%2F%2Fmedium.com%2Fthe-ai-publishing-experiment%2F5-ways-im-using-ai-to-make-money-in-2023-28cfd2b4a76b&user=Kristen+Walters&userId=3396d54427de&source=-----28cfd2b4a76b----2-----------------clap_footer----38c6e3ce_a457_41ca_8900_85be9c30838f-------',\n",
       " 'https://medium.com/m/signin?actionUrl=https%3A%2F%2Fmedium.com%2F_%2Fvote%2Fthe-coding-diaries%2Fb22210ba343&operation=register&redirect=https%3A%2F%2Fmedium.com%2Fthe-coding-diaries%2Fwhy-experienced-programmers-fail-coding-interviews-b22210ba343&user=The+Coding+Diaries&userId=f37939ea54a&source=-----b22210ba343----3-----------------clap_footer----38c6e3ce_a457_41ca_8900_85be9c30838f-------',\n",
       " 'https://medium.com/m/signin?actionUrl=https%3A%2F%2Fmedium.com%2F_%2Fvote%2Ftowards-artificial-intelligence%2F9c2df7906516&operation=register&redirect=https%3A%2F%2Fpub.towardsai.net%2Fhow-to-read-machine-learning-papers-effectively-9c2df7906516&user=Youssef+Hosni&userId=859af34925b7&source=-----9c2df7906516----3-----------------clap_footer----eda07f58_e983_4fb0_81e3_4310ccd93940-------',\n",
       " 'https://medium.com/m/signin?actionUrl=https%3A%2F%2Fmedium.com%2F_%2Fvote%2Ftowards-data-science%2F513cc821bfe4&operation=register&redirect=https%3A%2F%2Ftowardsdatascience.com%2Fthe-portfolio-that-got-me-a-data-scientist-job-513cc821bfe4&user=Matt+Chapman&userId=bf7d13fc53db&source=-----513cc821bfe4----0-----------------clap_footer----38c6e3ce_a457_41ca_8900_85be9c30838f-------',\n",
       " 'https://medium.com/m/signin?operation=login&redirect=https%3A%2F%2Flevelup.gitconnected.com%2F13-sql-statements-for-90-of-your-data-science-tasks-27902996dc2b&source=post_page---two_column_layout_nav-----------------------global_nav-----------',\n",
       " 'https://medium.com/m/signin?operation=register&redirect=https%3A%2F%2Flevelup.gitconnected.com%2F13-sql-statements-for-90-of-your-data-science-tasks-27902996dc2b&source=post_page---two_column_layout_nav-----------------------global_nav-----------',\n",
       " 'https://medium.com/m/signin?operation=register&redirect=https%3A%2F%2Fmedium.com%2Fnew-story&source=---two_column_layout_nav-----------------------new_post_topnav-----------',\n",
       " 'https://medium.com/mlearning-ai/mastering-hypothesis-testing-for-data-science-interviews-6d1465001518?responsesOpen=true&sortBy=REVERSE_CHRON&source=author_recirc-----27902996dc2b----0---------------------eda07f58_e983_4fb0_81e3_4310ccd93940-------',\n",
       " 'https://medium.com/mlearning-ai/mastering-hypothesis-testing-for-data-science-interviews-6d1465001518?source=author_recirc-----27902996dc2b----0---------------------eda07f58_e983_4fb0_81e3_4310ccd93940-------',\n",
       " 'https://medium.com/mlearning-ai?source=author_recirc-----27902996dc2b----0---------------------eda07f58_e983_4fb0_81e3_4310ccd93940-------',\n",
       " 'https://medium.com/pipeline-a-data-engineering-resource/3-data-science-projects-that-got-me-12-interviews-and-1-that-got-me-in-trouble-f376682b4e21?responsesOpen=true&sortBy=REVERSE_CHRON&source=read_next_recirc-----27902996dc2b----1---------------------38c6e3ce_a457_41ca_8900_85be9c30838f-------',\n",
       " 'https://medium.com/pipeline-a-data-engineering-resource/3-data-science-projects-that-got-me-12-interviews-and-1-that-got-me-in-trouble-f376682b4e21?source=read_next_recirc-----27902996dc2b----1---------------------38c6e3ce_a457_41ca_8900_85be9c30838f-------',\n",
       " 'https://medium.com/pipeline-a-data-engineering-resource/creating-the-dashboard-that-got-me-a-data-analyst-job-offer-de3f0d6b1771?responsesOpen=true&sortBy=REVERSE_CHRON&source=read_next_recirc-----27902996dc2b----1---------------------38c6e3ce_a457_41ca_8900_85be9c30838f-------',\n",
       " 'https://medium.com/pipeline-a-data-engineering-resource/creating-the-dashboard-that-got-me-a-data-analyst-job-offer-de3f0d6b1771?source=read_next_recirc-----27902996dc2b----1---------------------38c6e3ce_a457_41ca_8900_85be9c30838f-------',\n",
       " 'https://medium.com/pipeline-a-data-engineering-resource?source=read_next_recirc-----27902996dc2b----1---------------------38c6e3ce_a457_41ca_8900_85be9c30838f-------',\n",
       " 'https://medium.com/search?source=---two_column_layout_nav----------------------------------',\n",
       " 'https://medium.com/the-ai-publishing-experiment/5-ways-im-using-ai-to-make-money-in-2023-28cfd2b4a76b?responsesOpen=true&sortBy=REVERSE_CHRON&source=read_next_recirc-----27902996dc2b----2---------------------38c6e3ce_a457_41ca_8900_85be9c30838f-------',\n",
       " 'https://medium.com/the-ai-publishing-experiment/5-ways-im-using-ai-to-make-money-in-2023-28cfd2b4a76b?source=read_next_recirc-----27902996dc2b----2---------------------38c6e3ce_a457_41ca_8900_85be9c30838f-------',\n",
       " 'https://medium.com/the-ai-publishing-experiment?source=read_next_recirc-----27902996dc2b----2---------------------38c6e3ce_a457_41ca_8900_85be9c30838f-------',\n",
       " 'https://medium.com/the-coding-diaries/why-experienced-programmers-fail-coding-interviews-b22210ba343?responsesOpen=true&sortBy=REVERSE_CHRON&source=read_next_recirc-----27902996dc2b----3---------------------38c6e3ce_a457_41ca_8900_85be9c30838f-------',\n",
       " 'https://medium.com/the-coding-diaries/why-experienced-programmers-fail-coding-interviews-b22210ba343?source=read_next_recirc-----27902996dc2b----3---------------------38c6e3ce_a457_41ca_8900_85be9c30838f-------',\n",
       " 'https://medium.com/the-coding-diaries?source=read_next_recirc-----27902996dc2b----3---------------------38c6e3ce_a457_41ca_8900_85be9c30838f-------',\n",
       " 'https://medium.statuspage.io/?source=post_page-----27902996dc2b--------------------------------',\n",
       " 'https://policy.medium.com/medium-privacy-policy-f03bf92035c9?source=post_page-----27902996dc2b--------------------------------',\n",
       " 'https://policy.medium.com/medium-terms-of-service-9db0094a1e0f?source=post_page-----27902996dc2b--------------------------------',\n",
       " 'https://priyadarshisanjay.medium.com/?source=author_recirc-----27902996dc2b----1---------------------eda07f58_e983_4fb0_81e3_4310ccd93940-------',\n",
       " 'https://pub.towardsai.net/?source=author_recirc-----27902996dc2b----3---------------------eda07f58_e983_4fb0_81e3_4310ccd93940-------',\n",
       " 'https://pub.towardsai.net/how-to-read-machine-learning-papers-effectively-9c2df7906516?responsesOpen=true&sortBy=REVERSE_CHRON&source=author_recirc-----27902996dc2b----3---------------------eda07f58_e983_4fb0_81e3_4310ccd93940-------',\n",
       " 'https://pub.towardsai.net/how-to-read-machine-learning-papers-effectively-9c2df7906516?source=author_recirc-----27902996dc2b----3---------------------eda07f58_e983_4fb0_81e3_4310ccd93940-------',\n",
       " 'https://rsci.app.link/?%24canonical_url=https%3A%2F%2Fmedium.com%2Fp%2F27902996dc2b&%7Efeature=LoOpenInAppButton&%7Echannel=ShowPostUnderCollection&source=---two_column_layout_nav----------------------------------',\n",
       " 'https://speechify.com/medium?source=post_page-----27902996dc2b--------------------------------',\n",
       " 'https://topmate.io/youssef_hosni',\n",
       " 'https://towardsdatascience.com/?source=read_next_recirc-----27902996dc2b----0---------------------38c6e3ce_a457_41ca_8900_85be9c30838f-------',\n",
       " 'https://towardsdatascience.com/the-portfolio-that-got-me-a-data-scientist-job-513cc821bfe4?responsesOpen=true&sortBy=REVERSE_CHRON&source=read_next_recirc-----27902996dc2b----0---------------------38c6e3ce_a457_41ca_8900_85be9c30838f-------',\n",
       " 'https://towardsdatascience.com/the-portfolio-that-got-me-a-data-scientist-job-513cc821bfe4?source=read_next_recirc-----27902996dc2b----0---------------------38c6e3ce_a457_41ca_8900_85be9c30838f-------',\n",
       " 'https://youssefraafat57.medium.com/?source=author_recirc-----27902996dc2b----0---------------------eda07f58_e983_4fb0_81e3_4310ccd93940-------',\n",
       " 'https://youssefraafat57.medium.com/?source=author_recirc-----27902996dc2b----3---------------------eda07f58_e983_4fb0_81e3_4310ccd93940-------',\n",
       " 'https://youssefraafat57.medium.com/?source=post_page-----27902996dc2b--------------------------------',\n",
       " 'https://youssefraafat57.medium.com/followers?source=post_page-----27902996dc2b--------------------------------',\n",
       " 'https://youssefraafat57.medium.com/membership',\n",
       " 'https://zachl-quinn.medium.com/?source=read_next_recirc-----27902996dc2b----1---------------------38c6e3ce_a457_41ca_8900_85be9c30838f-------'}"
      ]
     },
     "execution_count": 8,
     "metadata": {},
     "output_type": "execute_result"
    }
   ],
   "source": [
    "html_content.links"
   ]
  },
  {
   "cell_type": "code",
   "execution_count": null,
   "id": "0f5f63aa-4df7-4336-87df-f5ea643c8cdb",
   "metadata": {},
   "outputs": [],
   "source": []
  }
 ],
 "metadata": {
  "kernelspec": {
   "display_name": "Python 3 (ipykernel)",
   "language": "python",
   "name": "python3"
  },
  "language_info": {
   "codemirror_mode": {
    "name": "ipython",
    "version": 3
   },
   "file_extension": ".py",
   "mimetype": "text/x-python",
   "name": "python",
   "nbconvert_exporter": "python",
   "pygments_lexer": "ipython3",
   "version": "3.11.0"
  }
 },
 "nbformat": 4,
 "nbformat_minor": 5
}
