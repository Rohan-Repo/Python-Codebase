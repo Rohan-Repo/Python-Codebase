{
 "cells": [
  {
   "cell_type": "code",
   "execution_count": 1,
   "id": "d0fa64c7-5559-43d5-a3ef-a854186f2193",
   "metadata": {},
   "outputs": [],
   "source": [
    "myTuple = ( 1, 2, 3, 4, 5, 6, 7, 8, 9, 0)"
   ]
  },
  {
   "cell_type": "code",
   "execution_count": 2,
   "id": "63c3557a-00ba-4e6d-8d65-b57f096ab7b5",
   "metadata": {},
   "outputs": [
    {
     "data": {
      "text/plain": [
       "(1, 2, 3, 4, 5, 6, 7, 8, 9, 0)"
      ]
     },
     "execution_count": 2,
     "metadata": {},
     "output_type": "execute_result"
    }
   ],
   "source": [
    "myTuple"
   ]
  },
  {
   "cell_type": "code",
   "execution_count": 3,
   "id": "1e25de68-1eb0-4054-8604-7a07c1271fc5",
   "metadata": {},
   "outputs": [],
   "source": [
    "myTuple2 = ( 1, 2, 3, 4, 2, 6, 2, 8, 9, 2)"
   ]
  },
  {
   "cell_type": "code",
   "execution_count": 4,
   "id": "43e2b466-730e-4646-af6c-837a7f9a4880",
   "metadata": {},
   "outputs": [
    {
     "data": {
      "text/plain": [
       "(1, 2, 3, 4, 2, 6, 2, 8, 9, 2)"
      ]
     },
     "execution_count": 4,
     "metadata": {},
     "output_type": "execute_result"
    }
   ],
   "source": [
    "myTuple2"
   ]
  },
  {
   "cell_type": "code",
   "execution_count": 5,
   "id": "3420cc29-3b48-467e-8a3f-8a303e22f17f",
   "metadata": {},
   "outputs": [
    {
     "name": "stdout",
     "output_type": "stream",
     "text": [
      "2 Occurs  4  times in the Tuple :  (1, 2, 3, 4, 2, 6, 2, 8, 9, 2)\n"
     ]
    }
   ],
   "source": [
    "print( '2 Occurs ', myTuple2.count( 2 ), ' times in the Tuple : ', myTuple2 )"
   ]
  },
  {
   "cell_type": "code",
   "execution_count": 6,
   "id": "18da95d2-ee42-4885-b660-14216421e562",
   "metadata": {},
   "outputs": [],
   "source": [
    "my_data_dict = { 'height': [187,170,179,190], 'weight': [160,150,160,190], 'name': ['Amy', 'John', 'Derek', 'George'] }"
   ]
  },
  {
   "cell_type": "code",
   "execution_count": 7,
   "id": "4f359616-7893-49b3-8bce-46df3d8f5f71",
   "metadata": {},
   "outputs": [
    {
     "data": {
      "text/plain": [
       "{'height': [187, 170, 179, 190],\n",
       " 'weight': [160, 150, 160, 190],\n",
       " 'name': ['Amy', 'John', 'Derek', 'George']}"
      ]
     },
     "execution_count": 7,
     "metadata": {},
     "output_type": "execute_result"
    }
   ],
   "source": [
    "my_data_dict"
   ]
  },
  {
   "cell_type": "code",
   "execution_count": 8,
   "id": "651d0ee1-fe8b-40ed-8877-6b3dff38df78",
   "metadata": {},
   "outputs": [
    {
     "data": {
      "text/plain": [
       "dict"
      ]
     },
     "execution_count": 8,
     "metadata": {},
     "output_type": "execute_result"
    }
   ],
   "source": [
    "type( my_data_dict )"
   ]
  },
  {
   "cell_type": "code",
   "execution_count": 9,
   "id": "22aa9b4f-dbdf-4a71-bd11-4c756e33021b",
   "metadata": {},
   "outputs": [
    {
     "name": "stdout",
     "output_type": "stream",
     "text": [
      "Name\tHeight\tWeight\n",
      "Amy \t 187 \t 160\n",
      "John \t 170 \t 150\n",
      "Derek \t 179 \t 160\n"
     ]
    }
   ],
   "source": [
    "print( 'Name\\tHeight\\tWeight' )\n",
    "\n",
    "for i in range( len(my_data_dict) ):\n",
    "    print( my_data_dict['name'][i], '\\t', my_data_dict['height'][i], '\\t' , my_data_dict['weight'][i] )"
   ]
  },
  {
   "cell_type": "code",
   "execution_count": 10,
   "id": "c9bb347f-932b-442b-9bb2-d4b9224977e2",
   "metadata": {},
   "outputs": [
    {
     "name": "stdout",
     "output_type": "stream",
     "text": [
      "Keys :  dict_keys(['height', 'weight', 'name'])\n",
      "Values :  dict_values([[187, 170, 179, 190], [160, 150, 160, 190], ['Amy', 'John', 'Derek', 'George']])\n",
      "Items :  dict_items([('height', [187, 170, 179, 190]), ('weight', [160, 150, 160, 190]), ('name', ['Amy', 'John', 'Derek', 'George'])])\n"
     ]
    }
   ],
   "source": [
    "print( 'Keys : ', my_data_dict.keys() )\n",
    "print( 'Values : ', my_data_dict.values() )\n",
    "print( 'Items : ', my_data_dict.items() )"
   ]
  },
  {
   "cell_type": "code",
   "execution_count": 11,
   "id": "3490ad80-a66e-4d32-b9fe-130f19595a2e",
   "metadata": {},
   "outputs": [
    {
     "data": {
      "text/plain": [
       "{-0.9, 1, 1.5, 23, 9, 'aa', 'abc', 'nn', 'qwe'}"
      ]
     },
     "execution_count": 11,
     "metadata": {},
     "output_type": "execute_result"
    }
   ],
   "source": [
    "my_data_set = { 9,1,23, 1.5,-0.9, 'nn', 'aa', 'qwe','abc' }\n",
    "my_data_set"
   ]
  },
  {
   "cell_type": "code",
   "execution_count": 12,
   "id": "7c0941d1-0505-4e61-a404-7137c3d1f092",
   "metadata": {},
   "outputs": [
    {
     "data": {
      "text/plain": [
       "{-0.9, 1, 1.5, 23, 7, 9, 'aa', 'abc', 'nn', 'qwe'}"
      ]
     },
     "execution_count": 12,
     "metadata": {},
     "output_type": "execute_result"
    }
   ],
   "source": [
    "my_data_set.add( 7 )\n",
    "my_data_set"
   ]
  },
  {
   "cell_type": "code",
   "execution_count": 13,
   "id": "26b18c52-cd21-4e0f-bb95-7ff8b270fc1c",
   "metadata": {},
   "outputs": [
    {
     "data": {
      "text/plain": [
       "{-0.9, 1, 1.5, 23, 7, 9, 'aa', 'abc', 'nn', 'nop', 'qwe'}"
      ]
     },
     "execution_count": 13,
     "metadata": {},
     "output_type": "execute_result"
    }
   ],
   "source": [
    "my_data_set.add( 'nop' )\n",
    "my_data_set"
   ]
  },
  {
   "cell_type": "code",
   "execution_count": 14,
   "id": "e3c33e04-8d57-46c1-91a3-24d1f202b783",
   "metadata": {},
   "outputs": [
    {
     "data": {
      "text/plain": [
       "{-0.9, 1, 1.5, 23, 7, 9, 'aa', 'abc', 'nn', 'nop', 'qwe', 'stu', 'zz', 'zzz'}"
      ]
     },
     "execution_count": 14,
     "metadata": {},
     "output_type": "execute_result"
    }
   ],
   "source": [
    "my_data_set.add( 'stu' )\n",
    "my_data_set.add( 'zz' )\n",
    "my_data_set.add( 'zzz' )\n",
    "my_data_set"
   ]
  },
  {
   "cell_type": "code",
   "execution_count": 15,
   "id": "34ae806d-f9a5-4ecb-b0ec-3a35197cd358",
   "metadata": {},
   "outputs": [
    {
     "data": {
      "text/plain": [
       "{-0.9,\n",
       " 1,\n",
       " 1.5,\n",
       " 23,\n",
       " 7,\n",
       " 9,\n",
       " 'aa',\n",
       " 'abc',\n",
       " 'nn',\n",
       " 'nop',\n",
       " 'qwe',\n",
       " 'stu',\n",
       " 'yyyyyyy',\n",
       " 'zz',\n",
       " 'zzz'}"
      ]
     },
     "execution_count": 15,
     "metadata": {},
     "output_type": "execute_result"
    }
   ],
   "source": [
    "my_data_set.add( 'yyyyyyy' )\n",
    "my_data_set"
   ]
  },
  {
   "cell_type": "code",
   "execution_count": 16,
   "id": "022fb655-2a53-4522-9b6a-302532a3b622",
   "metadata": {},
   "outputs": [
    {
     "data": {
      "text/plain": [
       "{-0.9,\n",
       " 1,\n",
       " 1.5,\n",
       " 23,\n",
       " 7,\n",
       " 9,\n",
       " 'aa',\n",
       " 'abc',\n",
       " 'nn',\n",
       " 'nop',\n",
       " 'qwe',\n",
       " 'stu',\n",
       " 'yyyyyyy',\n",
       " 'zz',\n",
       " 'zzz'}"
      ]
     },
     "execution_count": 16,
     "metadata": {},
     "output_type": "execute_result"
    }
   ],
   "source": [
    "my_data_set.add( 'yyyyyyy' )\n",
    "my_data_set"
   ]
  },
  {
   "cell_type": "code",
   "execution_count": 17,
   "id": "0efd3b64-6d66-4e70-9539-e599c9825c73",
   "metadata": {},
   "outputs": [
    {
     "name": "stdout",
     "output_type": "stream",
     "text": [
      "S: \n",
      " sdfsadfsadfsdfsdfsdf\n",
      "sdfsa\n",
      "0\n",
      "dfsa\n",
      "1\n",
      "fsa\n",
      "2\n",
      "sa\n",
      "3\n",
      "a\n",
      "4\n"
     ]
    }
   ],
   "source": [
    "some_string = 'sdfsadfsadfsdfsdfsdf'\n",
    "\n",
    "print( 'S: \\n', some_string )\n",
    "\n",
    "counter = 0\n",
    "\n",
    "while counter <= 4:\n",
    "    print(some_string[counter:5])\n",
    "    print(counter)\n",
    "    counter = counter + 1"
   ]
  },
  {
   "cell_type": "code",
   "execution_count": 18,
   "id": "21eb5829-eb5f-4550-9a14-63a5ba0af877",
   "metadata": {},
   "outputs": [],
   "source": [
    "import pandas as pd\n",
    "import numpy as np\n",
    "import matplotlib as plt"
   ]
  },
  {
   "cell_type": "code",
   "execution_count": 19,
   "id": "d23d6c1f-86d2-4da0-bda2-afa2ffa54cb1",
   "metadata": {},
   "outputs": [],
   "source": [
    "df = pd.read_csv( 'Countries_of_the_world_1970_imputed_international_data.csv' )"
   ]
  },
  {
   "cell_type": "code",
   "execution_count": 20,
   "id": "8bcea638-602c-47eb-9908-63c6e38692fb",
   "metadata": {},
   "outputs": [
    {
     "data": {
      "text/html": [
       "<div>\n",
       "<style scoped>\n",
       "    .dataframe tbody tr th:only-of-type {\n",
       "        vertical-align: middle;\n",
       "    }\n",
       "\n",
       "    .dataframe tbody tr th {\n",
       "        vertical-align: top;\n",
       "    }\n",
       "\n",
       "    .dataframe thead th {\n",
       "        text-align: right;\n",
       "    }\n",
       "</style>\n",
       "<table border=\"1\" class=\"dataframe\">\n",
       "  <thead>\n",
       "    <tr style=\"text-align: right;\">\n",
       "      <th></th>\n",
       "      <th>Entity</th>\n",
       "      <th>indiv_libs_vdem_owid</th>\n",
       "      <th>electdem_vdem_owid</th>\n",
       "      <th>libdem_vdem_owid</th>\n",
       "      <th>Countries</th>\n",
       "      <th>Economic.Freedom.Summary.Index</th>\n",
       "      <th>Government.consumption</th>\n",
       "      <th>Transfers.and.subsidies</th>\n",
       "      <th>Government.investment</th>\n",
       "      <th>State.ownership.of.assets</th>\n",
       "      <th>...</th>\n",
       "      <th>Centralized.collective.bargaining</th>\n",
       "      <th>Hours.Regulations</th>\n",
       "      <th>Conscription</th>\n",
       "      <th>Labor.market.regulations</th>\n",
       "      <th>Impartial.Public.Administration</th>\n",
       "      <th>Regulation</th>\n",
       "      <th>alliance</th>\n",
       "      <th>regimenarrowcat</th>\n",
       "      <th>Regime_type</th>\n",
       "      <th>id</th>\n",
       "    </tr>\n",
       "  </thead>\n",
       "  <tbody>\n",
       "    <tr>\n",
       "      <th>0</th>\n",
       "      <td>Afghanistan</td>\n",
       "      <td>0.266</td>\n",
       "      <td>0.160</td>\n",
       "      <td>0.104</td>\n",
       "      <td>NaN</td>\n",
       "      <td>5.506573</td>\n",
       "      <td>6.393604</td>\n",
       "      <td>8.740967</td>\n",
       "      <td>5.519734</td>\n",
       "      <td>5.025106</td>\n",
       "      <td>...</td>\n",
       "      <td>5.897546</td>\n",
       "      <td>5.932564</td>\n",
       "      <td>2.392234</td>\n",
       "      <td>4.700103</td>\n",
       "      <td>4.887146</td>\n",
       "      <td>4.776903</td>\n",
       "      <td>not a US ally</td>\n",
       "      <td>8.0</td>\n",
       "      <td>Monarchy</td>\n",
       "      <td>1</td>\n",
       "    </tr>\n",
       "    <tr>\n",
       "      <th>1</th>\n",
       "      <td>Albania</td>\n",
       "      <td>0.006</td>\n",
       "      <td>0.173</td>\n",
       "      <td>0.055</td>\n",
       "      <td>Albania</td>\n",
       "      <td>3.713222</td>\n",
       "      <td>3.170575</td>\n",
       "      <td>8.262926</td>\n",
       "      <td>-0.627520</td>\n",
       "      <td>0.180000</td>\n",
       "      <td>...</td>\n",
       "      <td>4.220652</td>\n",
       "      <td>4.846848</td>\n",
       "      <td>0.000000</td>\n",
       "      <td>4.215714</td>\n",
       "      <td>1.750000</td>\n",
       "      <td>3.230021</td>\n",
       "      <td>not a US ally</td>\n",
       "      <td>4.0</td>\n",
       "      <td>Single-party rule</td>\n",
       "      <td>2</td>\n",
       "    </tr>\n",
       "    <tr>\n",
       "      <th>2</th>\n",
       "      <td>Algeria</td>\n",
       "      <td>0.428</td>\n",
       "      <td>0.084</td>\n",
       "      <td>0.065</td>\n",
       "      <td>Algeria</td>\n",
       "      <td>4.680000</td>\n",
       "      <td>5.540000</td>\n",
       "      <td>9.322154</td>\n",
       "      <td>7.320000</td>\n",
       "      <td>2.490000</td>\n",
       "      <td>...</td>\n",
       "      <td>5.540452</td>\n",
       "      <td>6.185718</td>\n",
       "      <td>3.000000</td>\n",
       "      <td>4.572435</td>\n",
       "      <td>3.910000</td>\n",
       "      <td>3.630000</td>\n",
       "      <td>not a US ally</td>\n",
       "      <td>7.0</td>\n",
       "      <td>Military rule</td>\n",
       "      <td>3</td>\n",
       "    </tr>\n",
       "    <tr>\n",
       "      <th>3</th>\n",
       "      <td>Angola</td>\n",
       "      <td>0.024</td>\n",
       "      <td>0.010</td>\n",
       "      <td>0.035</td>\n",
       "      <td>Angola</td>\n",
       "      <td>4.547754</td>\n",
       "      <td>6.109553</td>\n",
       "      <td>8.385527</td>\n",
       "      <td>4.949296</td>\n",
       "      <td>3.180000</td>\n",
       "      <td>...</td>\n",
       "      <td>4.641346</td>\n",
       "      <td>5.671838</td>\n",
       "      <td>0.536243</td>\n",
       "      <td>3.955813</td>\n",
       "      <td>2.370000</td>\n",
       "      <td>3.778725</td>\n",
       "      <td>not a US ally</td>\n",
       "      <td>NaN</td>\n",
       "      <td>unknown</td>\n",
       "      <td>4</td>\n",
       "    </tr>\n",
       "    <tr>\n",
       "      <th>4</th>\n",
       "      <td>Argentina</td>\n",
       "      <td>0.354</td>\n",
       "      <td>0.105</td>\n",
       "      <td>0.086</td>\n",
       "      <td>Argentina</td>\n",
       "      <td>5.980000</td>\n",
       "      <td>7.930000</td>\n",
       "      <td>8.006018</td>\n",
       "      <td>8.187808</td>\n",
       "      <td>6.150000</td>\n",
       "      <td>...</td>\n",
       "      <td>5.180000</td>\n",
       "      <td>5.720000</td>\n",
       "      <td>0.000000</td>\n",
       "      <td>3.630000</td>\n",
       "      <td>2.420000</td>\n",
       "      <td>5.310000</td>\n",
       "      <td>US ally</td>\n",
       "      <td>7.0</td>\n",
       "      <td>Military rule</td>\n",
       "      <td>5</td>\n",
       "    </tr>\n",
       "    <tr>\n",
       "      <th>...</th>\n",
       "      <td>...</td>\n",
       "      <td>...</td>\n",
       "      <td>...</td>\n",
       "      <td>...</td>\n",
       "      <td>...</td>\n",
       "      <td>...</td>\n",
       "      <td>...</td>\n",
       "      <td>...</td>\n",
       "      <td>...</td>\n",
       "      <td>...</td>\n",
       "      <td>...</td>\n",
       "      <td>...</td>\n",
       "      <td>...</td>\n",
       "      <td>...</td>\n",
       "      <td>...</td>\n",
       "      <td>...</td>\n",
       "      <td>...</td>\n",
       "      <td>...</td>\n",
       "      <td>...</td>\n",
       "      <td>...</td>\n",
       "      <td>...</td>\n",
       "    </tr>\n",
       "    <tr>\n",
       "      <th>177</th>\n",
       "      <td>United Arab Emirates</td>\n",
       "      <td>NaN</td>\n",
       "      <td>NaN</td>\n",
       "      <td>NaN</td>\n",
       "      <td>United Arab Emirates</td>\n",
       "      <td>5.318299</td>\n",
       "      <td>6.321991</td>\n",
       "      <td>7.942938</td>\n",
       "      <td>6.984351</td>\n",
       "      <td>5.128654</td>\n",
       "      <td>...</td>\n",
       "      <td>4.578971</td>\n",
       "      <td>5.804901</td>\n",
       "      <td>-1.635512</td>\n",
       "      <td>3.297957</td>\n",
       "      <td>4.408227</td>\n",
       "      <td>4.057185</td>\n",
       "      <td>not a US ally</td>\n",
       "      <td>NaN</td>\n",
       "      <td>unknown</td>\n",
       "      <td>178</td>\n",
       "    </tr>\n",
       "    <tr>\n",
       "      <th>178</th>\n",
       "      <td>Bahamas, The</td>\n",
       "      <td>NaN</td>\n",
       "      <td>NaN</td>\n",
       "      <td>NaN</td>\n",
       "      <td>Bahamas, The</td>\n",
       "      <td>6.444528</td>\n",
       "      <td>7.929654</td>\n",
       "      <td>9.750000</td>\n",
       "      <td>8.271012</td>\n",
       "      <td>7.359644</td>\n",
       "      <td>...</td>\n",
       "      <td>7.506363</td>\n",
       "      <td>6.864895</td>\n",
       "      <td>6.740750</td>\n",
       "      <td>6.570836</td>\n",
       "      <td>6.959719</td>\n",
       "      <td>6.624903</td>\n",
       "      <td>not a US ally</td>\n",
       "      <td>NaN</td>\n",
       "      <td>unknown</td>\n",
       "      <td>179</td>\n",
       "    </tr>\n",
       "    <tr>\n",
       "      <th>179</th>\n",
       "      <td>Belize</td>\n",
       "      <td>NaN</td>\n",
       "      <td>NaN</td>\n",
       "      <td>NaN</td>\n",
       "      <td>Belize</td>\n",
       "      <td>6.552629</td>\n",
       "      <td>6.550790</td>\n",
       "      <td>8.277202</td>\n",
       "      <td>6.172708</td>\n",
       "      <td>6.257622</td>\n",
       "      <td>...</td>\n",
       "      <td>6.498267</td>\n",
       "      <td>5.631109</td>\n",
       "      <td>4.938871</td>\n",
       "      <td>5.273427</td>\n",
       "      <td>6.551369</td>\n",
       "      <td>5.902861</td>\n",
       "      <td>not a US ally</td>\n",
       "      <td>NaN</td>\n",
       "      <td>unknown</td>\n",
       "      <td>180</td>\n",
       "    </tr>\n",
       "    <tr>\n",
       "      <th>180</th>\n",
       "      <td>Brunei Darussalam</td>\n",
       "      <td>NaN</td>\n",
       "      <td>NaN</td>\n",
       "      <td>NaN</td>\n",
       "      <td>Brunei Darussalam</td>\n",
       "      <td>5.429512</td>\n",
       "      <td>6.567417</td>\n",
       "      <td>8.823056</td>\n",
       "      <td>5.877209</td>\n",
       "      <td>5.083315</td>\n",
       "      <td>...</td>\n",
       "      <td>5.809336</td>\n",
       "      <td>6.037126</td>\n",
       "      <td>1.554685</td>\n",
       "      <td>4.469860</td>\n",
       "      <td>4.482676</td>\n",
       "      <td>4.579663</td>\n",
       "      <td>not a US ally</td>\n",
       "      <td>NaN</td>\n",
       "      <td>unknown</td>\n",
       "      <td>181</td>\n",
       "    </tr>\n",
       "    <tr>\n",
       "      <th>181</th>\n",
       "      <td>Montenegro</td>\n",
       "      <td>NaN</td>\n",
       "      <td>NaN</td>\n",
       "      <td>NaN</td>\n",
       "      <td>Montenegro</td>\n",
       "      <td>5.034850</td>\n",
       "      <td>6.090277</td>\n",
       "      <td>9.203655</td>\n",
       "      <td>3.880783</td>\n",
       "      <td>4.024726</td>\n",
       "      <td>...</td>\n",
       "      <td>6.080078</td>\n",
       "      <td>5.883605</td>\n",
       "      <td>3.366051</td>\n",
       "      <td>5.037536</td>\n",
       "      <td>4.246232</td>\n",
       "      <td>4.497032</td>\n",
       "      <td>not a US ally</td>\n",
       "      <td>4.0</td>\n",
       "      <td>Single-party rule</td>\n",
       "      <td>182</td>\n",
       "    </tr>\n",
       "  </tbody>\n",
       "</table>\n",
       "<p>182 rows × 43 columns</p>\n",
       "</div>"
      ],
      "text/plain": [
       "                   Entity  indiv_libs_vdem_owid  electdem_vdem_owid  \\\n",
       "0             Afghanistan                 0.266               0.160   \n",
       "1                 Albania                 0.006               0.173   \n",
       "2                 Algeria                 0.428               0.084   \n",
       "3                  Angola                 0.024               0.010   \n",
       "4               Argentina                 0.354               0.105   \n",
       "..                    ...                   ...                 ...   \n",
       "177  United Arab Emirates                   NaN                 NaN   \n",
       "178          Bahamas, The                   NaN                 NaN   \n",
       "179                Belize                   NaN                 NaN   \n",
       "180     Brunei Darussalam                   NaN                 NaN   \n",
       "181            Montenegro                   NaN                 NaN   \n",
       "\n",
       "     libdem_vdem_owid             Countries  Economic.Freedom.Summary.Index  \\\n",
       "0               0.104                   NaN                        5.506573   \n",
       "1               0.055               Albania                        3.713222   \n",
       "2               0.065               Algeria                        4.680000   \n",
       "3               0.035                Angola                        4.547754   \n",
       "4               0.086             Argentina                        5.980000   \n",
       "..                ...                   ...                             ...   \n",
       "177               NaN  United Arab Emirates                        5.318299   \n",
       "178               NaN          Bahamas, The                        6.444528   \n",
       "179               NaN                Belize                        6.552629   \n",
       "180               NaN     Brunei Darussalam                        5.429512   \n",
       "181               NaN            Montenegro                        5.034850   \n",
       "\n",
       "     Government.consumption  Transfers.and.subsidies  Government.investment  \\\n",
       "0                  6.393604                 8.740967               5.519734   \n",
       "1                  3.170575                 8.262926              -0.627520   \n",
       "2                  5.540000                 9.322154               7.320000   \n",
       "3                  6.109553                 8.385527               4.949296   \n",
       "4                  7.930000                 8.006018               8.187808   \n",
       "..                      ...                      ...                    ...   \n",
       "177                6.321991                 7.942938               6.984351   \n",
       "178                7.929654                 9.750000               8.271012   \n",
       "179                6.550790                 8.277202               6.172708   \n",
       "180                6.567417                 8.823056               5.877209   \n",
       "181                6.090277                 9.203655               3.880783   \n",
       "\n",
       "     State.ownership.of.assets  ...  Centralized.collective.bargaining  \\\n",
       "0                     5.025106  ...                           5.897546   \n",
       "1                     0.180000  ...                           4.220652   \n",
       "2                     2.490000  ...                           5.540452   \n",
       "3                     3.180000  ...                           4.641346   \n",
       "4                     6.150000  ...                           5.180000   \n",
       "..                         ...  ...                                ...   \n",
       "177                   5.128654  ...                           4.578971   \n",
       "178                   7.359644  ...                           7.506363   \n",
       "179                   6.257622  ...                           6.498267   \n",
       "180                   5.083315  ...                           5.809336   \n",
       "181                   4.024726  ...                           6.080078   \n",
       "\n",
       "     Hours.Regulations  Conscription  Labor.market.regulations  \\\n",
       "0             5.932564      2.392234                  4.700103   \n",
       "1             4.846848      0.000000                  4.215714   \n",
       "2             6.185718      3.000000                  4.572435   \n",
       "3             5.671838      0.536243                  3.955813   \n",
       "4             5.720000      0.000000                  3.630000   \n",
       "..                 ...           ...                       ...   \n",
       "177           5.804901     -1.635512                  3.297957   \n",
       "178           6.864895      6.740750                  6.570836   \n",
       "179           5.631109      4.938871                  5.273427   \n",
       "180           6.037126      1.554685                  4.469860   \n",
       "181           5.883605      3.366051                  5.037536   \n",
       "\n",
       "     Impartial.Public.Administration  Regulation       alliance  \\\n",
       "0                           4.887146    4.776903  not a US ally   \n",
       "1                           1.750000    3.230021  not a US ally   \n",
       "2                           3.910000    3.630000  not a US ally   \n",
       "3                           2.370000    3.778725  not a US ally   \n",
       "4                           2.420000    5.310000        US ally   \n",
       "..                               ...         ...            ...   \n",
       "177                         4.408227    4.057185  not a US ally   \n",
       "178                         6.959719    6.624903  not a US ally   \n",
       "179                         6.551369    5.902861  not a US ally   \n",
       "180                         4.482676    4.579663  not a US ally   \n",
       "181                         4.246232    4.497032  not a US ally   \n",
       "\n",
       "     regimenarrowcat        Regime_type   id  \n",
       "0                8.0           Monarchy    1  \n",
       "1                4.0  Single-party rule    2  \n",
       "2                7.0      Military rule    3  \n",
       "3                NaN            unknown    4  \n",
       "4                7.0      Military rule    5  \n",
       "..               ...                ...  ...  \n",
       "177              NaN            unknown  178  \n",
       "178              NaN            unknown  179  \n",
       "179              NaN            unknown  180  \n",
       "180              NaN            unknown  181  \n",
       "181              4.0  Single-party rule  182  \n",
       "\n",
       "[182 rows x 43 columns]"
      ]
     },
     "execution_count": 20,
     "metadata": {},
     "output_type": "execute_result"
    }
   ],
   "source": [
    "df # The Head & Tail together"
   ]
  },
  {
   "cell_type": "code",
   "execution_count": 21,
   "id": "89b020bf-3e11-46de-acf9-6021a2f84065",
   "metadata": {},
   "outputs": [
    {
     "name": "stdout",
     "output_type": "stream",
     "text": [
      "4\n",
      "0\n"
     ]
    }
   ],
   "source": [
    "print( 2 ** 2 )\n",
    "print( 2 ^ 2 )"
   ]
  },
  {
   "cell_type": "code",
   "execution_count": 22,
   "id": "78a8bbc5-396a-43a3-b23e-21da5694fded",
   "metadata": {},
   "outputs": [
    {
     "name": "stdout",
     "output_type": "stream",
     "text": [
      "SquareRoot of 16 :  4.0\n",
      "CubeRoot of 27:  3.0\n"
     ]
    }
   ],
   "source": [
    "print( 'SquareRoot of 16 : ', 16 ** (1/2) ) # SquareRoot\n",
    "print( 'CubeRoot of 27: ', 27 ** (1/3) ) # CubeRoot"
   ]
  },
  {
   "cell_type": "code",
   "execution_count": 23,
   "id": "ec25e566-0de7-462b-8a2d-1d4bcbf6163a",
   "metadata": {},
   "outputs": [
    {
     "data": {
      "text/plain": [
       "3.142"
      ]
     },
     "execution_count": 23,
     "metadata": {},
     "output_type": "execute_result"
    }
   ],
   "source": [
    "round( 3.1419296, 3 )"
   ]
  },
  {
   "cell_type": "code",
   "execution_count": 24,
   "id": "f491304e-3e1a-4df1-9512-573a7e7f693f",
   "metadata": {},
   "outputs": [
    {
     "name": "stdout",
     "output_type": "stream",
     "text": [
      "True \t Int Value =  1\n",
      "False \t Int Value =  0\n"
     ]
    }
   ],
   "source": [
    "print( True, '\\t Int Value = ', int(True) )\n",
    "print( False, '\\t Int Value = ', int(False) )"
   ]
  },
  {
   "cell_type": "markdown",
   "id": "23fc5d2c-c9f7-4997-8a0e-f030174fb003",
   "metadata": {},
   "source": [
    "### Lists and List Comprehension"
   ]
  },
  {
   "cell_type": "code",
   "execution_count": 25,
   "id": "7608aa46-2651-4a4b-9736-a9665bc1adc2",
   "metadata": {},
   "outputs": [
    {
     "name": "stdout",
     "output_type": "stream",
     "text": [
      "Nums :  [1, 2, 3, 4, 5]\n",
      "Squares :  [1, 4, 9, 16, 25]\n",
      "Cubes :  [1, 8, 27, 64, 125]\n"
     ]
    }
   ],
   "source": [
    "nums = [ 1,2,3,4,5 ]\n",
    "sqNums = []\n",
    "cbNums = []\n",
    "\n",
    "for num in nums:\n",
    "    sqNums.append( num ** 2 )\n",
    "    cbNums.append( num ** 3 )\n",
    "    \n",
    "print( 'Nums : ', nums )\n",
    "print( 'Squares : ', sqNums )\n",
    "print( 'Cubes : ', cbNums )"
   ]
  },
  {
   "cell_type": "code",
   "execution_count": 26,
   "id": "7e223c22-bfc1-4032-a401-8d4acf4f22f0",
   "metadata": {},
   "outputs": [
    {
     "name": "stdout",
     "output_type": "stream",
     "text": [
      "Nums :  [1, 2, 3, 4, 5]\n",
      "Squares :  [1, 4, 9, 16, 25]\n",
      "Cubes :  [1, 8, 27, 64, 125]\n"
     ]
    }
   ],
   "source": [
    "nums = [ 1,2,3,4,5 ]\n",
    "sqNums = [ num ** 2 for num in nums ]\n",
    "cbNums = [ num ** 3 for num in nums ]\n",
    "\n",
    "print( 'Nums : ', nums )\n",
    "print( 'Squares : ', sqNums )\n",
    "print( 'Cubes : ', cbNums )"
   ]
  },
  {
   "cell_type": "code",
   "execution_count": 27,
   "id": "005347e4-6193-4b0e-9bfa-905f7ba292f9",
   "metadata": {},
   "outputs": [
    {
     "name": "stdout",
     "output_type": "stream",
     "text": [
      "Nums :  [12, 11, 1, 55, 122, 88, 79]\n",
      "Evens :  [12, 122, 88]\n",
      "Odds :  [11, 1, 55, 79]\n"
     ]
    }
   ],
   "source": [
    "nums_2 = [ 12, 11, 1, 55, 122, 88, 79 ]\n",
    "\n",
    "evenNums = [ num for num in nums_2 if num % 2 == 0 ]\n",
    "oddNums = [ num for num in nums_2 if num % 2 == 1 ]\n",
    "\n",
    "print( 'Nums : ', nums_2 )\n",
    "print( 'Evens : ', evenNums )\n",
    "print( 'Odds : ', oddNums )"
   ]
  },
  {
   "cell_type": "code",
   "execution_count": null,
   "id": "779168c6-6ab3-4644-83fc-f7ace1b43f84",
   "metadata": {},
   "outputs": [],
   "source": [
    "words = [ 'QWERTY', 'ZZZ', 'BBBB', 'poiuytrewq' ]\n",
    "\n",
    "containsVowels = [ w for w in words if w.contains( "
   ]
  },
  {
   "cell_type": "code",
   "execution_count": 10,
   "id": "17a7136c-0df4-4a43-9406-5e31de2ca224",
   "metadata": {},
   "outputs": [
    {
     "name": "stdout",
     "output_type": "stream",
     "text": [
      "True\n"
     ]
    }
   ],
   "source": [
    "def is_leap(year):\n",
    "    leap = False\n",
    "    \n",
    "    # Write your logic here\n",
    "    if (year % 4 == 0) or ((year % 100 == 0) and (year % 400 == 0)):\n",
    "            leap = True    \n",
    "    return leap\n",
    "\n",
    "# year = int(input())\n",
    "print(is_leap(1992))"
   ]
  },
  {
   "cell_type": "code",
   "execution_count": 9,
   "id": "575ac335-9455-43d0-abca-e888633db8d2",
   "metadata": {},
   "outputs": [
    {
     "data": {
      "text/plain": [
       "0"
      ]
     },
     "execution_count": 9,
     "metadata": {},
     "output_type": "execute_result"
    }
   ],
   "source": [
    "1992%4"
   ]
  },
  {
   "cell_type": "code",
   "execution_count": 15,
   "id": "61e897a0-9301-4e67-99d4-24043600509b",
   "metadata": {},
   "outputs": [
    {
     "name": "stdin",
     "output_type": "stream",
     "text": [
      " 2100\n"
     ]
    },
    {
     "name": "stdout",
     "output_type": "stream",
     "text": [
      "True\n",
      "True\n",
      "False\n",
      "True\n"
     ]
    }
   ],
   "source": [
    "def is_leap(year):\n",
    "    print( (year % 4 == 0) )\n",
    "    print( (year % 100 == 0) )\n",
    "    print( (year % 400 == 0) )\n",
    "    \n",
    "    if (year % 4 == 0) or ((year % 100 == 0) and (year % 400 == 0)):\n",
    "        return True\n",
    "    else:\n",
    "        return False\n",
    "    return False\n",
    "\n",
    "year = int(input())\n",
    "print(is_leap(year))"
   ]
  },
  {
   "cell_type": "code",
   "execution_count": 29,
   "id": "c58f4393-b1d8-4baa-b37c-010fcd3e8896",
   "metadata": {},
   "outputs": [
    {
     "name": "stdin",
     "output_type": "stream",
     "text": [
      " 5\n",
      " 2 3 6 6 5\n"
     ]
    },
    {
     "name": "stdout",
     "output_type": "stream",
     "text": [
      "[2, 3, 6, 6, 5]  -  <class 'list'>\n",
      "- [2, 3, 5, 6, 6]\n",
      "6\n"
     ]
    }
   ],
   "source": [
    "if __name__ == '__main__':\n",
    "    n = int(input())\n",
    "    arr = list( map(int, input().split()) )\n",
    "    print( arr, ' - ', type(arr) )\n",
    "    # print( arr.sort() )\n",
    "    #sorted = arr.sort()\n",
    "    #print( sorted, type() )\n",
    "    arr.sort()\n",
    "    print( '-', arr )\n",
    "    if arr[n-2] == arr[n-1]:\n",
    "        \n",
    "    print( arr[n-2] ) "
   ]
  },
  {
   "cell_type": "code",
   "execution_count": 35,
   "id": "69e3c72e-565e-4918-a7dc-7b05f724e94e",
   "metadata": {},
   "outputs": [
    {
     "name": "stdin",
     "output_type": "stream",
     "text": [
      " 3\n",
      " -10 0 10\n"
     ]
    },
    {
     "name": "stdout",
     "output_type": "stream",
     "text": [
      "[0, 10, -10]  -  <class 'list'>\n",
      "0\n"
     ]
    }
   ],
   "source": [
    "if __name__ == '__main__':\n",
    "    n = int(input())\n",
    "    arr = list(set( map(int, input().split()) ))\n",
    "    print( arr, ' - ', type(arr) )\n",
    "    # print( arr.sort() )\n",
    "    #sorted = arr.sort()\n",
    "    #print( sorted, type() )\n",
    "    arr.sort()\n",
    "    #print( '-', arr )\n",
    "    # if arr[n-2] == arr[n-1]:  \n",
    "    print( arr[len(arr)-2] ) "
   ]
  },
  {
   "cell_type": "code",
   "execution_count": 50,
   "id": "aee1504d-a262-4dc3-bfea-51adcce38a31",
   "metadata": {},
   "outputs": [
    {
     "data": {
      "text/plain": [
       "{'A', 'B', 'C', 'D', 'E'}"
      ]
     },
     "execution_count": 50,
     "metadata": {},
     "output_type": "execute_result"
    }
   ],
   "source": [
    "s = 'AAABCADDE'\n",
    "set(s)"
   ]
  },
  {
   "cell_type": "code",
   "execution_count": 51,
   "id": "afe5a6bf-6e02-43e2-be39-27fabc900ce5",
   "metadata": {},
   "outputs": [
    {
     "name": "stdin",
     "output_type": "stream",
     "text": [
      " AAABCADDE\n",
      " 3\n"
     ]
    },
    {
     "name": "stdout",
     "output_type": "stream",
     "text": [
      "chunk :  AAA\n",
      "---- A\n",
      "chunk :  BCA\n",
      "---- ACB\n",
      "chunk :  DDE\n",
      "---- DE\n"
     ]
    }
   ],
   "source": [
    "def merge_the_tools(string, k):\n",
    "    # your code goes here\n",
    "    n = len(string);\n",
    "    #setS = set(string)\n",
    "    numSubs = n/k\n",
    "\n",
    "    strList = []\n",
    "    \n",
    "    for i in range(0,n,k):\n",
    "        str2 = string[i:i+k]\n",
    "        print( 'chunk : ', str2 )\n",
    "        print( '----', ''.join(set(str2)) )\n",
    "        strList.append( ''.join(set(str2)) )\n",
    "\n",
    "    for i in range(numSubs):\n",
    "        if strList[i] in \n",
    "\n",
    "    # print( n, ' -- ', numSubs )\n",
    "\n",
    "    # for i in setS:\n",
    "    #     print( i, '-- ', string.count(i) )\n",
    "\n",
    "if __name__ == '__main__':\n",
    "    string, k = input(), int(input())\n",
    "    merge_the_tools(string, k)\n",
    "\n",
    "# AB, AC,AE,AD,"
   ]
  },
  {
   "cell_type": "code",
   "execution_count": 52,
   "id": "f5ca6266-ca2a-4f3b-901d-f6829a457555",
   "metadata": {},
   "outputs": [
    {
     "name": "stdin",
     "output_type": "stream",
     "text": [
      " AABCAAADA\n",
      " 3\n"
     ]
    },
    {
     "name": "stdout",
     "output_type": "stream",
     "text": [
      "AB\n",
      "AC\n",
      "AD\n"
     ]
    }
   ],
   "source": [
    "def merge_the_tools(string, k):\n",
    "    # your code goes here\n",
    "    n = len(string);\n",
    "    strList = []\n",
    "    \n",
    "    for i in range(0,n,k):\n",
    "        str2 = string[i:i+k]\n",
    "        print( ''.join(set(str2)) )\n",
    "\n",
    "\n",
    "if __name__ == '__main__':\n",
    "    string, k = input(), int(input())\n",
    "    merge_the_tools(string, k)"
   ]
  },
  {
   "cell_type": "code",
   "execution_count": 53,
   "id": "aa2c9cb0-304c-4b6f-ad94-34053ed5a93b",
   "metadata": {},
   "outputs": [
    {
     "name": "stdin",
     "output_type": "stream",
     "text": [
      " AAABCADDE\n",
      " 3\n"
     ]
    },
    {
     "name": "stdout",
     "output_type": "stream",
     "text": [
      "A\n",
      "BCA\n",
      "DE\n"
     ]
    }
   ],
   "source": [
    "def merge_the_tools(string, k):\n",
    "    # your code goes here\n",
    "    n = len(string);\n",
    "    strList = []\n",
    "    \n",
    "    for i in range(0,n,k):\n",
    "        str2 = string[i:i+k]\n",
    "        def merge_the_tools(string, k):\n",
    "    # your code goes here\n",
    "    for i in range(0,len(string),k):\n",
    "        subStr = string[i:i+k]\n",
    "        print( ''.join(dict.fromkeys(subStr)) )\n",
    "\n",
    "\n",
    "if __name__ == '__main__':\n",
    "    string, k = input(), int(input())\n",
    "    merge_the_tools(string, k)def merge_the_tools(string, k):\n",
    "    # your code goes here\n",
    "    for i in range(0,len(string),k):\n",
    "        subStr = string[i:i+k]\n",
    "        print( ''.join(dict.fromkeys(subStr)) )\n",
    "\n",
    "\n",
    "if __name__ == '__main__':\n",
    "    string, k = input(), int(input())\n",
    "    merge_the_tools(string, k)\n",
    "\n",
    "\n",
    "if __name__ == '__main__':\n",
    "    string, k = input(), int(input())\n",
    "    merge_the_tools(string, k)"
   ]
  },
  {
   "cell_type": "markdown",
   "id": "fac18e1d-2eee-4b16-af7c-5da4d132158f",
   "metadata": {},
   "source": [
    "## https://stackoverflow.com/questions/480214/how-do-i-remove-duplicates-from-a-list-while-preserving-order"
   ]
  },
  {
   "cell_type": "code",
   "execution_count": 54,
   "id": "9749df30-37f8-4d8b-b8f8-e5ae55116cc9",
   "metadata": {},
   "outputs": [
    {
     "name": "stdin",
     "output_type": "stream",
     "text": [
      " AABBCAADADADA\n",
      " 3\n"
     ]
    },
    {
     "name": "stdout",
     "output_type": "stream",
     "text": [
      "SUB:  AAB\n",
      "AB\n",
      "SUB:  BCA\n",
      "BCA\n",
      "SUB:  ADA\n",
      "AD\n",
      "SUB:  DAD\n",
      "DA\n",
      "SUB:  A\n",
      "A\n"
     ]
    }
   ],
   "source": [
    "def merge_the_tools(string, k):\n",
    "    # your code goes here\n",
    "    for i in range(0,len(string),k):\n",
    "        subStr = string[i:i+k]\n",
    "        print( 'SUB: ', subStr )\n",
    "        print( ''.join(dict.fromkeys(subStr)) )\n",
    "\n",
    "\n",
    "if __name__ == '__main__':\n",
    "    string, k = input(), int(input())\n",
    "    merge_the_tools(string, k)"
   ]
  }
 ],
 "metadata": {
  "kernelspec": {
   "display_name": "Python 3 (ipykernel)",
   "language": "python",
   "name": "python3"
  },
  "language_info": {
   "codemirror_mode": {
    "name": "ipython",
    "version": 3
   },
   "file_extension": ".py",
   "mimetype": "text/x-python",
   "name": "python",
   "nbconvert_exporter": "python",
   "pygments_lexer": "ipython3",
   "version": "3.11.0"
  }
 },
 "nbformat": 4,
 "nbformat_minor": 5
}
