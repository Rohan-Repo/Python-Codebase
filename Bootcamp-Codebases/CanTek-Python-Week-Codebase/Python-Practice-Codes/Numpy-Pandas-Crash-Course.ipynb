{
 "cells": [
  {
   "cell_type": "markdown",
   "id": "9ca87824-69c1-4b38-8783-2c88c7faf6c5",
   "metadata": {},
   "source": [
    "#### Import all Required Libraries"
   ]
  },
  {
   "cell_type": "code",
   "execution_count": 2,
   "id": "ecf87e82-f6b6-4e4c-b84d-e856f3aa23b7",
   "metadata": {},
   "outputs": [],
   "source": [
    "import pandas as pd\n",
    "import numpy as np\n",
    "import matplotlib as plt\n",
    "import seaborn as sns"
   ]
  },
  {
   "cell_type": "markdown",
   "id": "a03bab23-28d3-43b9-b69a-aeafbf311f21",
   "metadata": {},
   "source": [
    "#### Numpy Code"
   ]
  },
  {
   "cell_type": "markdown",
   "id": "7bc0776e-f4ef-4253-81fd-3f622693daf8",
   "metadata": {},
   "source": [
    "##### List to Array"
   ]
  },
  {
   "cell_type": "code",
   "execution_count": 3,
   "id": "3a9bb059-cf75-4b97-94ef-025815cc9b7f",
   "metadata": {},
   "outputs": [
    {
     "name": "stdout",
     "output_type": "stream",
     "text": [
      "L:  [1, 2, 3, 4]  Type:  <class 'list'>\n",
      "A1:  [1 2 3 4]  Type:  <class 'numpy.ndarray'>  Dimension:  (4,)\n"
     ]
    }
   ],
   "source": [
    "myList = [1,2,3,4]\n",
    "\n",
    "arr_1 = np.array( myList )\n",
    "\n",
    "print( 'L: ', myList, ' Type: ', type(myList) )\n",
    "print ( 'A1: ', arr_1, ' Type: ', type(arr_1), ' Dimension: ', arr_1.shape )"
   ]
  },
  {
   "cell_type": "markdown",
   "id": "62b0f7a5-1920-4f16-b406-3c2870ccffe9",
   "metadata": {},
   "source": [
    "##### Multi-Dim Array"
   ]
  },
  {
   "cell_type": "code",
   "execution_count": 4,
   "id": "46d78f17-92e7-4013-b8af-245b6da5144e",
   "metadata": {},
   "outputs": [
    {
     "name": "stdout",
     "output_type": "stream",
     "text": [
      "M:  [[1, 2, 3], [4, 5, 6], [7, 8, 9]]  Type:  <class 'list'>\n",
      "A2: \n",
      " [[1 2 3]\n",
      " [4 5 6]\n",
      " [7 8 9]] \n",
      " Type:  <class 'numpy.ndarray'>  Dimension:  (3, 3)\n"
     ]
    }
   ],
   "source": [
    "\n",
    "matrix_1 = [ [1,2,3], [4,5,6], [7,8,9] ]\n",
    "\n",
    "arr_2 = np.array( matrix_1 )\n",
    "\n",
    "print( 'M: ', matrix_1, ' Type: ', type(matrix_1) )\n",
    "print ( 'A2: \\n', arr_2, '\\n Type: ', type(arr_2), ' Dimension: ', arr_2.shape  )"
   ]
  },
  {
   "cell_type": "markdown",
   "id": "6a648c35-dced-4b91-8350-0e35167257e1",
   "metadata": {},
   "source": [
    "#### Generate Data with Numpy"
   ]
  },
  {
   "cell_type": "markdown",
   "id": "3ebac032-4c4b-41aa-a151-d323203043f3",
   "metadata": {},
   "source": [
    "##### Specific Values"
   ]
  },
  {
   "cell_type": "code",
   "execution_count": 5,
   "id": "3f13f83d-919c-434d-b3bd-76e575125111",
   "metadata": {},
   "outputs": [
    {
     "name": "stdout",
     "output_type": "stream",
     "text": [
      "A3:  [ 0  1  2  3  4  5  6  7  8  9 10]  Type:  <class 'numpy.ndarray'>  Dimension:  (11,)\n",
      "A4 Even:  [ 0  2  4  6  8 10]  Type:  <class 'numpy.ndarray'>  Dimension:  (6,)\n",
      "A4 Odd:  [1 3 5 7 9]  Type:  <class 'numpy.ndarray'>  Dimension:  (5,)\n",
      "A5 Hundreds:  [100 200 300 400 500 600 700 800 900]  Type:  <class 'numpy.ndarray'>  Dimension:  (9,)\n"
     ]
    }
   ],
   "source": [
    "\n",
    "arr_3 = np.arange( 0,11 )\n",
    "print ( 'A3: ', arr_3, ' Type: ', type(arr_3), ' Dimension: ', arr_3.shape  )\n",
    "\n",
    "arr_4_even = np.arange( 0,11,2 )\n",
    "print ( 'A4 Even: ', arr_4_even, ' Type: ', type(arr_4_even), ' Dimension: ', arr_4_even.shape  )\n",
    "\n",
    "arr_4_odd = np.arange( 1,11,2 )\n",
    "print ( 'A4 Odd: ', arr_4_odd, ' Type: ', type(arr_4_odd), ' Dimension: ', arr_4_odd.shape  )\n",
    "\n",
    "arr_5_hundreds = np.arange( 100, 1000, 100 )\n",
    "print ( 'A5 Hundreds: ', arr_5_hundreds, ' Type: ', type(arr_5_hundreds), ' Dimension: ', arr_5_hundreds.shape  )"
   ]
  },
  {
   "cell_type": "markdown",
   "id": "58eb1a75-5a42-4772-9f00-1d8903832f71",
   "metadata": {},
   "source": [
    "##### Numpy Array of Zeros"
   ]
  },
  {
   "cell_type": "code",
   "execution_count": 6,
   "id": "0c378b0e-bccd-4a65-ba2f-fb6d4a15ae85",
   "metadata": {},
   "outputs": [
    {
     "name": "stdout",
     "output_type": "stream",
     "text": [
      "A6 Zeros:  [0. 0. 0. 0. 0.]  Type:  <class 'numpy.ndarray'>  Dimension:  (5,)\n",
      "A6 Zero Matrix: \n",
      " [[0. 0. 0.]\n",
      " [0. 0. 0.]] \n",
      " Type:  <class 'numpy.ndarray'>  Dimension:  (2, 3)\n"
     ]
    }
   ],
   "source": [
    "arr_6_zeros = np.zeros( 5 )\n",
    "print ( 'A6 Zeros: ', arr_6_zeros, ' Type: ', type(arr_6_zeros), ' Dimension: ', arr_6_zeros.shape  )\n",
    "\n",
    "arr_6_zeros_matrix = np.zeros( (2,3) ) \n",
    "print ( 'A6 Zero Matrix: \\n', arr_6_zeros_matrix, '\\n Type: ', type(arr_6_zeros_matrix), ' Dimension: ', arr_6_zeros_matrix.shape  )"
   ]
  },
  {
   "cell_type": "markdown",
   "id": "14739bbf-c745-49fa-a8a1-6dd1a377e836",
   "metadata": {},
   "source": [
    "##### Numpy Array of Ones"
   ]
  },
  {
   "cell_type": "code",
   "execution_count": 7,
   "id": "0d76cb19-09de-46b9-a259-b2b9cb737dce",
   "metadata": {},
   "outputs": [
    {
     "name": "stdout",
     "output_type": "stream",
     "text": [
      "A7 Ones:  [1. 1. 1. 1. 1. 1. 1.]  Type:  <class 'numpy.ndarray'>  Dimension:  (7,)\n",
      "A7 Ones Matrix: \n",
      " [[1. 1. 1. 1.]\n",
      " [1. 1. 1. 1.]\n",
      " [1. 1. 1. 1.]] \n",
      " Type:  <class 'numpy.ndarray'>  Dimension:  (3, 4)\n"
     ]
    }
   ],
   "source": [
    "arr_7_ones = np.ones( 7 )\n",
    "print ( 'A7 Ones: ', arr_7_ones, ' Type: ', type(arr_7_ones), ' Dimension: ', arr_7_ones.shape  )\n",
    "\n",
    "arr_7_ones_matrix = np.ones( (3,4) ) \n",
    "print ( 'A7 Ones Matrix: \\n', arr_7_ones_matrix, '\\n Type: ', type(arr_7_ones_matrix), ' Dimension: ', arr_7_ones_matrix.shape  )"
   ]
  },
  {
   "cell_type": "markdown",
   "id": "ba6c3688-6406-47a7-8460-18269349cf0e",
   "metadata": {},
   "source": [
    "##### Numpy Array of Random Numbers"
   ]
  },
  {
   "cell_type": "code",
   "execution_count": 8,
   "id": "02f4f39c-e60d-4346-b220-c3164916b947",
   "metadata": {},
   "outputs": [
    {
     "name": "stdout",
     "output_type": "stream",
     "text": [
      "A8 Random: [0.29452141 0.16898443 0.40808302 0.9066665  0.60686843] Type:  <class 'numpy.ndarray'>  Dimension:  (5,)\n",
      "A8 Random Matrix: \n",
      " [[0.66629482 0.90171642 0.71948127 0.19769632]\n",
      " [0.76000646 0.10557094 0.74896196 0.69418778]\n",
      " [0.69463122 0.96989879 0.3063745  0.45097678]\n",
      " [0.93637105 0.90598624 0.7493628  0.65029284]] \n",
      " Type:  <class 'numpy.ndarray'>  Dimension:  (4, 4)\n",
      "Num: 65 \t Type:  <class 'int'>\n",
      "A8 12 Random Nums:  [96 36 21 87 48 58 38  2 80 30 20 92]  Type:  <class 'numpy.ndarray'>  Dimension:  (12,)\n"
     ]
    }
   ],
   "source": [
    "# A Uniformly distributed 1-D Array of Numbers\n",
    "arr_8_random = np.random.rand( 5 )\n",
    "print ( 'A8 Random:', arr_8_random, 'Type: ', type(arr_8_random), ' Dimension: ', arr_8_random.shape  )\n",
    "\n",
    "arr_8_rand_matrix = np.random.rand( 4,4 )\n",
    "print ( 'A8 Random Matrix: \\n', arr_8_rand_matrix, '\\n Type: ', type(arr_8_rand_matrix), ' Dimension: ', arr_8_rand_matrix.shape  )\n",
    "\n",
    "single_random_num = np.random.randint( 1,100 )\n",
    "print ( 'Num:', single_random_num, '\\t Type: ', type(single_random_num) )\n",
    "\n",
    "arr_8_rand_range = np.random.randint( 1,100,12 )\n",
    "print ( 'A8 12 Random Nums: ', arr_8_rand_range, ' Type: ', type(arr_8_rand_range), ' Dimension: ', arr_8_rand_range.shape  )"
   ]
  },
  {
   "cell_type": "markdown",
   "id": "d137b9d5-f695-46b2-837d-0f2bd0793fdf",
   "metadata": {},
   "source": [
    "##### Array ReShape"
   ]
  },
  {
   "cell_type": "code",
   "execution_count": 9,
   "id": "9a6d932c-4694-4404-9808-d3c1f6d25135",
   "metadata": {},
   "outputs": [
    {
     "name": "stdout",
     "output_type": "stream",
     "text": [
      "A9 16 Random Nums:  [172 129 130 110 145 157 132 150 162 131 184 166 113 125 160 166]  Type:  <class 'numpy.ndarray'>  Dimension:  (16,)\n",
      "A9 Reshaped: \n",
      "  [[172 129 130 110]\n",
      " [145 157 132 150]\n",
      " [162 131 184 166]\n",
      " [113 125 160 166]] \n",
      " Type:  <class 'numpy.ndarray'>  Dimension:  (4, 4)\n"
     ]
    }
   ],
   "source": [
    "arr_9_rand_range_matrix = np.random.randint( 100,200,16 )\n",
    "print ( 'A9 16 Random Nums: ', arr_9_rand_range_matrix, ' Type: ', type(arr_9_rand_range_matrix), ' Dimension: ', arr_9_rand_range_matrix.shape  )\n",
    "\n",
    "arr_9_reshaped = arr_9_rand_range_matrix.reshape( 4,4 )\n",
    "print ( 'A9 Reshaped: \\n ', arr_9_reshaped, '\\n Type: ', type(arr_9_reshaped), ' Dimension: ', arr_9_reshaped.shape  )"
   ]
  },
  {
   "cell_type": "markdown",
   "id": "28f99cc6-6c18-42fc-9371-c9d6e662d0f4",
   "metadata": {},
   "source": [
    "##### NP Array Methods"
   ]
  },
  {
   "cell_type": "code",
   "execution_count": 10,
   "id": "580fe345-c5ea-47d7-99b5-f2b1a8f21bc2",
   "metadata": {},
   "outputs": [
    {
     "name": "stdout",
     "output_type": "stream",
     "text": [
      "A10 12 Random Nums:  [296 229 205 264 267 203 253 235 280 227 254 217]  Type:  <class 'numpy.ndarray'>  Dimension:  (12,)\n",
      "A10 12 Random Sorted:  [203 205 217 227 229 235 253 254 264 267 280 296] \t Min Value:  203  \t Max Value:  296\n",
      "Mean:  244.17  \t Sum:  2930\n"
     ]
    }
   ],
   "source": [
    "arr_10_rand_range = np.random.randint( 200,300,12 )\n",
    "print ( 'A10 12 Random Nums: ', arr_10_rand_range, ' Type: ', type(arr_10_rand_range), ' Dimension: ', arr_10_rand_range.shape  )\n",
    "\n",
    "print( 'A10 12 Random Sorted: ', np.sort(arr_10_rand_range), '\\t Min Value: ', arr_10_rand_range.min(), ' \\t Max Value: ', arr_10_rand_range.max() )\n",
    "print( 'Mean: ', np.round( arr_10_rand_range.mean(), 2 ), ' \\t Sum: ', arr_10_rand_range.sum() )"
   ]
  },
  {
   "cell_type": "markdown",
   "id": "5a1c81ef-620d-40cd-be70-8f8d04495ae7",
   "metadata": {},
   "source": [
    "##### NP Array Slicing"
   ]
  },
  {
   "cell_type": "code",
   "execution_count": 11,
   "id": "caa36b92-3709-435e-bff4-b2d27abaea24",
   "metadata": {},
   "outputs": [
    {
     "name": "stdout",
     "output_type": "stream",
     "text": [
      "Original Array :  [283 206 259 285 241 297 231 266 283 255 239 271]\n",
      "First 5 Elements Starting from 1st element:  [229 205 264 267]\n",
      "All Elements till 8 :  [296 229 205 264 267 203 253 235]\n"
     ]
    }
   ],
   "source": [
    "print( 'Original Array : ', np.random.randint( 200,300,12 ) )\n",
    "print( 'First 5 Elements Starting from 1st element: ', arr_10_rand_range[ 1:5 ] )\n",
    "print( 'All Elements till 8 : ', arr_10_rand_range[ :8 ] )"
   ]
  },
  {
   "cell_type": "markdown",
   "id": "13d6697d-9e8f-4b47-a3db-b82afdc1a2e1",
   "metadata": {},
   "source": [
    "##### Broadcast Certain Value to the Array"
   ]
  },
  {
   "cell_type": "code",
   "execution_count": 12,
   "id": "f9e56895-0b71-4b27-9d2a-c290c49769ba",
   "metadata": {},
   "outputs": [
    {
     "name": "stdout",
     "output_type": "stream",
     "text": [
      "Original Array :  [282 224 217 296 250 223 206 240 227 213 218 224]\n",
      "Broadcasted Array :  [100 224 100 296 100 223 100 240 100 213 100 224]\n"
     ]
    }
   ],
   "source": [
    "arr_11 = np.random.randint( 200,300,12 )\n",
    "\n",
    "print( 'Original Array : ', arr_11 )\n",
    "\n",
    "# Broadcast 100 Value to Even Number Elements\n",
    "\n",
    "arr_11[ ::2 ] = 100\n",
    "\n",
    "print( 'Broadcasted Array : ', arr_11 )"
   ]
  },
  {
   "cell_type": "markdown",
   "id": "83595fbb-50a4-4347-be36-324c7d15b9fb",
   "metadata": {},
   "source": [
    "##### Indexing 2-D Arrays"
   ]
  },
  {
   "cell_type": "code",
   "execution_count": 13,
   "id": "8843e309-bf07-47f3-ad7b-60b5a9cbc336",
   "metadata": {},
   "outputs": [
    {
     "name": "stdout",
     "output_type": "stream",
     "text": [
      "A12: \n",
      "  [[ 5 10 15]\n",
      " [20 25 30]\n",
      " [35 40 45]] \n",
      " Type:  <class 'numpy.ndarray'>  Dimension:  (3, 3)\n",
      "First Row:  [ 5 10 15]\n",
      "Value at 1,3:  15\n",
      "Value at 2,2:  25\n",
      "Everything until Row 2 and Column 1 onwards : \n",
      " [[10 15]\n",
      " [25 30]]\n"
     ]
    }
   ],
   "source": [
    "arrMatrix = np.array( [ [5,10,15], [20,25,30], [35,40,45] ] )\n",
    "print ( 'A12: \\n ', arrMatrix, '\\n Type: ', type(arrMatrix), ' Dimension: ', arrMatrix.shape )\n",
    "\n",
    "print( 'First Row: ', arrMatrix[0] )\n",
    "# Indices start from 0\n",
    "print( 'Value at 1,3: ', arrMatrix[0][2] )\n",
    "print( 'Value at 2,2: ', arrMatrix[1,1] )\n",
    "\n",
    "# 2-D Array Slicing\n",
    "print( 'Everything until Row 2 and Column 1 onwards : \\n', arrMatrix[ : 2,1 : ] )"
   ]
  },
  {
   "cell_type": "markdown",
   "id": "e6a4f373-f41f-44b7-bf6f-813696b5605a",
   "metadata": {},
   "source": [
    "##### Generate Arrays based on Condition"
   ]
  },
  {
   "cell_type": "code",
   "execution_count": 14,
   "id": "2082caa4-31f0-4b6b-82ef-46bc30f3b4b1",
   "metadata": {},
   "outputs": [
    {
     "name": "stdout",
     "output_type": "stream",
     "text": [
      "A13:  [61 69 68 51 64 55 56 56 68 53 52 52]\n",
      "Bool:  [False False  True False  True False  True  True  True False  True  True]\n",
      "Values from Original Array Satisfying the condition :  [68 64 56 56 68 52 52]\n"
     ]
    }
   ],
   "source": [
    "arr_12 = np.random.randint( 50,70,12 )\n",
    "\n",
    "print ( 'A13: ', arr_12 )\n",
    "bool_arr = (arr_12 % 2 == 0)\n",
    "print ( 'Bool: ', bool_arr )\n",
    "print( 'Values from Original Array Satisfying the condition : ', arr_12[ bool_arr ] )"
   ]
  },
  {
   "cell_type": "markdown",
   "id": "3276195f-361c-48ac-933e-60f88fd792e7",
   "metadata": {},
   "source": [
    "###### Do all the Steps in one Line "
   ]
  },
  {
   "cell_type": "code",
   "execution_count": 15,
   "id": "0bf2fa65-a000-4d45-9dff-b8f2138a0d60",
   "metadata": {},
   "outputs": [
    {
     "name": "stdout",
     "output_type": "stream",
     "text": [
      "Original Array : [42 53 67 78 40 69 23 59 49 79 64 72 27 82 27]\n",
      "Conditional Array :  [42 78 40 64 72 82]\n"
     ]
    }
   ],
   "source": [
    "arr_13 = np.random.randint( 20,90,15 )\n",
    "print( 'Original Array :', arr_13 )\n",
    "print( 'Conditional Array : ', arr_13 [ arr_13 % 2 == 0 ] )"
   ]
  },
  {
   "cell_type": "markdown",
   "id": "c2828f7a-22ee-431d-9287-405e0f3188fc",
   "metadata": {},
   "source": [
    "##### Numpy Array Arithmetic"
   ]
  },
  {
   "cell_type": "code",
   "execution_count": 16,
   "id": "c82be0b9-5b50-4500-8576-e87d18b5af49",
   "metadata": {},
   "outputs": [
    {
     "name": "stdout",
     "output_type": "stream",
     "text": [
      "Array #1 :  [33 37 46 13 38 38 41 36 17 39]\n",
      "Array #2 :  [99 98 90 98 76 92 72 83 96 87]\n",
      "Array Add :  [132 135 136 111 114 130 113 119 113 126]\n",
      "Array Sub :  [-66 -61 -44 -85 -38 -54 -31 -47 -79 -48]\n",
      "Array Mul :  [3267 3626 4140 1274 2888 3496 2952 2988 1632 3393]\n",
      "Array Div :  [0.33 0.38 0.51 0.13 0.5  0.41 0.57 0.43 0.18 0.45]\n",
      "Array Scalar Addition :  [133 137 146 113 138 138 141 136 117 139]\n"
     ]
    }
   ],
   "source": [
    "arr_14 = np.random.randint( 10,50,10 )\n",
    "arr_15 = np.random.randint( 70,100,10 )\n",
    "\n",
    "print( 'Array #1 : ', arr_14 )\n",
    "print( 'Array #2 : ', arr_15 )\n",
    "\n",
    "print( 'Array Add : ', arr_14 + arr_15 )\n",
    "print( 'Array Sub : ', arr_14 - arr_15 )\n",
    "print( 'Array Mul : ', arr_14 * arr_15 )\n",
    "print( 'Array Div : ', np.round (arr_14 / arr_15, 2) )\n",
    "\n",
    "print( 'Array Scalar Addition : ', arr_14 + 100 )"
   ]
  },
  {
   "cell_type": "markdown",
   "id": "0f26bed2-c5d3-4cb7-9f06-cc8c8d6645fe",
   "metadata": {},
   "source": [
    "##### Universal Array Functions - Mathematical Operations to be Broadcasted to the entire Array"
   ]
  },
  {
   "cell_type": "code",
   "execution_count": 17,
   "id": "d0138247-9150-4990-a693-7dda0402623b",
   "metadata": {},
   "outputs": [
    {
     "name": "stdout",
     "output_type": "stream",
     "text": [
      "Arr Original : \t \t [80 70 93 97 92 84 98 70 80 99]\n",
      "Square Root of each element :  [8.94 8.37 9.64 9.85 9.59 9.17 9.9  8.37 8.94 9.95]\n",
      "SIN of each element :  [-0.99  0.77 -0.95  0.38 -0.78  0.73 -0.57  0.77 -0.99 -1.  ]\n",
      "Log of each element :  [4.38 4.25 4.53 4.57 4.52 4.43 4.58 4.25 4.38 4.6 ]\n"
     ]
    }
   ],
   "source": [
    "arr_16 = np.random.randint( 70,100,10 )\n",
    "print( 'Arr Original : \\t \\t', arr_16 )\n",
    "print( 'Square Root of each element : ', np.round (np.sqrt(arr_16), 2) )\n",
    "print( 'SIN of each element : ', np.round (np.sin(arr_16), 2) )\n",
    "print( 'Log of each element : ', np.round (np.log(arr_16), 2) )"
   ]
  },
  {
   "cell_type": "markdown",
   "id": "97327e96-b335-44d8-bad3-cf638bd99456",
   "metadata": {},
   "source": [
    "#### Pandas Code"
   ]
  },
  {
   "cell_type": "code",
   "execution_count": 18,
   "id": "4474f535-ff2c-4699-a238-86e881eca3cb",
   "metadata": {},
   "outputs": [],
   "source": [
    "labels = [ 'a', 'b', 'c' ]\n",
    "myData = [ 10, 20, 30 ]\n",
    "arr_18 = np.array( myData )\n",
    "myDict = { 'a': 10, 'b': 20, 'c': 30 }"
   ]
  },
  {
   "cell_type": "code",
   "execution_count": 19,
   "id": "47a187bf-53e1-4781-be25-7ba91c6a1411",
   "metadata": {},
   "outputs": [
    {
     "name": "stdout",
     "output_type": "stream",
     "text": [
      "Data : \n",
      " 0    10\n",
      "1    20\n",
      "2    30\n",
      "dtype: int64  Dimension :  (3,)\n"
     ]
    }
   ],
   "source": [
    "series_1 = pd.Series( data= myData )\n",
    "print( 'Data : \\n', series_1, ' Dimension : ', series_1.shape )"
   ]
  },
  {
   "cell_type": "code",
   "execution_count": 20,
   "id": "97bb0970-94ad-4fb8-899e-3b744dda8739",
   "metadata": {},
   "outputs": [
    {
     "name": "stdout",
     "output_type": "stream",
     "text": [
      "Data : \n",
      " a    10\n",
      "b    20\n",
      "c    30\n",
      "dtype: int64  Dimension :  (3,)\n"
     ]
    }
   ],
   "source": [
    "# Pandas Series is a Key-Value Type DataStructure, so we can specify the Keys if we want\n",
    "series_2 = pd.Series( data= myData, index= labels )\n",
    "print( 'Data : \\n', series_2, ' Dimension : ', series_2.shape )"
   ]
  },
  {
   "cell_type": "code",
   "execution_count": 21,
   "id": "fe05568d-d6c7-4502-a026-59d055c85442",
   "metadata": {},
   "outputs": [
    {
     "name": "stdout",
     "output_type": "stream",
     "text": [
      "Data : \n",
      " a    10\n",
      "b    20\n",
      "c    30\n",
      "dtype: int32  Dimension :  (3,)\n"
     ]
    }
   ],
   "source": [
    "# Instead of a List we can also specify a numpy array\n",
    "series_3 = pd.Series( arr_18,labels )\n",
    "print( 'Data : \\n', series_3, ' Dimension : ', series_3.shape )"
   ]
  },
  {
   "cell_type": "code",
   "execution_count": 22,
   "id": "ee5512c4-c477-4ac3-95a0-dff51adda701",
   "metadata": {},
   "outputs": [
    {
     "name": "stdout",
     "output_type": "stream",
     "text": [
      "Data : \n",
      " a    10\n",
      "b    20\n",
      "c    30\n",
      "dtype: int64  Dimension :  (3,)\n"
     ]
    }
   ],
   "source": [
    "# We can also pass a Dictionary directly which replaces the data and indexes\n",
    "series_4 = pd.Series( myDict )\n",
    "print( 'Data : \\n', series_4, ' Dimension : ', series_4.shape )"
   ]
  },
  {
   "cell_type": "markdown",
   "id": "89c30a62-42c9-4efd-8fa3-da84834a05ec",
   "metadata": {},
   "source": [
    "##### Series Index "
   ]
  },
  {
   "cell_type": "code",
   "execution_count": 23,
   "id": "c427b83c-8044-4757-a359-d4dd1aed690d",
   "metadata": {},
   "outputs": [
    {
     "name": "stdout",
     "output_type": "stream",
     "text": [
      "Apple     1\n",
      "Banana    2\n",
      "Car       3\n",
      "Dog       4\n",
      "dtype: int64 \n",
      " Apple     6\n",
      "Banana    7\n",
      "Bike      8\n",
      "Dog       9\n",
      "dtype: int64\n",
      "Vals for Apple : 1 \t 6\n",
      "Vals for First Element : 2 \t 7\n"
     ]
    }
   ],
   "source": [
    "series_5 = pd.Series( [1,2,3,4], ['Apple', 'Banana', 'Car', 'Dog'] )\n",
    "series_6 = pd.Series( [6,7,8,9], ['Apple', 'Banana', 'Bike', 'Dog'] )\n",
    "\n",
    "print( series_5, '\\n', series_6 )\n",
    "print( 'Vals for Apple :', series_5['Apple'], '\\t', series_6['Apple'] )\n",
    "print( 'Vals for First Element :', series_5[1], '\\t', series_6[1] )"
   ]
  },
  {
   "cell_type": "markdown",
   "id": "95f14f4d-947b-4562-a5bc-2fb69ec52b3a",
   "metadata": {},
   "source": [
    "###### Series Arithmatic - Same Values (Apple, Banana, Dog) will be calculated and unequal ones (Bike & Car ) Null"
   ]
  },
  {
   "cell_type": "code",
   "execution_count": 24,
   "id": "3e7284f0-f610-4494-9994-6d2d9a77e763",
   "metadata": {},
   "outputs": [
    {
     "name": "stdout",
     "output_type": "stream",
     "text": [
      "Add : \n",
      " Apple      7.0\n",
      "Banana     9.0\n",
      "Bike       NaN\n",
      "Car        NaN\n",
      "Dog       13.0\n",
      "dtype: float64\n",
      "Sub : \n",
      " Apple    -5.0\n",
      "Banana   -5.0\n",
      "Bike      NaN\n",
      "Car       NaN\n",
      "Dog      -5.0\n",
      "dtype: float64\n"
     ]
    }
   ],
   "source": [
    " print( 'Add : \\n', series_5 + series_6 )\n",
    "print( 'Sub : \\n', series_5 - series_6 )"
   ]
  },
  {
   "cell_type": "markdown",
   "id": "6bc54675-5001-491a-9b46-1b2168ad7b01",
   "metadata": {},
   "source": [
    "##### DataFrames - Basically Bunch of Series sharing an index"
   ]
  },
  {
   "cell_type": "markdown",
   "id": "6ba4f67e-edae-46ac-9e94-70a6ab2cc02d",
   "metadata": {},
   "source": [
    "###### Create DataFrame as pd.DataFrame( Values, Row-Indices, Column-Indices )"
   ]
  },
  {
   "cell_type": "code",
   "execution_count": 25,
   "id": "6366224f-dc2f-4b3c-b353-a86abcd793b8",
   "metadata": {},
   "outputs": [
    {
     "data": {
      "text/html": [
       "<div>\n",
       "<style scoped>\n",
       "    .dataframe tbody tr th:only-of-type {\n",
       "        vertical-align: middle;\n",
       "    }\n",
       "\n",
       "    .dataframe tbody tr th {\n",
       "        vertical-align: top;\n",
       "    }\n",
       "\n",
       "    .dataframe thead th {\n",
       "        text-align: right;\n",
       "    }\n",
       "</style>\n",
       "<table border=\"1\" class=\"dataframe\">\n",
       "  <thead>\n",
       "    <tr style=\"text-align: right;\">\n",
       "      <th></th>\n",
       "      <th>W</th>\n",
       "      <th>X</th>\n",
       "      <th>Y</th>\n",
       "      <th>Z</th>\n",
       "    </tr>\n",
       "  </thead>\n",
       "  <tbody>\n",
       "    <tr>\n",
       "      <th>A</th>\n",
       "      <td>-1.502171</td>\n",
       "      <td>-1.418531</td>\n",
       "      <td>-0.966006</td>\n",
       "      <td>-0.542700</td>\n",
       "    </tr>\n",
       "    <tr>\n",
       "      <th>B</th>\n",
       "      <td>0.386827</td>\n",
       "      <td>0.448747</td>\n",
       "      <td>0.175532</td>\n",
       "      <td>-0.773469</td>\n",
       "    </tr>\n",
       "    <tr>\n",
       "      <th>C</th>\n",
       "      <td>-1.529710</td>\n",
       "      <td>-1.602679</td>\n",
       "      <td>0.983551</td>\n",
       "      <td>0.661652</td>\n",
       "    </tr>\n",
       "    <tr>\n",
       "      <th>D</th>\n",
       "      <td>-0.668999</td>\n",
       "      <td>0.501712</td>\n",
       "      <td>-0.990988</td>\n",
       "      <td>-0.292770</td>\n",
       "    </tr>\n",
       "    <tr>\n",
       "      <th>E</th>\n",
       "      <td>-0.842790</td>\n",
       "      <td>0.604163</td>\n",
       "      <td>-1.237439</td>\n",
       "      <td>1.204377</td>\n",
       "    </tr>\n",
       "  </tbody>\n",
       "</table>\n",
       "</div>"
      ],
      "text/plain": [
       "          W         X         Y         Z\n",
       "A -1.502171 -1.418531 -0.966006 -0.542700\n",
       "B  0.386827  0.448747  0.175532 -0.773469\n",
       "C -1.529710 -1.602679  0.983551  0.661652\n",
       "D -0.668999  0.501712 -0.990988 -0.292770\n",
       "E -0.842790  0.604163 -1.237439  1.204377"
      ]
     },
     "execution_count": 25,
     "metadata": {},
     "output_type": "execute_result"
    }
   ],
   "source": [
    "from numpy.random import randn \n",
    "\n",
    "df_1 = pd.DataFrame( randn(5,4), ['A','B','C','D','E'], ['W','X','Y','Z'] )\n",
    "df_1"
   ]
  },
  {
   "cell_type": "code",
   "execution_count": 26,
   "id": "bcaade41-cb89-4593-ac24-ae2d3776df8d",
   "metadata": {},
   "outputs": [
    {
     "name": "stdout",
     "output_type": "stream",
     "text": [
      "W Column: \n",
      "\n"
     ]
    },
    {
     "data": {
      "text/plain": [
       "A   -1.502171\n",
       "B    0.386827\n",
       "C   -1.529710\n",
       "D   -0.668999\n",
       "E   -0.842790\n",
       "Name: W, dtype: float64"
      ]
     },
     "execution_count": 26,
     "metadata": {},
     "output_type": "execute_result"
    }
   ],
   "source": [
    "print( 'W Column: \\n' )\n",
    "df_1['W']"
   ]
  },
  {
   "cell_type": "code",
   "execution_count": 27,
   "id": "80c99c52-7329-49ed-b820-45929c12d97a",
   "metadata": {},
   "outputs": [
    {
     "name": "stdout",
     "output_type": "stream",
     "text": [
      "W and Z Columns: \n",
      "\n"
     ]
    },
    {
     "data": {
      "text/html": [
       "<div>\n",
       "<style scoped>\n",
       "    .dataframe tbody tr th:only-of-type {\n",
       "        vertical-align: middle;\n",
       "    }\n",
       "\n",
       "    .dataframe tbody tr th {\n",
       "        vertical-align: top;\n",
       "    }\n",
       "\n",
       "    .dataframe thead th {\n",
       "        text-align: right;\n",
       "    }\n",
       "</style>\n",
       "<table border=\"1\" class=\"dataframe\">\n",
       "  <thead>\n",
       "    <tr style=\"text-align: right;\">\n",
       "      <th></th>\n",
       "      <th>W</th>\n",
       "      <th>Z</th>\n",
       "    </tr>\n",
       "  </thead>\n",
       "  <tbody>\n",
       "    <tr>\n",
       "      <th>A</th>\n",
       "      <td>-1.502171</td>\n",
       "      <td>-0.542700</td>\n",
       "    </tr>\n",
       "    <tr>\n",
       "      <th>B</th>\n",
       "      <td>0.386827</td>\n",
       "      <td>-0.773469</td>\n",
       "    </tr>\n",
       "    <tr>\n",
       "      <th>C</th>\n",
       "      <td>-1.529710</td>\n",
       "      <td>0.661652</td>\n",
       "    </tr>\n",
       "    <tr>\n",
       "      <th>D</th>\n",
       "      <td>-0.668999</td>\n",
       "      <td>-0.292770</td>\n",
       "    </tr>\n",
       "    <tr>\n",
       "      <th>E</th>\n",
       "      <td>-0.842790</td>\n",
       "      <td>1.204377</td>\n",
       "    </tr>\n",
       "  </tbody>\n",
       "</table>\n",
       "</div>"
      ],
      "text/plain": [
       "          W         Z\n",
       "A -1.502171 -0.542700\n",
       "B  0.386827 -0.773469\n",
       "C -1.529710  0.661652\n",
       "D -0.668999 -0.292770\n",
       "E -0.842790  1.204377"
      ]
     },
     "execution_count": 27,
     "metadata": {},
     "output_type": "execute_result"
    }
   ],
   "source": [
    "print( 'W and Z Columns: \\n' )\n",
    "df_1[ ['W', 'Z'] ]"
   ]
  },
  {
   "cell_type": "markdown",
   "id": "0c02816c-6682-49e3-a2c6-3385c7c22a46",
   "metadata": {},
   "source": [
    "##### Add a New Column by simply stating the Name"
   ]
  },
  {
   "cell_type": "code",
   "execution_count": 28,
   "id": "896610fa-e3de-44f5-a32e-af5b1edde096",
   "metadata": {},
   "outputs": [
    {
     "data": {
      "text/html": [
       "<div>\n",
       "<style scoped>\n",
       "    .dataframe tbody tr th:only-of-type {\n",
       "        vertical-align: middle;\n",
       "    }\n",
       "\n",
       "    .dataframe tbody tr th {\n",
       "        vertical-align: top;\n",
       "    }\n",
       "\n",
       "    .dataframe thead th {\n",
       "        text-align: right;\n",
       "    }\n",
       "</style>\n",
       "<table border=\"1\" class=\"dataframe\">\n",
       "  <thead>\n",
       "    <tr style=\"text-align: right;\">\n",
       "      <th></th>\n",
       "      <th>W</th>\n",
       "      <th>X</th>\n",
       "      <th>Y</th>\n",
       "      <th>Z</th>\n",
       "      <th>newCol</th>\n",
       "    </tr>\n",
       "  </thead>\n",
       "  <tbody>\n",
       "    <tr>\n",
       "      <th>A</th>\n",
       "      <td>-1.502171</td>\n",
       "      <td>-1.418531</td>\n",
       "      <td>-0.966006</td>\n",
       "      <td>-0.542700</td>\n",
       "      <td>-2.044871</td>\n",
       "    </tr>\n",
       "    <tr>\n",
       "      <th>B</th>\n",
       "      <td>0.386827</td>\n",
       "      <td>0.448747</td>\n",
       "      <td>0.175532</td>\n",
       "      <td>-0.773469</td>\n",
       "      <td>-0.386641</td>\n",
       "    </tr>\n",
       "    <tr>\n",
       "      <th>C</th>\n",
       "      <td>-1.529710</td>\n",
       "      <td>-1.602679</td>\n",
       "      <td>0.983551</td>\n",
       "      <td>0.661652</td>\n",
       "      <td>-0.868059</td>\n",
       "    </tr>\n",
       "    <tr>\n",
       "      <th>D</th>\n",
       "      <td>-0.668999</td>\n",
       "      <td>0.501712</td>\n",
       "      <td>-0.990988</td>\n",
       "      <td>-0.292770</td>\n",
       "      <td>-0.961770</td>\n",
       "    </tr>\n",
       "    <tr>\n",
       "      <th>E</th>\n",
       "      <td>-0.842790</td>\n",
       "      <td>0.604163</td>\n",
       "      <td>-1.237439</td>\n",
       "      <td>1.204377</td>\n",
       "      <td>0.361586</td>\n",
       "    </tr>\n",
       "  </tbody>\n",
       "</table>\n",
       "</div>"
      ],
      "text/plain": [
       "          W         X         Y         Z    newCol\n",
       "A -1.502171 -1.418531 -0.966006 -0.542700 -2.044871\n",
       "B  0.386827  0.448747  0.175532 -0.773469 -0.386641\n",
       "C -1.529710 -1.602679  0.983551  0.661652 -0.868059\n",
       "D -0.668999  0.501712 -0.990988 -0.292770 -0.961770\n",
       "E -0.842790  0.604163 -1.237439  1.204377  0.361586"
      ]
     },
     "execution_count": 28,
     "metadata": {},
     "output_type": "execute_result"
    }
   ],
   "source": [
    "df_1[ 'newCol' ] = df_1['W'] + df_1['Z'] \n",
    "df_1"
   ]
  },
  {
   "cell_type": "markdown",
   "id": "d9d44e5e-d7de-4ad8-8e26-51674002c227",
   "metadata": {},
   "source": [
    "#### Column = 1 and Row = 0"
   ]
  },
  {
   "cell_type": "markdown",
   "id": "34f0d560-9893-4f26-a022-35fa6e13d6b6",
   "metadata": {},
   "source": [
    "##### Drop a Column Temporarily"
   ]
  },
  {
   "cell_type": "code",
   "execution_count": 29,
   "id": "bfa35cee-f5c4-4495-aae7-9a423bb49db1",
   "metadata": {},
   "outputs": [
    {
     "data": {
      "text/html": [
       "<div>\n",
       "<style scoped>\n",
       "    .dataframe tbody tr th:only-of-type {\n",
       "        vertical-align: middle;\n",
       "    }\n",
       "\n",
       "    .dataframe tbody tr th {\n",
       "        vertical-align: top;\n",
       "    }\n",
       "\n",
       "    .dataframe thead th {\n",
       "        text-align: right;\n",
       "    }\n",
       "</style>\n",
       "<table border=\"1\" class=\"dataframe\">\n",
       "  <thead>\n",
       "    <tr style=\"text-align: right;\">\n",
       "      <th></th>\n",
       "      <th>W</th>\n",
       "      <th>X</th>\n",
       "      <th>Y</th>\n",
       "      <th>Z</th>\n",
       "    </tr>\n",
       "  </thead>\n",
       "  <tbody>\n",
       "    <tr>\n",
       "      <th>A</th>\n",
       "      <td>-1.502171</td>\n",
       "      <td>-1.418531</td>\n",
       "      <td>-0.966006</td>\n",
       "      <td>-0.542700</td>\n",
       "    </tr>\n",
       "    <tr>\n",
       "      <th>B</th>\n",
       "      <td>0.386827</td>\n",
       "      <td>0.448747</td>\n",
       "      <td>0.175532</td>\n",
       "      <td>-0.773469</td>\n",
       "    </tr>\n",
       "    <tr>\n",
       "      <th>C</th>\n",
       "      <td>-1.529710</td>\n",
       "      <td>-1.602679</td>\n",
       "      <td>0.983551</td>\n",
       "      <td>0.661652</td>\n",
       "    </tr>\n",
       "    <tr>\n",
       "      <th>D</th>\n",
       "      <td>-0.668999</td>\n",
       "      <td>0.501712</td>\n",
       "      <td>-0.990988</td>\n",
       "      <td>-0.292770</td>\n",
       "    </tr>\n",
       "    <tr>\n",
       "      <th>E</th>\n",
       "      <td>-0.842790</td>\n",
       "      <td>0.604163</td>\n",
       "      <td>-1.237439</td>\n",
       "      <td>1.204377</td>\n",
       "    </tr>\n",
       "  </tbody>\n",
       "</table>\n",
       "</div>"
      ],
      "text/plain": [
       "          W         X         Y         Z\n",
       "A -1.502171 -1.418531 -0.966006 -0.542700\n",
       "B  0.386827  0.448747  0.175532 -0.773469\n",
       "C -1.529710 -1.602679  0.983551  0.661652\n",
       "D -0.668999  0.501712 -0.990988 -0.292770\n",
       "E -0.842790  0.604163 -1.237439  1.204377"
      ]
     },
     "execution_count": 29,
     "metadata": {},
     "output_type": "execute_result"
    }
   ],
   "source": [
    "df_1.drop( 'newCol', axis=1 )"
   ]
  },
  {
   "cell_type": "markdown",
   "id": "6ffcdb19-e9b4-4cc7-ad33-c19409b70852",
   "metadata": {},
   "source": [
    "##### To Drop the Column permanently use inplace=True"
   ]
  },
  {
   "cell_type": "code",
   "execution_count": 30,
   "id": "6aaa3548-2d4c-4b73-801c-bfb15308e72f",
   "metadata": {},
   "outputs": [
    {
     "data": {
      "text/html": [
       "<div>\n",
       "<style scoped>\n",
       "    .dataframe tbody tr th:only-of-type {\n",
       "        vertical-align: middle;\n",
       "    }\n",
       "\n",
       "    .dataframe tbody tr th {\n",
       "        vertical-align: top;\n",
       "    }\n",
       "\n",
       "    .dataframe thead th {\n",
       "        text-align: right;\n",
       "    }\n",
       "</style>\n",
       "<table border=\"1\" class=\"dataframe\">\n",
       "  <thead>\n",
       "    <tr style=\"text-align: right;\">\n",
       "      <th></th>\n",
       "      <th>W</th>\n",
       "      <th>X</th>\n",
       "      <th>Y</th>\n",
       "      <th>Z</th>\n",
       "    </tr>\n",
       "  </thead>\n",
       "  <tbody>\n",
       "    <tr>\n",
       "      <th>A</th>\n",
       "      <td>-1.502171</td>\n",
       "      <td>-1.418531</td>\n",
       "      <td>-0.966006</td>\n",
       "      <td>-0.542700</td>\n",
       "    </tr>\n",
       "    <tr>\n",
       "      <th>B</th>\n",
       "      <td>0.386827</td>\n",
       "      <td>0.448747</td>\n",
       "      <td>0.175532</td>\n",
       "      <td>-0.773469</td>\n",
       "    </tr>\n",
       "    <tr>\n",
       "      <th>C</th>\n",
       "      <td>-1.529710</td>\n",
       "      <td>-1.602679</td>\n",
       "      <td>0.983551</td>\n",
       "      <td>0.661652</td>\n",
       "    </tr>\n",
       "    <tr>\n",
       "      <th>D</th>\n",
       "      <td>-0.668999</td>\n",
       "      <td>0.501712</td>\n",
       "      <td>-0.990988</td>\n",
       "      <td>-0.292770</td>\n",
       "    </tr>\n",
       "    <tr>\n",
       "      <th>E</th>\n",
       "      <td>-0.842790</td>\n",
       "      <td>0.604163</td>\n",
       "      <td>-1.237439</td>\n",
       "      <td>1.204377</td>\n",
       "    </tr>\n",
       "  </tbody>\n",
       "</table>\n",
       "</div>"
      ],
      "text/plain": [
       "          W         X         Y         Z\n",
       "A -1.502171 -1.418531 -0.966006 -0.542700\n",
       "B  0.386827  0.448747  0.175532 -0.773469\n",
       "C -1.529710 -1.602679  0.983551  0.661652\n",
       "D -0.668999  0.501712 -0.990988 -0.292770\n",
       "E -0.842790  0.604163 -1.237439  1.204377"
      ]
     },
     "execution_count": 30,
     "metadata": {},
     "output_type": "execute_result"
    }
   ],
   "source": [
    "df_1.drop( 'newCol', axis=1, inplace=True )\n",
    "df_1"
   ]
  },
  {
   "cell_type": "markdown",
   "id": "42411d1b-8b2a-4efe-976e-3e833c03340c",
   "metadata": {},
   "source": [
    "##### To Drop the Row Use Axis = 0 "
   ]
  },
  {
   "cell_type": "code",
   "execution_count": 31,
   "id": "74d55bc1-526f-4f04-936d-291a27989b11",
   "metadata": {},
   "outputs": [
    {
     "data": {
      "text/html": [
       "<div>\n",
       "<style scoped>\n",
       "    .dataframe tbody tr th:only-of-type {\n",
       "        vertical-align: middle;\n",
       "    }\n",
       "\n",
       "    .dataframe tbody tr th {\n",
       "        vertical-align: top;\n",
       "    }\n",
       "\n",
       "    .dataframe thead th {\n",
       "        text-align: right;\n",
       "    }\n",
       "</style>\n",
       "<table border=\"1\" class=\"dataframe\">\n",
       "  <thead>\n",
       "    <tr style=\"text-align: right;\">\n",
       "      <th></th>\n",
       "      <th>W</th>\n",
       "      <th>X</th>\n",
       "      <th>Y</th>\n",
       "      <th>Z</th>\n",
       "    </tr>\n",
       "  </thead>\n",
       "  <tbody>\n",
       "    <tr>\n",
       "      <th>B</th>\n",
       "      <td>0.386827</td>\n",
       "      <td>0.448747</td>\n",
       "      <td>0.175532</td>\n",
       "      <td>-0.773469</td>\n",
       "    </tr>\n",
       "    <tr>\n",
       "      <th>C</th>\n",
       "      <td>-1.529710</td>\n",
       "      <td>-1.602679</td>\n",
       "      <td>0.983551</td>\n",
       "      <td>0.661652</td>\n",
       "    </tr>\n",
       "    <tr>\n",
       "      <th>D</th>\n",
       "      <td>-0.668999</td>\n",
       "      <td>0.501712</td>\n",
       "      <td>-0.990988</td>\n",
       "      <td>-0.292770</td>\n",
       "    </tr>\n",
       "    <tr>\n",
       "      <th>E</th>\n",
       "      <td>-0.842790</td>\n",
       "      <td>0.604163</td>\n",
       "      <td>-1.237439</td>\n",
       "      <td>1.204377</td>\n",
       "    </tr>\n",
       "  </tbody>\n",
       "</table>\n",
       "</div>"
      ],
      "text/plain": [
       "          W         X         Y         Z\n",
       "B  0.386827  0.448747  0.175532 -0.773469\n",
       "C -1.529710 -1.602679  0.983551  0.661652\n",
       "D -0.668999  0.501712 -0.990988 -0.292770\n",
       "E -0.842790  0.604163 -1.237439  1.204377"
      ]
     },
     "execution_count": 31,
     "metadata": {},
     "output_type": "execute_result"
    }
   ],
   "source": [
    "df_1.drop( 'A', axis=0 )"
   ]
  },
  {
   "cell_type": "markdown",
   "id": "01bea187-0338-4524-b711-73072c909664",
   "metadata": {},
   "source": [
    "###### Same like above permanently with inplace"
   ]
  },
  {
   "cell_type": "code",
   "execution_count": 32,
   "id": "72bc3ea6-5690-4a0e-957e-0100be02dacd",
   "metadata": {},
   "outputs": [
    {
     "data": {
      "text/html": [
       "<div>\n",
       "<style scoped>\n",
       "    .dataframe tbody tr th:only-of-type {\n",
       "        vertical-align: middle;\n",
       "    }\n",
       "\n",
       "    .dataframe tbody tr th {\n",
       "        vertical-align: top;\n",
       "    }\n",
       "\n",
       "    .dataframe thead th {\n",
       "        text-align: right;\n",
       "    }\n",
       "</style>\n",
       "<table border=\"1\" class=\"dataframe\">\n",
       "  <thead>\n",
       "    <tr style=\"text-align: right;\">\n",
       "      <th></th>\n",
       "      <th>W</th>\n",
       "      <th>X</th>\n",
       "      <th>Y</th>\n",
       "      <th>Z</th>\n",
       "    </tr>\n",
       "  </thead>\n",
       "  <tbody>\n",
       "    <tr>\n",
       "      <th>B</th>\n",
       "      <td>0.386827</td>\n",
       "      <td>0.448747</td>\n",
       "      <td>0.175532</td>\n",
       "      <td>-0.773469</td>\n",
       "    </tr>\n",
       "    <tr>\n",
       "      <th>C</th>\n",
       "      <td>-1.529710</td>\n",
       "      <td>-1.602679</td>\n",
       "      <td>0.983551</td>\n",
       "      <td>0.661652</td>\n",
       "    </tr>\n",
       "    <tr>\n",
       "      <th>D</th>\n",
       "      <td>-0.668999</td>\n",
       "      <td>0.501712</td>\n",
       "      <td>-0.990988</td>\n",
       "      <td>-0.292770</td>\n",
       "    </tr>\n",
       "    <tr>\n",
       "      <th>E</th>\n",
       "      <td>-0.842790</td>\n",
       "      <td>0.604163</td>\n",
       "      <td>-1.237439</td>\n",
       "      <td>1.204377</td>\n",
       "    </tr>\n",
       "  </tbody>\n",
       "</table>\n",
       "</div>"
      ],
      "text/plain": [
       "          W         X         Y         Z\n",
       "B  0.386827  0.448747  0.175532 -0.773469\n",
       "C -1.529710 -1.602679  0.983551  0.661652\n",
       "D -0.668999  0.501712 -0.990988 -0.292770\n",
       "E -0.842790  0.604163 -1.237439  1.204377"
      ]
     },
     "execution_count": 32,
     "metadata": {},
     "output_type": "execute_result"
    }
   ],
   "source": [
    "df_1.drop( 'A', axis=0, inplace=True )\n",
    "df_1"
   ]
  },
  {
   "cell_type": "markdown",
   "id": "fed88def-1340-43f2-b5aa-546986d30c02",
   "metadata": {},
   "source": [
    "##### Selecting Rows - df.loc( Row, Col )"
   ]
  },
  {
   "cell_type": "code",
   "execution_count": 33,
   "id": "2afc82fd-404b-417b-951e-7d5084133aba",
   "metadata": {},
   "outputs": [
    {
     "name": "stdout",
     "output_type": "stream",
     "text": [
      "Selected Row: \n"
     ]
    },
    {
     "data": {
      "text/plain": [
       "W    0.386827\n",
       "X    0.448747\n",
       "Y    0.175532\n",
       "Z   -0.773469\n",
       "Name: B, dtype: float64"
      ]
     },
     "execution_count": 33,
     "metadata": {},
     "output_type": "execute_result"
    }
   ],
   "source": [
    "print( 'Selected Row: ' )\n",
    "df_1.loc[ 'B' ]"
   ]
  },
  {
   "cell_type": "code",
   "execution_count": 34,
   "id": "6f1ddf33-ccc7-4372-b88f-790b4e774fbb",
   "metadata": {},
   "outputs": [
    {
     "name": "stdout",
     "output_type": "stream",
     "text": [
      "Selected Row-Column Value: \n"
     ]
    },
    {
     "data": {
      "text/plain": [
       "0.17553162490623306"
      ]
     },
     "execution_count": 34,
     "metadata": {},
     "output_type": "execute_result"
    }
   ],
   "source": [
    "print( 'Selected Row-Column Value: ' )\n",
    "df_1.loc[ 'B','Y' ]"
   ]
  },
  {
   "cell_type": "code",
   "execution_count": 35,
   "id": "5e313a2d-ad30-4d1c-ac32-1cb0d0fa5daf",
   "metadata": {},
   "outputs": [
    {
     "name": "stdout",
     "output_type": "stream",
     "text": [
      "Selected Row-Column Combination\n"
     ]
    },
    {
     "data": {
      "text/html": [
       "<div>\n",
       "<style scoped>\n",
       "    .dataframe tbody tr th:only-of-type {\n",
       "        vertical-align: middle;\n",
       "    }\n",
       "\n",
       "    .dataframe tbody tr th {\n",
       "        vertical-align: top;\n",
       "    }\n",
       "\n",
       "    .dataframe thead th {\n",
       "        text-align: right;\n",
       "    }\n",
       "</style>\n",
       "<table border=\"1\" class=\"dataframe\">\n",
       "  <thead>\n",
       "    <tr style=\"text-align: right;\">\n",
       "      <th></th>\n",
       "      <th>Y</th>\n",
       "      <th>Z</th>\n",
       "    </tr>\n",
       "  </thead>\n",
       "  <tbody>\n",
       "    <tr>\n",
       "      <th>B</th>\n",
       "      <td>0.175532</td>\n",
       "      <td>-0.773469</td>\n",
       "    </tr>\n",
       "    <tr>\n",
       "      <th>D</th>\n",
       "      <td>-0.990988</td>\n",
       "      <td>-0.292770</td>\n",
       "    </tr>\n",
       "  </tbody>\n",
       "</table>\n",
       "</div>"
      ],
      "text/plain": [
       "          Y         Z\n",
       "B  0.175532 -0.773469\n",
       "D -0.990988 -0.292770"
      ]
     },
     "execution_count": 35,
     "metadata": {},
     "output_type": "execute_result"
    }
   ],
   "source": [
    "print( 'Selected Row-Column Combination' )\n",
    "df_1.loc[ ['B','D'], ['Y','Z'] ]"
   ]
  },
  {
   "cell_type": "markdown",
   "id": "1fdd7816-8d2b-4845-a2b4-b8b655f01309",
   "metadata": {},
   "source": [
    "##### Conditional Selection"
   ]
  },
  {
   "cell_type": "code",
   "execution_count": 36,
   "id": "7365abd9-e6b4-4c8b-8746-ca3a628a4d90",
   "metadata": {},
   "outputs": [
    {
     "data": {
      "text/html": [
       "<div>\n",
       "<style scoped>\n",
       "    .dataframe tbody tr th:only-of-type {\n",
       "        vertical-align: middle;\n",
       "    }\n",
       "\n",
       "    .dataframe tbody tr th {\n",
       "        vertical-align: top;\n",
       "    }\n",
       "\n",
       "    .dataframe thead th {\n",
       "        text-align: right;\n",
       "    }\n",
       "</style>\n",
       "<table border=\"1\" class=\"dataframe\">\n",
       "  <thead>\n",
       "    <tr style=\"text-align: right;\">\n",
       "      <th></th>\n",
       "      <th>W</th>\n",
       "      <th>X</th>\n",
       "      <th>Y</th>\n",
       "      <th>Z</th>\n",
       "    </tr>\n",
       "  </thead>\n",
       "  <tbody>\n",
       "    <tr>\n",
       "      <th>B</th>\n",
       "      <td>0.386827</td>\n",
       "      <td>0.448747</td>\n",
       "      <td>0.175532</td>\n",
       "      <td>NaN</td>\n",
       "    </tr>\n",
       "    <tr>\n",
       "      <th>C</th>\n",
       "      <td>NaN</td>\n",
       "      <td>NaN</td>\n",
       "      <td>0.983551</td>\n",
       "      <td>0.661652</td>\n",
       "    </tr>\n",
       "    <tr>\n",
       "      <th>D</th>\n",
       "      <td>NaN</td>\n",
       "      <td>0.501712</td>\n",
       "      <td>NaN</td>\n",
       "      <td>NaN</td>\n",
       "    </tr>\n",
       "    <tr>\n",
       "      <th>E</th>\n",
       "      <td>NaN</td>\n",
       "      <td>0.604163</td>\n",
       "      <td>NaN</td>\n",
       "      <td>1.204377</td>\n",
       "    </tr>\n",
       "  </tbody>\n",
       "</table>\n",
       "</div>"
      ],
      "text/plain": [
       "          W         X         Y         Z\n",
       "B  0.386827  0.448747  0.175532       NaN\n",
       "C       NaN       NaN  0.983551  0.661652\n",
       "D       NaN  0.501712       NaN       NaN\n",
       "E       NaN  0.604163       NaN  1.204377"
      ]
     },
     "execution_count": 36,
     "metadata": {},
     "output_type": "execute_result"
    }
   ],
   "source": [
    "# Print only positive Values \n",
    "boolDataFrame = df_1 > 0\n",
    "df_1[ boolDataFrame ]"
   ]
  },
  {
   "cell_type": "code",
   "execution_count": 37,
   "id": "b7bdf6ae-84da-4ddf-86b4-3e88789507ba",
   "metadata": {},
   "outputs": [
    {
     "data": {
      "text/html": [
       "<div>\n",
       "<style scoped>\n",
       "    .dataframe tbody tr th:only-of-type {\n",
       "        vertical-align: middle;\n",
       "    }\n",
       "\n",
       "    .dataframe tbody tr th {\n",
       "        vertical-align: top;\n",
       "    }\n",
       "\n",
       "    .dataframe thead th {\n",
       "        text-align: right;\n",
       "    }\n",
       "</style>\n",
       "<table border=\"1\" class=\"dataframe\">\n",
       "  <thead>\n",
       "    <tr style=\"text-align: right;\">\n",
       "      <th></th>\n",
       "      <th>W</th>\n",
       "      <th>X</th>\n",
       "      <th>Y</th>\n",
       "      <th>Z</th>\n",
       "    </tr>\n",
       "  </thead>\n",
       "  <tbody>\n",
       "    <tr>\n",
       "      <th>B</th>\n",
       "      <td>0.386827</td>\n",
       "      <td>0.448747</td>\n",
       "      <td>0.175532</td>\n",
       "      <td>NaN</td>\n",
       "    </tr>\n",
       "    <tr>\n",
       "      <th>C</th>\n",
       "      <td>NaN</td>\n",
       "      <td>NaN</td>\n",
       "      <td>0.983551</td>\n",
       "      <td>0.661652</td>\n",
       "    </tr>\n",
       "    <tr>\n",
       "      <th>D</th>\n",
       "      <td>NaN</td>\n",
       "      <td>0.501712</td>\n",
       "      <td>NaN</td>\n",
       "      <td>NaN</td>\n",
       "    </tr>\n",
       "    <tr>\n",
       "      <th>E</th>\n",
       "      <td>NaN</td>\n",
       "      <td>0.604163</td>\n",
       "      <td>NaN</td>\n",
       "      <td>1.204377</td>\n",
       "    </tr>\n",
       "  </tbody>\n",
       "</table>\n",
       "</div>"
      ],
      "text/plain": [
       "          W         X         Y         Z\n",
       "B  0.386827  0.448747  0.175532       NaN\n",
       "C       NaN       NaN  0.983551  0.661652\n",
       "D       NaN  0.501712       NaN       NaN\n",
       "E       NaN  0.604163       NaN  1.204377"
      ]
     },
     "execution_count": 37,
     "metadata": {},
     "output_type": "execute_result"
    }
   ],
   "source": [
    "# Print only positive Values \n",
    "df_1[ df_1 > 0 ]"
   ]
  },
  {
   "cell_type": "code",
   "execution_count": 38,
   "id": "98eb4a83-acfc-4e7c-9ec8-d69c93cdb605",
   "metadata": {},
   "outputs": [
    {
     "data": {
      "text/plain": [
       "B    0.386827\n",
       "Name: W, dtype: float64"
      ]
     },
     "execution_count": 38,
     "metadata": {},
     "output_type": "execute_result"
    }
   ],
   "source": [
    "# Find Particlar Columns With the specified condition \n",
    "df_1['W'][ (df_1['W']) > 0 ]"
   ]
  },
  {
   "cell_type": "markdown",
   "id": "ced87da7-46af-4b66-af47-d431ec9d91d0",
   "metadata": {},
   "source": [
    "###### Multiple Conditions , Logical Operators &, | "
   ]
  },
  {
   "cell_type": "code",
   "execution_count": 39,
   "id": "5d3c4c0b-9252-4ca1-85b9-46fb5283fa19",
   "metadata": {},
   "outputs": [
    {
     "data": {
      "text/html": [
       "<div>\n",
       "<style scoped>\n",
       "    .dataframe tbody tr th:only-of-type {\n",
       "        vertical-align: middle;\n",
       "    }\n",
       "\n",
       "    .dataframe tbody tr th {\n",
       "        vertical-align: top;\n",
       "    }\n",
       "\n",
       "    .dataframe thead th {\n",
       "        text-align: right;\n",
       "    }\n",
       "</style>\n",
       "<table border=\"1\" class=\"dataframe\">\n",
       "  <thead>\n",
       "    <tr style=\"text-align: right;\">\n",
       "      <th></th>\n",
       "      <th>W</th>\n",
       "      <th>Y</th>\n",
       "    </tr>\n",
       "  </thead>\n",
       "  <tbody>\n",
       "  </tbody>\n",
       "</table>\n",
       "</div>"
      ],
      "text/plain": [
       "Empty DataFrame\n",
       "Columns: [W, Y]\n",
       "Index: []"
      ]
     },
     "execution_count": 39,
     "metadata": {},
     "output_type": "execute_result"
    }
   ],
   "source": [
    "df_1[['W','Y']] [ (df_1['W']>0) & (df_1['Y']>1) ]"
   ]
  },
  {
   "cell_type": "code",
   "execution_count": 40,
   "id": "8024f9be-b34f-409c-b967-97b2cf7decaa",
   "metadata": {},
   "outputs": [
    {
     "data": {
      "text/html": [
       "<div>\n",
       "<style scoped>\n",
       "    .dataframe tbody tr th:only-of-type {\n",
       "        vertical-align: middle;\n",
       "    }\n",
       "\n",
       "    .dataframe tbody tr th {\n",
       "        vertical-align: top;\n",
       "    }\n",
       "\n",
       "    .dataframe thead th {\n",
       "        text-align: right;\n",
       "    }\n",
       "</style>\n",
       "<table border=\"1\" class=\"dataframe\">\n",
       "  <thead>\n",
       "    <tr style=\"text-align: right;\">\n",
       "      <th></th>\n",
       "      <th>W</th>\n",
       "      <th>Y</th>\n",
       "    </tr>\n",
       "  </thead>\n",
       "  <tbody>\n",
       "    <tr>\n",
       "      <th>B</th>\n",
       "      <td>0.386827</td>\n",
       "      <td>0.175532</td>\n",
       "    </tr>\n",
       "  </tbody>\n",
       "</table>\n",
       "</div>"
      ],
      "text/plain": [
       "          W         Y\n",
       "B  0.386827  0.175532"
      ]
     },
     "execution_count": 40,
     "metadata": {},
     "output_type": "execute_result"
    }
   ],
   "source": [
    "df_1[['W','Y']] [ (df_1['W']>0) | (df_1['Y']>1) ]"
   ]
  },
  {
   "cell_type": "code",
   "execution_count": 41,
   "id": "072eafa9-85b7-4ffa-b00d-8b9482d23f66",
   "metadata": {},
   "outputs": [
    {
     "data": {
      "text/html": [
       "<div>\n",
       "<style scoped>\n",
       "    .dataframe tbody tr th:only-of-type {\n",
       "        vertical-align: middle;\n",
       "    }\n",
       "\n",
       "    .dataframe tbody tr th {\n",
       "        vertical-align: top;\n",
       "    }\n",
       "\n",
       "    .dataframe thead th {\n",
       "        text-align: right;\n",
       "    }\n",
       "</style>\n",
       "<table border=\"1\" class=\"dataframe\">\n",
       "  <thead>\n",
       "    <tr style=\"text-align: right;\">\n",
       "      <th></th>\n",
       "      <th>W</th>\n",
       "      <th>X</th>\n",
       "      <th>Y</th>\n",
       "      <th>Z</th>\n",
       "    </tr>\n",
       "  </thead>\n",
       "  <tbody>\n",
       "    <tr>\n",
       "      <th>B</th>\n",
       "      <td>0.386827</td>\n",
       "      <td>0.448747</td>\n",
       "      <td>0.175532</td>\n",
       "      <td>-0.773469</td>\n",
       "    </tr>\n",
       "    <tr>\n",
       "      <th>C</th>\n",
       "      <td>-1.529710</td>\n",
       "      <td>-1.602679</td>\n",
       "      <td>0.983551</td>\n",
       "      <td>0.661652</td>\n",
       "    </tr>\n",
       "    <tr>\n",
       "      <th>D</th>\n",
       "      <td>-0.668999</td>\n",
       "      <td>0.501712</td>\n",
       "      <td>-0.990988</td>\n",
       "      <td>-0.292770</td>\n",
       "    </tr>\n",
       "    <tr>\n",
       "      <th>E</th>\n",
       "      <td>-0.842790</td>\n",
       "      <td>0.604163</td>\n",
       "      <td>-1.237439</td>\n",
       "      <td>1.204377</td>\n",
       "    </tr>\n",
       "  </tbody>\n",
       "</table>\n",
       "</div>"
      ],
      "text/plain": [
       "          W         X         Y         Z\n",
       "B  0.386827  0.448747  0.175532 -0.773469\n",
       "C -1.529710 -1.602679  0.983551  0.661652\n",
       "D -0.668999  0.501712 -0.990988 -0.292770\n",
       "E -0.842790  0.604163 -1.237439  1.204377"
      ]
     },
     "execution_count": 41,
     "metadata": {},
     "output_type": "execute_result"
    }
   ],
   "source": [
    "df_1"
   ]
  },
  {
   "cell_type": "code",
   "execution_count": 42,
   "id": "70f323bb-6e64-4ab3-ab47-e9777c423eec",
   "metadata": {},
   "outputs": [
    {
     "data": {
      "text/html": [
       "<div>\n",
       "<style scoped>\n",
       "    .dataframe tbody tr th:only-of-type {\n",
       "        vertical-align: middle;\n",
       "    }\n",
       "\n",
       "    .dataframe tbody tr th {\n",
       "        vertical-align: top;\n",
       "    }\n",
       "\n",
       "    .dataframe thead th {\n",
       "        text-align: right;\n",
       "    }\n",
       "</style>\n",
       "<table border=\"1\" class=\"dataframe\">\n",
       "  <thead>\n",
       "    <tr style=\"text-align: right;\">\n",
       "      <th></th>\n",
       "      <th>W</th>\n",
       "      <th>X</th>\n",
       "      <th>Y</th>\n",
       "      <th>Z</th>\n",
       "      <th>newColVals</th>\n",
       "    </tr>\n",
       "  </thead>\n",
       "  <tbody>\n",
       "    <tr>\n",
       "      <th>B</th>\n",
       "      <td>0.386827</td>\n",
       "      <td>0.448747</td>\n",
       "      <td>0.175532</td>\n",
       "      <td>-0.773469</td>\n",
       "      <td>ABC</td>\n",
       "    </tr>\n",
       "    <tr>\n",
       "      <th>C</th>\n",
       "      <td>-1.529710</td>\n",
       "      <td>-1.602679</td>\n",
       "      <td>0.983551</td>\n",
       "      <td>0.661652</td>\n",
       "      <td>XYZ</td>\n",
       "    </tr>\n",
       "    <tr>\n",
       "      <th>D</th>\n",
       "      <td>-0.668999</td>\n",
       "      <td>0.501712</td>\n",
       "      <td>-0.990988</td>\n",
       "      <td>-0.292770</td>\n",
       "      <td>PQR</td>\n",
       "    </tr>\n",
       "    <tr>\n",
       "      <th>E</th>\n",
       "      <td>-0.842790</td>\n",
       "      <td>0.604163</td>\n",
       "      <td>-1.237439</td>\n",
       "      <td>1.204377</td>\n",
       "      <td>LMN</td>\n",
       "    </tr>\n",
       "  </tbody>\n",
       "</table>\n",
       "</div>"
      ],
      "text/plain": [
       "          W         X         Y         Z newColVals\n",
       "B  0.386827  0.448747  0.175532 -0.773469        ABC\n",
       "C -1.529710 -1.602679  0.983551  0.661652        XYZ\n",
       "D -0.668999  0.501712 -0.990988 -0.292770        PQR\n",
       "E -0.842790  0.604163 -1.237439  1.204377        LMN"
      ]
     },
     "execution_count": 42,
     "metadata": {},
     "output_type": "execute_result"
    }
   ],
   "source": [
    "df_1[ 'newColVals' ] = [ 'ABC', 'XYZ', 'PQR', 'LMN' ]\n",
    "df_1"
   ]
  },
  {
   "cell_type": "markdown",
   "id": "07514439-863a-45b0-9fb2-e68203587e6b",
   "metadata": {},
   "source": [
    "##### Find out Missing Values"
   ]
  },
  {
   "cell_type": "code",
   "execution_count": 43,
   "id": "c2ee7734-91dc-48c3-9883-fe0fd667e6d4",
   "metadata": {},
   "outputs": [
    {
     "data": {
      "text/html": [
       "<div>\n",
       "<style scoped>\n",
       "    .dataframe tbody tr th:only-of-type {\n",
       "        vertical-align: middle;\n",
       "    }\n",
       "\n",
       "    .dataframe tbody tr th {\n",
       "        vertical-align: top;\n",
       "    }\n",
       "\n",
       "    .dataframe thead th {\n",
       "        text-align: right;\n",
       "    }\n",
       "</style>\n",
       "<table border=\"1\" class=\"dataframe\">\n",
       "  <thead>\n",
       "    <tr style=\"text-align: right;\">\n",
       "      <th></th>\n",
       "      <th>A</th>\n",
       "      <th>B</th>\n",
       "      <th>C</th>\n",
       "    </tr>\n",
       "  </thead>\n",
       "  <tbody>\n",
       "    <tr>\n",
       "      <th>0</th>\n",
       "      <td>1.0</td>\n",
       "      <td>5.0</td>\n",
       "      <td>9.0</td>\n",
       "    </tr>\n",
       "    <tr>\n",
       "      <th>1</th>\n",
       "      <td>2.0</td>\n",
       "      <td>NaN</td>\n",
       "      <td>8.0</td>\n",
       "    </tr>\n",
       "    <tr>\n",
       "      <th>2</th>\n",
       "      <td>NaN</td>\n",
       "      <td>NaN</td>\n",
       "      <td>NaN</td>\n",
       "    </tr>\n",
       "  </tbody>\n",
       "</table>\n",
       "</div>"
      ],
      "text/plain": [
       "     A    B    C\n",
       "0  1.0  5.0  9.0\n",
       "1  2.0  NaN  8.0\n",
       "2  NaN  NaN  NaN"
      ]
     },
     "execution_count": 43,
     "metadata": {},
     "output_type": "execute_result"
    }
   ],
   "source": [
    "myDict2 = { 'A': [1,2,np.nan], 'B': [5,np.nan,np.nan], 'C': [9,8,np.nan] }\n",
    "df_2 = pd.DataFrame( myDict2 )\n",
    "df_2"
   ]
  },
  {
   "cell_type": "markdown",
   "id": "2f360b93-6c8d-4f15-a149-d766dde153e9",
   "metadata": {},
   "source": [
    "###### Drop NaN values"
   ]
  },
  {
   "cell_type": "code",
   "execution_count": 46,
   "id": "20824d7a-1990-46cb-b060-afe725862223",
   "metadata": {},
   "outputs": [
    {
     "data": {
      "text/html": [
       "<div>\n",
       "<style scoped>\n",
       "    .dataframe tbody tr th:only-of-type {\n",
       "        vertical-align: middle;\n",
       "    }\n",
       "\n",
       "    .dataframe tbody tr th {\n",
       "        vertical-align: top;\n",
       "    }\n",
       "\n",
       "    .dataframe thead th {\n",
       "        text-align: right;\n",
       "    }\n",
       "</style>\n",
       "<table border=\"1\" class=\"dataframe\">\n",
       "  <thead>\n",
       "    <tr style=\"text-align: right;\">\n",
       "      <th></th>\n",
       "      <th>A</th>\n",
       "      <th>B</th>\n",
       "      <th>C</th>\n",
       "    </tr>\n",
       "  </thead>\n",
       "  <tbody>\n",
       "    <tr>\n",
       "      <th>0</th>\n",
       "      <td>1.0</td>\n",
       "      <td>5.0</td>\n",
       "      <td>9.0</td>\n",
       "    </tr>\n",
       "  </tbody>\n",
       "</table>\n",
       "</div>"
      ],
      "text/plain": [
       "     A    B    C\n",
       "0  1.0  5.0  9.0"
      ]
     },
     "execution_count": 46,
     "metadata": {},
     "output_type": "execute_result"
    }
   ],
   "source": [
    "# Drop Any row containing NaN\n",
    "df_2.dropna()"
   ]
  },
  {
   "cell_type": "code",
   "execution_count": 47,
   "id": "270ce7ba-b25c-4765-80cc-e762ce75b7f9",
   "metadata": {},
   "outputs": [
    {
     "data": {
      "text/html": [
       "<div>\n",
       "<style scoped>\n",
       "    .dataframe tbody tr th:only-of-type {\n",
       "        vertical-align: middle;\n",
       "    }\n",
       "\n",
       "    .dataframe tbody tr th {\n",
       "        vertical-align: top;\n",
       "    }\n",
       "\n",
       "    .dataframe thead th {\n",
       "        text-align: right;\n",
       "    }\n",
       "</style>\n",
       "<table border=\"1\" class=\"dataframe\">\n",
       "  <thead>\n",
       "    <tr style=\"text-align: right;\">\n",
       "      <th></th>\n",
       "      <th>A</th>\n",
       "      <th>B</th>\n",
       "      <th>C</th>\n",
       "    </tr>\n",
       "  </thead>\n",
       "  <tbody>\n",
       "    <tr>\n",
       "      <th>0</th>\n",
       "      <td>1.0</td>\n",
       "      <td>5.0</td>\n",
       "      <td>9.0</td>\n",
       "    </tr>\n",
       "    <tr>\n",
       "      <th>1</th>\n",
       "      <td>2.0</td>\n",
       "      <td>NaN</td>\n",
       "      <td>8.0</td>\n",
       "    </tr>\n",
       "    <tr>\n",
       "      <th>2</th>\n",
       "      <td>NaN</td>\n",
       "      <td>NaN</td>\n",
       "      <td>NaN</td>\n",
       "    </tr>\n",
       "  </tbody>\n",
       "</table>\n",
       "</div>"
      ],
      "text/plain": [
       "     A    B    C\n",
       "0  1.0  5.0  9.0\n",
       "1  2.0  NaN  8.0\n",
       "2  NaN  NaN  NaN"
      ]
     },
     "execution_count": 47,
     "metadata": {},
     "output_type": "execute_result"
    }
   ],
   "source": [
    "myDict2 = { 'A': [1,2,np.nan], 'B': [5,np.nan,np.nan], 'C': [9,8,np.nan] }\n",
    "df_2 = pd.DataFrame( myDict2 )\n",
    "df_2"
   ]
  },
  {
   "cell_type": "code",
   "execution_count": 48,
   "id": "30704a20-b8ff-483c-aa1d-70c5640ca5ad",
   "metadata": {},
   "outputs": [
    {
     "data": {
      "text/html": [
       "<div>\n",
       "<style scoped>\n",
       "    .dataframe tbody tr th:only-of-type {\n",
       "        vertical-align: middle;\n",
       "    }\n",
       "\n",
       "    .dataframe tbody tr th {\n",
       "        vertical-align: top;\n",
       "    }\n",
       "\n",
       "    .dataframe thead th {\n",
       "        text-align: right;\n",
       "    }\n",
       "</style>\n",
       "<table border=\"1\" class=\"dataframe\">\n",
       "  <thead>\n",
       "    <tr style=\"text-align: right;\">\n",
       "      <th></th>\n",
       "    </tr>\n",
       "  </thead>\n",
       "  <tbody>\n",
       "    <tr>\n",
       "      <th>0</th>\n",
       "    </tr>\n",
       "    <tr>\n",
       "      <th>1</th>\n",
       "    </tr>\n",
       "    <tr>\n",
       "      <th>2</th>\n",
       "    </tr>\n",
       "  </tbody>\n",
       "</table>\n",
       "</div>"
      ],
      "text/plain": [
       "Empty DataFrame\n",
       "Columns: []\n",
       "Index: [0, 1, 2]"
      ]
     },
     "execution_count": 48,
     "metadata": {},
     "output_type": "execute_result"
    }
   ],
   "source": [
    "# Drop a Particular Column with NaN\n",
    "df_2.dropna( axis=1 )"
   ]
  },
  {
   "cell_type": "code",
   "execution_count": 68,
   "id": "f06b539c-2e54-4cb1-a204-4e440097941d",
   "metadata": {},
   "outputs": [
    {
     "data": {
      "text/html": [
       "<div>\n",
       "<style scoped>\n",
       "    .dataframe tbody tr th:only-of-type {\n",
       "        vertical-align: middle;\n",
       "    }\n",
       "\n",
       "    .dataframe tbody tr th {\n",
       "        vertical-align: top;\n",
       "    }\n",
       "\n",
       "    .dataframe thead th {\n",
       "        text-align: right;\n",
       "    }\n",
       "</style>\n",
       "<table border=\"1\" class=\"dataframe\">\n",
       "  <thead>\n",
       "    <tr style=\"text-align: right;\">\n",
       "      <th></th>\n",
       "      <th>A</th>\n",
       "      <th>B</th>\n",
       "      <th>C</th>\n",
       "    </tr>\n",
       "  </thead>\n",
       "  <tbody>\n",
       "    <tr>\n",
       "      <th>0</th>\n",
       "      <td>1.0</td>\n",
       "      <td>5.0</td>\n",
       "      <td>9.0</td>\n",
       "    </tr>\n",
       "    <tr>\n",
       "      <th>1</th>\n",
       "      <td>2.0</td>\n",
       "      <td>NaN</td>\n",
       "      <td>8.0</td>\n",
       "    </tr>\n",
       "    <tr>\n",
       "      <th>2</th>\n",
       "      <td>NaN</td>\n",
       "      <td>NaN</td>\n",
       "      <td>NaN</td>\n",
       "    </tr>\n",
       "  </tbody>\n",
       "</table>\n",
       "</div>"
      ],
      "text/plain": [
       "     A    B    C\n",
       "0  1.0  5.0  9.0\n",
       "1  2.0  NaN  8.0\n",
       "2  NaN  NaN  NaN"
      ]
     },
     "execution_count": 68,
     "metadata": {},
     "output_type": "execute_result"
    }
   ],
   "source": [
    "myDict2 = { 'A': [1,2,np.nan], 'B': [5,np.nan,np.nan], 'C': [9,8,np.nan] }\n",
    "df_2 = pd.DataFrame( myDict2 )\n",
    "df_2"
   ]
  },
  {
   "cell_type": "code",
   "execution_count": 51,
   "id": "91620b43-bfdc-437f-97c6-f2526d035d18",
   "metadata": {},
   "outputs": [
    {
     "data": {
      "text/html": [
       "<div>\n",
       "<style scoped>\n",
       "    .dataframe tbody tr th:only-of-type {\n",
       "        vertical-align: middle;\n",
       "    }\n",
       "\n",
       "    .dataframe tbody tr th {\n",
       "        vertical-align: top;\n",
       "    }\n",
       "\n",
       "    .dataframe thead th {\n",
       "        text-align: right;\n",
       "    }\n",
       "</style>\n",
       "<table border=\"1\" class=\"dataframe\">\n",
       "  <thead>\n",
       "    <tr style=\"text-align: right;\">\n",
       "      <th></th>\n",
       "      <th>A</th>\n",
       "      <th>B</th>\n",
       "      <th>C</th>\n",
       "    </tr>\n",
       "  </thead>\n",
       "  <tbody>\n",
       "    <tr>\n",
       "      <th>0</th>\n",
       "      <td>1.0</td>\n",
       "      <td>5.0</td>\n",
       "      <td>9.0</td>\n",
       "    </tr>\n",
       "    <tr>\n",
       "      <th>1</th>\n",
       "      <td>2.0</td>\n",
       "      <td>NaN</td>\n",
       "      <td>8.0</td>\n",
       "    </tr>\n",
       "  </tbody>\n",
       "</table>\n",
       "</div>"
      ],
      "text/plain": [
       "     A    B    C\n",
       "0  1.0  5.0  9.0\n",
       "1  2.0  NaN  8.0"
      ]
     },
     "execution_count": 51,
     "metadata": {},
     "output_type": "execute_result"
    }
   ],
   "source": [
    "# A Threshhold Value to require you to not get NaN dropped - Min Threshhold to Drop Values\n",
    "df_2.dropna( thresh=2 )"
   ]
  },
  {
   "cell_type": "markdown",
   "id": "9aeccac8-f394-45c4-ab24-7680fe2eba3a",
   "metadata": {},
   "source": [
    "##### Fill Values with Mean, or Median whatever makes Sense"
   ]
  },
  {
   "cell_type": "code",
   "execution_count": 75,
   "id": "fe26149e-5fcd-4c60-8c01-785910143724",
   "metadata": {},
   "outputs": [
    {
     "data": {
      "text/html": [
       "<div>\n",
       "<style scoped>\n",
       "    .dataframe tbody tr th:only-of-type {\n",
       "        vertical-align: middle;\n",
       "    }\n",
       "\n",
       "    .dataframe tbody tr th {\n",
       "        vertical-align: top;\n",
       "    }\n",
       "\n",
       "    .dataframe thead th {\n",
       "        text-align: right;\n",
       "    }\n",
       "</style>\n",
       "<table border=\"1\" class=\"dataframe\">\n",
       "  <thead>\n",
       "    <tr style=\"text-align: right;\">\n",
       "      <th></th>\n",
       "      <th>A</th>\n",
       "      <th>B</th>\n",
       "      <th>C</th>\n",
       "    </tr>\n",
       "  </thead>\n",
       "  <tbody>\n",
       "    <tr>\n",
       "      <th>0</th>\n",
       "      <td>1.0</td>\n",
       "      <td>5.0</td>\n",
       "      <td>9.0</td>\n",
       "    </tr>\n",
       "    <tr>\n",
       "      <th>1</th>\n",
       "      <td>2.0</td>\n",
       "      <td>NaN</td>\n",
       "      <td>8.0</td>\n",
       "    </tr>\n",
       "    <tr>\n",
       "      <th>2</th>\n",
       "      <td>NaN</td>\n",
       "      <td>NaN</td>\n",
       "      <td>NaN</td>\n",
       "    </tr>\n",
       "  </tbody>\n",
       "</table>\n",
       "</div>"
      ],
      "text/plain": [
       "     A    B    C\n",
       "0  1.0  5.0  9.0\n",
       "1  2.0  NaN  8.0\n",
       "2  NaN  NaN  NaN"
      ]
     },
     "execution_count": 75,
     "metadata": {},
     "output_type": "execute_result"
    }
   ],
   "source": [
    "myDict2 = { 'A': [1,2,np.nan], 'B': [5,np.nan,np.nan], 'C': [9,8,np.nan] }\n",
    "df_2 = pd.DataFrame( myDict2 )\n",
    "df_2"
   ]
  },
  {
   "cell_type": "code",
   "execution_count": 72,
   "id": "9277993e-3398-4cd8-8a39-85fe227bb05c",
   "metadata": {},
   "outputs": [
    {
     "data": {
      "text/plain": [
       "5.0"
      ]
     },
     "execution_count": 72,
     "metadata": {},
     "output_type": "execute_result"
    }
   ],
   "source": [
    "df_2.loc[ 0 ].mean()"
   ]
  },
  {
   "cell_type": "code",
   "execution_count": 73,
   "id": "2209b39d-7d06-4421-9ddf-5b4da0affce8",
   "metadata": {},
   "outputs": [
    {
     "data": {
      "text/plain": [
       "A    1.5\n",
       "B    5.0\n",
       "C    8.5\n",
       "dtype: float64"
      ]
     },
     "execution_count": 73,
     "metadata": {},
     "output_type": "execute_result"
    }
   ],
   "source": [
    "df_2.mean()"
   ]
  },
  {
   "cell_type": "code",
   "execution_count": 67,
   "id": "642edbaa-37c5-4691-afe2-96995adba220",
   "metadata": {},
   "outputs": [
    {
     "data": {
      "text/html": [
       "<div>\n",
       "<style scoped>\n",
       "    .dataframe tbody tr th:only-of-type {\n",
       "        vertical-align: middle;\n",
       "    }\n",
       "\n",
       "    .dataframe tbody tr th {\n",
       "        vertical-align: top;\n",
       "    }\n",
       "\n",
       "    .dataframe thead th {\n",
       "        text-align: right;\n",
       "    }\n",
       "</style>\n",
       "<table border=\"1\" class=\"dataframe\">\n",
       "  <thead>\n",
       "    <tr style=\"text-align: right;\">\n",
       "      <th></th>\n",
       "      <th>A</th>\n",
       "      <th>B</th>\n",
       "      <th>C</th>\n",
       "    </tr>\n",
       "  </thead>\n",
       "  <tbody>\n",
       "    <tr>\n",
       "      <th>0</th>\n",
       "      <td>1.0</td>\n",
       "      <td>5.0</td>\n",
       "      <td>9.0</td>\n",
       "    </tr>\n",
       "    <tr>\n",
       "      <th>1</th>\n",
       "      <td>2.0</td>\n",
       "      <td>FV</td>\n",
       "      <td>8.0</td>\n",
       "    </tr>\n",
       "    <tr>\n",
       "      <th>2</th>\n",
       "      <td>FV</td>\n",
       "      <td>FV</td>\n",
       "      <td>FV</td>\n",
       "    </tr>\n",
       "  </tbody>\n",
       "</table>\n",
       "</div>"
      ],
      "text/plain": [
       "     A    B    C\n",
       "0  1.0  5.0  9.0\n",
       "1  2.0   FV  8.0\n",
       "2   FV   FV   FV"
      ]
     },
     "execution_count": 67,
     "metadata": {},
     "output_type": "execute_result"
    }
   ],
   "source": [
    "# Fill with a dummy Value\n",
    "df_2.fillna( value='FV', inplace=True )\n",
    "df_2"
   ]
  },
  {
   "cell_type": "code",
   "execution_count": 70,
   "id": "38b49b7e-4856-45e4-96c3-fd7eddaac3a0",
   "metadata": {},
   "outputs": [
    {
     "data": {
      "text/html": [
       "<div>\n",
       "<style scoped>\n",
       "    .dataframe tbody tr th:only-of-type {\n",
       "        vertical-align: middle;\n",
       "    }\n",
       "\n",
       "    .dataframe tbody tr th {\n",
       "        vertical-align: top;\n",
       "    }\n",
       "\n",
       "    .dataframe thead th {\n",
       "        text-align: right;\n",
       "    }\n",
       "</style>\n",
       "<table border=\"1\" class=\"dataframe\">\n",
       "  <thead>\n",
       "    <tr style=\"text-align: right;\">\n",
       "      <th></th>\n",
       "      <th>A</th>\n",
       "      <th>B</th>\n",
       "      <th>C</th>\n",
       "    </tr>\n",
       "  </thead>\n",
       "  <tbody>\n",
       "    <tr>\n",
       "      <th>0</th>\n",
       "      <td>1.0</td>\n",
       "      <td>5.0</td>\n",
       "      <td>9.0</td>\n",
       "    </tr>\n",
       "    <tr>\n",
       "      <th>1</th>\n",
       "      <td>2.0</td>\n",
       "      <td>5.0</td>\n",
       "      <td>8.0</td>\n",
       "    </tr>\n",
       "    <tr>\n",
       "      <th>2</th>\n",
       "      <td>5.0</td>\n",
       "      <td>5.0</td>\n",
       "      <td>5.0</td>\n",
       "    </tr>\n",
       "  </tbody>\n",
       "</table>\n",
       "</div>"
      ],
      "text/plain": [
       "     A    B    C\n",
       "0  1.0  5.0  9.0\n",
       "1  2.0  5.0  8.0\n",
       "2  5.0  5.0  5.0"
      ]
     },
     "execution_count": 70,
     "metadata": {},
     "output_type": "execute_result"
    }
   ],
   "source": [
    "# Fill with the Mean of first Row\n",
    "df_2.fillna( value=df_2.loc[ 0 ].mean(), inplace=True )\n",
    "df_2"
   ]
  },
  {
   "cell_type": "code",
   "execution_count": 76,
   "id": "feeb0630-fa89-4d85-b74b-19754cb682c3",
   "metadata": {},
   "outputs": [
    {
     "data": {
      "text/html": [
       "<div>\n",
       "<style scoped>\n",
       "    .dataframe tbody tr th:only-of-type {\n",
       "        vertical-align: middle;\n",
       "    }\n",
       "\n",
       "    .dataframe tbody tr th {\n",
       "        vertical-align: top;\n",
       "    }\n",
       "\n",
       "    .dataframe thead th {\n",
       "        text-align: right;\n",
       "    }\n",
       "</style>\n",
       "<table border=\"1\" class=\"dataframe\">\n",
       "  <thead>\n",
       "    <tr style=\"text-align: right;\">\n",
       "      <th></th>\n",
       "      <th>A</th>\n",
       "      <th>B</th>\n",
       "      <th>C</th>\n",
       "    </tr>\n",
       "  </thead>\n",
       "  <tbody>\n",
       "    <tr>\n",
       "      <th>0</th>\n",
       "      <td>1.0</td>\n",
       "      <td>5.0</td>\n",
       "      <td>9.0</td>\n",
       "    </tr>\n",
       "    <tr>\n",
       "      <th>1</th>\n",
       "      <td>2.0</td>\n",
       "      <td>8.5</td>\n",
       "      <td>8.0</td>\n",
       "    </tr>\n",
       "    <tr>\n",
       "      <th>2</th>\n",
       "      <td>8.5</td>\n",
       "      <td>8.5</td>\n",
       "      <td>8.5</td>\n",
       "    </tr>\n",
       "  </tbody>\n",
       "</table>\n",
       "</div>"
      ],
      "text/plain": [
       "     A    B    C\n",
       "0  1.0  5.0  9.0\n",
       "1  2.0  8.5  8.0\n",
       "2  8.5  8.5  8.5"
      ]
     },
     "execution_count": 76,
     "metadata": {},
     "output_type": "execute_result"
    }
   ],
   "source": [
    "# Fill with the Mean of first Row\n",
    "df_2.fillna( value=df_2['C'].mean(), inplace=True )\n",
    "df_2"
   ]
  },
  {
   "cell_type": "markdown",
   "id": "1fb6aca8-1baf-474b-890d-cf59a0bd0603",
   "metadata": {},
   "source": [
    "##### GROUP-BY to Group Rows together based of a column and use Aggregate functions like SUM, MIN, MAX, MEAN etc. to Group using certain property"
   ]
  },
  {
   "cell_type": "code",
   "execution_count": 77,
   "id": "abc11b53-72f8-48c6-ab20-0a830dfa8085",
   "metadata": {},
   "outputs": [
    {
     "data": {
      "text/html": [
       "<div>\n",
       "<style scoped>\n",
       "    .dataframe tbody tr th:only-of-type {\n",
       "        vertical-align: middle;\n",
       "    }\n",
       "\n",
       "    .dataframe tbody tr th {\n",
       "        vertical-align: top;\n",
       "    }\n",
       "\n",
       "    .dataframe thead th {\n",
       "        text-align: right;\n",
       "    }\n",
       "</style>\n",
       "<table border=\"1\" class=\"dataframe\">\n",
       "  <thead>\n",
       "    <tr style=\"text-align: right;\">\n",
       "      <th></th>\n",
       "      <th>Company</th>\n",
       "      <th>EmpName</th>\n",
       "      <th>TotalSales</th>\n",
       "    </tr>\n",
       "  </thead>\n",
       "  <tbody>\n",
       "    <tr>\n",
       "      <th>0</th>\n",
       "      <td>GOOG</td>\n",
       "      <td>John</td>\n",
       "      <td>100</td>\n",
       "    </tr>\n",
       "    <tr>\n",
       "      <th>1</th>\n",
       "      <td>MSFT</td>\n",
       "      <td>Jane</td>\n",
       "      <td>200</td>\n",
       "    </tr>\n",
       "    <tr>\n",
       "      <th>2</th>\n",
       "      <td>APPL</td>\n",
       "      <td>Mary</td>\n",
       "      <td>300</td>\n",
       "    </tr>\n",
       "    <tr>\n",
       "      <th>3</th>\n",
       "      <td>FB</td>\n",
       "      <td>Scott</td>\n",
       "      <td>500</td>\n",
       "    </tr>\n",
       "    <tr>\n",
       "      <th>4</th>\n",
       "      <td>GOOG</td>\n",
       "      <td>James</td>\n",
       "      <td>600</td>\n",
       "    </tr>\n",
       "    <tr>\n",
       "      <th>5</th>\n",
       "      <td>MSFT</td>\n",
       "      <td>Joey</td>\n",
       "      <td>700</td>\n",
       "    </tr>\n",
       "    <tr>\n",
       "      <th>6</th>\n",
       "      <td>APPL</td>\n",
       "      <td>Janice</td>\n",
       "      <td>800</td>\n",
       "    </tr>\n",
       "    <tr>\n",
       "      <th>7</th>\n",
       "      <td>FB</td>\n",
       "      <td>Sam</td>\n",
       "      <td>900</td>\n",
       "    </tr>\n",
       "  </tbody>\n",
       "</table>\n",
       "</div>"
      ],
      "text/plain": [
       "  Company EmpName  TotalSales\n",
       "0    GOOG    John         100\n",
       "1    MSFT    Jane         200\n",
       "2    APPL    Mary         300\n",
       "3      FB   Scott         500\n",
       "4    GOOG   James         600\n",
       "5    MSFT    Joey         700\n",
       "6    APPL  Janice         800\n",
       "7      FB     Sam         900"
      ]
     },
     "execution_count": 77,
     "metadata": {},
     "output_type": "execute_result"
    }
   ],
   "source": [
    "myData3 = {\n",
    "    'Company': [ 'GOOG','MSFT','APPL','FB', 'GOOG','MSFT','APPL','FB' ],\n",
    "    'EmpName': [ 'John', 'Jane', 'Mary', 'Scott', 'James', 'Joey', 'Janice','Sam' ],\n",
    "    'TotalSales' : [ 100, 200, 300, 500, 600, 700, 800, 900 ]\n",
    "}\n",
    "\n",
    "df_3 = pd.DataFrame( myData3 )\n",
    "df_3"
   ]
  },
  {
   "cell_type": "code",
   "execution_count": 79,
   "id": "6362e17c-065a-4de9-af0d-3e9011141772",
   "metadata": {},
   "outputs": [
    {
     "name": "stdout",
     "output_type": "stream",
     "text": [
      "Mean by Company : \n",
      "\n"
     ]
    },
    {
     "name": "stderr",
     "output_type": "stream",
     "text": [
      "C:\\Users\\RD-Coding\\AppData\\Local\\Temp\\ipykernel_10504\\127952469.py:5: FutureWarning: The default value of numeric_only in DataFrameGroupBy.mean is deprecated. In a future version, numeric_only will default to False. Either specify numeric_only or select only columns which should be valid for the function.\n",
      "  grpByCompany.mean()\n"
     ]
    },
    {
     "data": {
      "text/html": [
       "<div>\n",
       "<style scoped>\n",
       "    .dataframe tbody tr th:only-of-type {\n",
       "        vertical-align: middle;\n",
       "    }\n",
       "\n",
       "    .dataframe tbody tr th {\n",
       "        vertical-align: top;\n",
       "    }\n",
       "\n",
       "    .dataframe thead th {\n",
       "        text-align: right;\n",
       "    }\n",
       "</style>\n",
       "<table border=\"1\" class=\"dataframe\">\n",
       "  <thead>\n",
       "    <tr style=\"text-align: right;\">\n",
       "      <th></th>\n",
       "      <th>TotalSales</th>\n",
       "    </tr>\n",
       "    <tr>\n",
       "      <th>Company</th>\n",
       "      <th></th>\n",
       "    </tr>\n",
       "  </thead>\n",
       "  <tbody>\n",
       "    <tr>\n",
       "      <th>APPL</th>\n",
       "      <td>550.0</td>\n",
       "    </tr>\n",
       "    <tr>\n",
       "      <th>FB</th>\n",
       "      <td>700.0</td>\n",
       "    </tr>\n",
       "    <tr>\n",
       "      <th>GOOG</th>\n",
       "      <td>350.0</td>\n",
       "    </tr>\n",
       "    <tr>\n",
       "      <th>MSFT</th>\n",
       "      <td>450.0</td>\n",
       "    </tr>\n",
       "  </tbody>\n",
       "</table>\n",
       "</div>"
      ],
      "text/plain": [
       "         TotalSales\n",
       "Company            \n",
       "APPL          550.0\n",
       "FB            700.0\n",
       "GOOG          350.0\n",
       "MSFT          450.0"
      ]
     },
     "execution_count": 79,
     "metadata": {},
     "output_type": "execute_result"
    }
   ],
   "source": [
    "# Group By a Column Value - Company\n",
    "grpByCompany = df_3.groupby( 'Company' )\n",
    "\n",
    "print( 'Mean by Company : \\n' )\n",
    "grpByCompany.mean()"
   ]
  },
  {
   "cell_type": "markdown",
   "id": "cc3ebfbb-ae6e-4eb7-b08f-e74cdbf77675",
   "metadata": {},
   "source": [
    "###### To get all Statistical Values just use Describe"
   ]
  },
  {
   "cell_type": "code",
   "execution_count": 80,
   "id": "ebc72cd0-d1a7-4fcf-9a1c-d6e5d29fd84b",
   "metadata": {},
   "outputs": [
    {
     "data": {
      "text/html": [
       "<div>\n",
       "<style scoped>\n",
       "    .dataframe tbody tr th:only-of-type {\n",
       "        vertical-align: middle;\n",
       "    }\n",
       "\n",
       "    .dataframe tbody tr th {\n",
       "        vertical-align: top;\n",
       "    }\n",
       "\n",
       "    .dataframe thead tr th {\n",
       "        text-align: left;\n",
       "    }\n",
       "\n",
       "    .dataframe thead tr:last-of-type th {\n",
       "        text-align: right;\n",
       "    }\n",
       "</style>\n",
       "<table border=\"1\" class=\"dataframe\">\n",
       "  <thead>\n",
       "    <tr>\n",
       "      <th></th>\n",
       "      <th colspan=\"8\" halign=\"left\">TotalSales</th>\n",
       "    </tr>\n",
       "    <tr>\n",
       "      <th></th>\n",
       "      <th>count</th>\n",
       "      <th>mean</th>\n",
       "      <th>std</th>\n",
       "      <th>min</th>\n",
       "      <th>25%</th>\n",
       "      <th>50%</th>\n",
       "      <th>75%</th>\n",
       "      <th>max</th>\n",
       "    </tr>\n",
       "    <tr>\n",
       "      <th>Company</th>\n",
       "      <th></th>\n",
       "      <th></th>\n",
       "      <th></th>\n",
       "      <th></th>\n",
       "      <th></th>\n",
       "      <th></th>\n",
       "      <th></th>\n",
       "      <th></th>\n",
       "    </tr>\n",
       "  </thead>\n",
       "  <tbody>\n",
       "    <tr>\n",
       "      <th>APPL</th>\n",
       "      <td>2.0</td>\n",
       "      <td>550.0</td>\n",
       "      <td>353.553391</td>\n",
       "      <td>300.0</td>\n",
       "      <td>425.0</td>\n",
       "      <td>550.0</td>\n",
       "      <td>675.0</td>\n",
       "      <td>800.0</td>\n",
       "    </tr>\n",
       "    <tr>\n",
       "      <th>FB</th>\n",
       "      <td>2.0</td>\n",
       "      <td>700.0</td>\n",
       "      <td>282.842712</td>\n",
       "      <td>500.0</td>\n",
       "      <td>600.0</td>\n",
       "      <td>700.0</td>\n",
       "      <td>800.0</td>\n",
       "      <td>900.0</td>\n",
       "    </tr>\n",
       "    <tr>\n",
       "      <th>GOOG</th>\n",
       "      <td>2.0</td>\n",
       "      <td>350.0</td>\n",
       "      <td>353.553391</td>\n",
       "      <td>100.0</td>\n",
       "      <td>225.0</td>\n",
       "      <td>350.0</td>\n",
       "      <td>475.0</td>\n",
       "      <td>600.0</td>\n",
       "    </tr>\n",
       "    <tr>\n",
       "      <th>MSFT</th>\n",
       "      <td>2.0</td>\n",
       "      <td>450.0</td>\n",
       "      <td>353.553391</td>\n",
       "      <td>200.0</td>\n",
       "      <td>325.0</td>\n",
       "      <td>450.0</td>\n",
       "      <td>575.0</td>\n",
       "      <td>700.0</td>\n",
       "    </tr>\n",
       "  </tbody>\n",
       "</table>\n",
       "</div>"
      ],
      "text/plain": [
       "        TotalSales                                                      \n",
       "             count   mean         std    min    25%    50%    75%    max\n",
       "Company                                                                 \n",
       "APPL           2.0  550.0  353.553391  300.0  425.0  550.0  675.0  800.0\n",
       "FB             2.0  700.0  282.842712  500.0  600.0  700.0  800.0  900.0\n",
       "GOOG           2.0  350.0  353.553391  100.0  225.0  350.0  475.0  600.0\n",
       "MSFT           2.0  450.0  353.553391  200.0  325.0  450.0  575.0  700.0"
      ]
     },
     "execution_count": 80,
     "metadata": {},
     "output_type": "execute_result"
    }
   ],
   "source": [
    "grpByCompany.describe()"
   ]
  },
  {
   "cell_type": "code",
   "execution_count": 81,
   "id": "7c61588c-13e6-4bc8-81a0-ceeb3dba27f5",
   "metadata": {},
   "outputs": [
    {
     "data": {
      "text/html": [
       "<div>\n",
       "<style scoped>\n",
       "    .dataframe tbody tr th:only-of-type {\n",
       "        vertical-align: middle;\n",
       "    }\n",
       "\n",
       "    .dataframe tbody tr th {\n",
       "        vertical-align: top;\n",
       "    }\n",
       "\n",
       "    .dataframe thead th {\n",
       "        text-align: right;\n",
       "    }\n",
       "</style>\n",
       "<table border=\"1\" class=\"dataframe\">\n",
       "  <thead>\n",
       "    <tr style=\"text-align: right;\">\n",
       "      <th></th>\n",
       "      <th>Company</th>\n",
       "      <th>APPL</th>\n",
       "      <th>FB</th>\n",
       "      <th>GOOG</th>\n",
       "      <th>MSFT</th>\n",
       "    </tr>\n",
       "  </thead>\n",
       "  <tbody>\n",
       "    <tr>\n",
       "      <th rowspan=\"8\" valign=\"top\">TotalSales</th>\n",
       "      <th>count</th>\n",
       "      <td>2.000000</td>\n",
       "      <td>2.000000</td>\n",
       "      <td>2.000000</td>\n",
       "      <td>2.000000</td>\n",
       "    </tr>\n",
       "    <tr>\n",
       "      <th>mean</th>\n",
       "      <td>550.000000</td>\n",
       "      <td>700.000000</td>\n",
       "      <td>350.000000</td>\n",
       "      <td>450.000000</td>\n",
       "    </tr>\n",
       "    <tr>\n",
       "      <th>std</th>\n",
       "      <td>353.553391</td>\n",
       "      <td>282.842712</td>\n",
       "      <td>353.553391</td>\n",
       "      <td>353.553391</td>\n",
       "    </tr>\n",
       "    <tr>\n",
       "      <th>min</th>\n",
       "      <td>300.000000</td>\n",
       "      <td>500.000000</td>\n",
       "      <td>100.000000</td>\n",
       "      <td>200.000000</td>\n",
       "    </tr>\n",
       "    <tr>\n",
       "      <th>25%</th>\n",
       "      <td>425.000000</td>\n",
       "      <td>600.000000</td>\n",
       "      <td>225.000000</td>\n",
       "      <td>325.000000</td>\n",
       "    </tr>\n",
       "    <tr>\n",
       "      <th>50%</th>\n",
       "      <td>550.000000</td>\n",
       "      <td>700.000000</td>\n",
       "      <td>350.000000</td>\n",
       "      <td>450.000000</td>\n",
       "    </tr>\n",
       "    <tr>\n",
       "      <th>75%</th>\n",
       "      <td>675.000000</td>\n",
       "      <td>800.000000</td>\n",
       "      <td>475.000000</td>\n",
       "      <td>575.000000</td>\n",
       "    </tr>\n",
       "    <tr>\n",
       "      <th>max</th>\n",
       "      <td>800.000000</td>\n",
       "      <td>900.000000</td>\n",
       "      <td>600.000000</td>\n",
       "      <td>700.000000</td>\n",
       "    </tr>\n",
       "  </tbody>\n",
       "</table>\n",
       "</div>"
      ],
      "text/plain": [
       "Company                 APPL          FB        GOOG        MSFT\n",
       "TotalSales count    2.000000    2.000000    2.000000    2.000000\n",
       "           mean   550.000000  700.000000  350.000000  450.000000\n",
       "           std    353.553391  282.842712  353.553391  353.553391\n",
       "           min    300.000000  500.000000  100.000000  200.000000\n",
       "           25%    425.000000  600.000000  225.000000  325.000000\n",
       "           50%    550.000000  700.000000  350.000000  450.000000\n",
       "           75%    675.000000  800.000000  475.000000  575.000000\n",
       "           max    800.000000  900.000000  600.000000  700.000000"
      ]
     },
     "execution_count": 81,
     "metadata": {},
     "output_type": "execute_result"
    }
   ],
   "source": [
    "# We could flip it with Transpose\n",
    "grpByCompany.describe().transpose()"
   ]
  },
  {
   "cell_type": "markdown",
   "id": "ad15a8b9-0dbb-4704-81a6-392a305c4df8",
   "metadata": {},
   "source": [
    "##### Merging, Joining and Concatenating"
   ]
  },
  {
   "cell_type": "code",
   "execution_count": 90,
   "id": "c3277f55-0ae5-4810-803e-7e17df3cded0",
   "metadata": {},
   "outputs": [
    {
     "data": {
      "text/html": [
       "<div>\n",
       "<style scoped>\n",
       "    .dataframe tbody tr th:only-of-type {\n",
       "        vertical-align: middle;\n",
       "    }\n",
       "\n",
       "    .dataframe tbody tr th {\n",
       "        vertical-align: top;\n",
       "    }\n",
       "\n",
       "    .dataframe thead th {\n",
       "        text-align: right;\n",
       "    }\n",
       "</style>\n",
       "<table border=\"1\" class=\"dataframe\">\n",
       "  <thead>\n",
       "    <tr style=\"text-align: right;\">\n",
       "      <th></th>\n",
       "      <th>col_1</th>\n",
       "      <th>col_2</th>\n",
       "      <th>col_3</th>\n",
       "    </tr>\n",
       "  </thead>\n",
       "  <tbody>\n",
       "    <tr>\n",
       "      <th>0</th>\n",
       "      <td>100</td>\n",
       "      <td>888</td>\n",
       "      <td>abc</td>\n",
       "    </tr>\n",
       "    <tr>\n",
       "      <th>1</th>\n",
       "      <td>200</td>\n",
       "      <td>777</td>\n",
       "      <td>xyz</td>\n",
       "    </tr>\n",
       "    <tr>\n",
       "      <th>2</th>\n",
       "      <td>300</td>\n",
       "      <td>666</td>\n",
       "      <td>lmn</td>\n",
       "    </tr>\n",
       "    <tr>\n",
       "      <th>3</th>\n",
       "      <td>100</td>\n",
       "      <td>888</td>\n",
       "      <td>pqr</td>\n",
       "    </tr>\n",
       "  </tbody>\n",
       "</table>\n",
       "</div>"
      ],
      "text/plain": [
       "   col_1  col_2 col_3\n",
       "0    100    888   abc\n",
       "1    200    777   xyz\n",
       "2    300    666   lmn\n",
       "3    100    888   pqr"
      ]
     },
     "execution_count": 90,
     "metadata": {},
     "output_type": "execute_result"
    }
   ],
   "source": [
    "# Create a DataFrame with three columns and an index of 0 to 3\n",
    "myDict3 = { 'col_1': [100,200,300,100], 'col_2': [888,777,666,888], 'col_3': ['abc','xyz','lmn','pqr'] } \n",
    "\n",
    "df_4 = pd.DataFrame( myDict3 )\n",
    "\n",
    "df_4"
   ]
  },
  {
   "cell_type": "markdown",
   "id": "a7842d65-4b36-4f24-98d0-30330d0be2ef",
   "metadata": {},
   "source": [
    "###### Finding Unique Values"
   ]
  },
  {
   "cell_type": "code",
   "execution_count": 91,
   "id": "7f926ff9-7bbe-4f72-802e-1944e92ee31f",
   "metadata": {},
   "outputs": [
    {
     "name": "stdout",
     "output_type": "stream",
     "text": [
      "Unique in Column1 :  [100 200 300]  Number of Unique Elements:  3\n",
      "Number of Unique Values, from Pandas : 3\n"
     ]
    }
   ],
   "source": [
    "uniqueCol1 = df_4['col_1'].unique()\n",
    "\n",
    "print( 'Unique in Column1 : ', uniqueCol1, ' Number of Unique Elements: ', len( uniqueCol1 ) )\n",
    "print( 'Number of Unique Values, from Pandas :', df_4['col_1'].nunique() )"
   ]
  },
  {
   "cell_type": "code",
   "execution_count": 92,
   "id": "3644ee64-8a63-48d6-abb5-4e8cdc1aa1ea",
   "metadata": {},
   "outputs": [
    {
     "name": "stdout",
     "output_type": "stream",
     "text": [
      "Unique in Column2 :  [888 777 666]  Number of Unique Elements:  3\n",
      "Number of Unique Values, from Pandas : 3\n"
     ]
    }
   ],
   "source": [
    "uniqueCol2 = df_4['col_2'].unique()\n",
    "\n",
    "print( 'Unique in Column2 : ', uniqueCol2, ' Number of Unique Elements: ', len( uniqueCol2 ) )\n",
    "print( 'Number of Unique Values, from Pandas :', df_4['col_2'].nunique() )"
   ]
  },
  {
   "cell_type": "markdown",
   "id": "12e012be-1961-4a1b-ab54-b1473e0ecec7",
   "metadata": {},
   "source": [
    "###### Get Count of Each element"
   ]
  },
  {
   "cell_type": "code",
   "execution_count": 93,
   "id": "e0b82266-efb8-440a-9033-48929ea9f733",
   "metadata": {},
   "outputs": [
    {
     "data": {
      "text/plain": [
       "100    2\n",
       "200    1\n",
       "300    1\n",
       "Name: col_1, dtype: int64"
      ]
     },
     "execution_count": 93,
     "metadata": {},
     "output_type": "execute_result"
    }
   ],
   "source": [
    "df_4['col_1'].value_counts()"
   ]
  },
  {
   "cell_type": "code",
   "execution_count": 94,
   "id": "db059a6b-bad2-4086-9f31-1fe501113ee7",
   "metadata": {},
   "outputs": [
    {
     "data": {
      "text/plain": [
       "888    2\n",
       "777    1\n",
       "666    1\n",
       "Name: col_2, dtype: int64"
      ]
     },
     "execution_count": 94,
     "metadata": {},
     "output_type": "execute_result"
    }
   ],
   "source": [
    "df_4['col_2'].value_counts()"
   ]
  },
  {
   "cell_type": "code",
   "execution_count": 95,
   "id": "2aa81f2e-40db-423d-98f2-98f7b1aa35d1",
   "metadata": {},
   "outputs": [
    {
     "data": {
      "text/plain": [
       "abc    1\n",
       "xyz    1\n",
       "lmn    1\n",
       "pqr    1\n",
       "Name: col_3, dtype: int64"
      ]
     },
     "execution_count": 95,
     "metadata": {},
     "output_type": "execute_result"
    }
   ],
   "source": [
    "df_4['col_3'].value_counts()"
   ]
  },
  {
   "cell_type": "code",
   "execution_count": null,
   "id": "99d07305-3e2d-4c60-91cd-0cfb823defdd",
   "metadata": {},
   "outputs": [],
   "source": []
  }
 ],
 "metadata": {
  "kernelspec": {
   "display_name": "Python 3 (ipykernel)",
   "language": "python",
   "name": "python3"
  },
  "language_info": {
   "codemirror_mode": {
    "name": "ipython",
    "version": 3
   },
   "file_extension": ".py",
   "mimetype": "text/x-python",
   "name": "python",
   "nbconvert_exporter": "python",
   "pygments_lexer": "ipython3",
   "version": "3.11.0"
  }
 },
 "nbformat": 4,
 "nbformat_minor": 5
}
