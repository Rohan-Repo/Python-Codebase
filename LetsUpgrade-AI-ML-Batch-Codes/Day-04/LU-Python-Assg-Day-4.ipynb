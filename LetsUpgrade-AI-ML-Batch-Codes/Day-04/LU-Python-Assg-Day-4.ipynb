{
 "cells": [
  {
   "cell_type": "markdown",
   "metadata": {},
   "source": [
    "### LetsUpgrade - Python Assignment Day 4"
   ]
  },
  {
   "cell_type": "markdown",
   "metadata": {},
   "source": [
    "###### 1. Research on whether addition, subtraction, multiplication, division, floor division and modulo operations be performed on complex numbers. Based on your study, implement a Python program to demonstrate these operations\n",
    " - Based on my finding - other Arithmetic operations **except Floor Division** are allowed"
   ]
  },
  {
   "cell_type": "code",
   "execution_count": 7,
   "metadata": {},
   "outputs": [
    {
     "name": "stdout",
     "output_type": "stream",
     "text": [
      "(5+8j)  -  (2+3j)  =  (3+5j)\n",
      "(5+8j)  +  (2+3j)  =  (7+11j)\n",
      "(5+8j)  *  (2+3j)  =  (-14+31j)\n",
      "(5+8j)  /  (2+3j)  =  (2.6153846153846154+0.07692307692307686j)\n"
     ]
    }
   ],
   "source": [
    "n1 = 5+8j\n",
    "n2 = 2+3j\n",
    "print( n1, ' - ', n2, ' = ', (n1-n2) )\n",
    "print( n1, ' + ', n2, ' = ', (n1+n2) )\n",
    "print( n1, ' * ', n2, ' = ', (n1*n2) )\n",
    "print( n1, ' / ', n2, ' = ', (n1/n2) )"
   ]
  },
  {
   "cell_type": "code",
   "execution_count": 8,
   "metadata": {},
   "outputs": [],
   "source": [
    "import math"
   ]
  },
  {
   "cell_type": "code",
   "execution_count": 10,
   "metadata": {},
   "outputs": [
    {
     "name": "stdout",
     "output_type": "stream",
     "text": [
      "Real Part :  8.0  Imaginary Part :  6.0\n",
      "Modulus of  (8+6j)  =  10.0\n"
     ]
    }
   ],
   "source": [
    "a = 8 + 6j # 8 - Real number, 6j - Imaginary Number\n",
    "print( 'Real Part : ', a.real , ' Imaginary Part : ', a.imag )\n",
    "modComp = math.sqrt( a.real**2 + a.imag**2 )\n",
    "print( 'Modulus of ', a, ' = ', modComp)"
   ]
  },
  {
   "cell_type": "markdown",
   "metadata": {},
   "source": [
    "*****"
   ]
  },
  {
   "cell_type": "markdown",
   "metadata": {},
   "source": [
    "###### 2. Research on range() functions and its parameters. Create a markdown cell and write in your own words (no copy-paste from google please) what you understand about it. Implement a small program of your choice on the same"
   ]
  },
  {
   "cell_type": "markdown",
   "metadata": {},
   "source": [
    "### Range() Function - range(start,end,stepSize)\n",
    "- **Returns a range object, which starts from the starting point specified & ends at 1 element before the specified ending element on stepSize intervals**\n",
    "    - Eg. range(1,10,2) will return odd numbers 1,3,5,7,9, thus 1 number '9' before the specified end \n",
    "- **Below Options are possible due to Scaling**\n",
    "    - **If start > end** then range(start,end,**-stepSize**) i.e. **negative stepSize**\n",
    "    - **If start < end** then range(start,end,**stepSize**) i.e. **positive stepSize**\n",
    "- **Note: We Cannot use float values for start,end,stepSize in range() function only integers allowed**"
   ]
  },
  {
   "cell_type": "markdown",
   "metadata": {},
   "source": [
    "###### Showcase range() functions with postive & negative stepSize"
   ]
  },
  {
   "cell_type": "code",
   "execution_count": 16,
   "metadata": {},
   "outputs": [
    {
     "name": "stdout",
     "output_type": "stream",
     "text": [
      "List with Positive StepSize :  [0, 2, 4, 6, 8, 10]\n",
      "List with Negative StepSize :  [12, 10, 8, 6, 4, 2]\n"
     ]
    }
   ],
   "source": [
    "l1 = list( range(0,12,2) )\n",
    "l2 = list( range(12,0,-2) )\n",
    "print( 'List with Positive StepSize : ', l1 )\n",
    "print( 'List with Negative StepSize : ', l2 )"
   ]
  },
  {
   "cell_type": "markdown",
   "metadata": {},
   "source": [
    "*******"
   ]
  },
  {
   "cell_type": "markdown",
   "metadata": {},
   "source": [
    "###### 3. Consider two numbers. Perform their subtraction and if the result of subtraction is greater than 25, print their multiplication result else print their division result."
   ]
  },
  {
   "cell_type": "code",
   "execution_count": 21,
   "metadata": {},
   "outputs": [],
   "source": [
    "def arithEg(n1,n2):\n",
    "    if n1-n2 > 25:\n",
    "        return n1*n2\n",
    "    else:\n",
    "        return n1/n2"
   ]
  },
  {
   "cell_type": "code",
   "execution_count": 22,
   "metadata": {},
   "outputs": [
    {
     "name": "stdout",
     "output_type": "stream",
     "text": [
      "n1 = 17 and n2 = 5 so returns division =  3.4\n",
      "n1 = 100 and n2 = 25 so returns multiplication =  2500\n"
     ]
    }
   ],
   "source": [
    "print( 'n1 = 17 and n2 = 5 so returns division = ', arithEg(17,5) )\n",
    "print( 'n1 = 100 and n2 = 25 so returns multiplication = ', arithEg(100,25) )"
   ]
  },
  {
   "cell_type": "markdown",
   "metadata": {},
   "source": [
    "****"
   ]
  },
  {
   "cell_type": "markdown",
   "metadata": {},
   "source": [
    "###### 4. Consider a list of 10 elements of integer values. If the number in the list is divisible by 2, print the result as \"square of that number minus 2\"."
   ]
  },
  {
   "cell_type": "code",
   "execution_count": 35,
   "metadata": {},
   "outputs": [
    {
     "name": "stdout",
     "output_type": "stream",
     "text": [
      "Required List =  [62, 62, 142, 98, 62, 1022]\n"
     ]
    }
   ],
   "source": [
    "my_list = [ 17 , 8 , 8 , 12 , 10 , 8 , 32 , 15 , 63 , 97 ]\n",
    "\n",
    "print( 'Required List = ' , [ i**2-2 for i in my_list if i%2==0 ] )"
   ]
  },
  {
   "cell_type": "markdown",
   "metadata": {},
   "source": [
    "****"
   ]
  },
  {
   "cell_type": "markdown",
   "metadata": {},
   "source": [
    "###### 5. Consider a list of 10 elements. Print all the elements in the list which are greater than 7 when that number is divided 2"
   ]
  },
  {
   "cell_type": "code",
   "execution_count": 38,
   "metadata": {},
   "outputs": [
    {
     "name": "stdout",
     "output_type": "stream",
     "text": [
      "Required List =  [108, 8, 32]\n"
     ]
    }
   ],
   "source": [
    "my_list2 = [ 17 , 4 , 108 , 6 , 97 , 8 , 32 , 15 , 63 , 97 ]\n",
    "print( 'Required List = ' , [ i for i in my_list2 if i%2==0 and i>7 ] )"
   ]
  },
  {
   "cell_type": "markdown",
   "metadata": {},
   "source": [
    "*****"
   ]
  }
 ],
 "metadata": {
  "kernelspec": {
   "display_name": "Python 3",
   "language": "python",
   "name": "python3"
  },
  "language_info": {
   "codemirror_mode": {
    "name": "ipython",
    "version": 3
   },
   "file_extension": ".py",
   "mimetype": "text/x-python",
   "name": "python",
   "nbconvert_exporter": "python",
   "pygments_lexer": "ipython3",
   "version": "3.7.7"
  }
 },
 "nbformat": 4,
 "nbformat_minor": 4
}
