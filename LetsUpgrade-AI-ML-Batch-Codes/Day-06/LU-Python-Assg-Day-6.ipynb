{
 "cells": [
  {
   "cell_type": "markdown",
   "metadata": {},
   "source": [
    "### LetsUpgrade - Python Assignment Day 6"
   ]
  },
  {
   "cell_type": "markdown",
   "metadata": {},
   "source": [
    "###### 1. Assuming that we have some email addresses in the \"username@companyname.com\" format, please write program to print the company name of a given email address. Both user names and company names are composed of letters only.\n",
    "- Example - Input: john@google.com and Output: google"
   ]
  },
  {
   "cell_type": "code",
   "execution_count": 7,
   "metadata": {},
   "outputs": [],
   "source": [
    "def getCompanyName( str2 ):\n",
    "    chunk1 = str2.split('@')\n",
    "    chunk2 = chunk1[1].split('.')\n",
    "    return chunk2[0]"
   ]
  },
  {
   "cell_type": "code",
   "execution_count": 9,
   "metadata": {},
   "outputs": [
    {
     "name": "stdout",
     "output_type": "stream",
     "text": [
      "Username is JohnDoe@google.com and Company Name is google\n",
      "Username is JaneDoe@yahoo.co.in and Company Name is yahoo\n"
     ]
    }
   ],
   "source": [
    "email_1 = 'JohnDoe@google.com'\n",
    "email_2 = 'JaneDoe@yahoo.co.in'\n",
    "\n",
    "print( f\"Username is { email_1 } and Company Name is { getCompanyName(email_1) }\" )\n",
    "print( f\"Username is { email_2 } and Company Name is { getCompanyName(email_2) }\" )"
   ]
  },
  {
   "cell_type": "markdown",
   "metadata": {},
   "source": [
    "****"
   ]
  },
  {
   "cell_type": "markdown",
   "metadata": {},
   "source": [
    "###### 2. Write a program that accepts a comma-separated sequence of words as input and prints the words in a comma separated sequence after sorting them alphabetically.\n",
    "- Example - Input: without,hello,bag,world and Output: bag,hello,without,world"
   ]
  },
  {
   "cell_type": "code",
   "execution_count": 12,
   "metadata": {},
   "outputs": [
    {
     "name": "stdout",
     "output_type": "stream",
     "text": [
      "'Bonjour', 'GutenTag', 'Ahlanbik', 'Shukran', 'VielenDanke', 'MerciBeaucoup'\n",
      "Base List :  [\"'Bonjour'\", \" 'GutenTag'\", \" 'Ahlanbik'\", \" 'Shukran'\", \" 'VielenDanke'\", \" 'MerciBeaucoup'\"]\n",
      "Sorted List :   'Ahlanbik', 'GutenTag', 'MerciBeaucoup', 'Shukran', 'VielenDanke','Bonjour'\n"
     ]
    }
   ],
   "source": [
    "wordList = input().split(',')\n",
    "print( 'Base List : ', wordList )\n",
    "print( 'Sorted List : ',\",\".join( sorted(wordList) ) )"
   ]
  },
  {
   "cell_type": "markdown",
   "metadata": {},
   "source": [
    "*****"
   ]
  },
  {
   "cell_type": "markdown",
   "metadata": {},
   "source": [
    "###### 3. Create your own Jupyter Notebook for Sets.\n",
    "- Reference link -  https://www.w3schools.com/python/python_sets.asp"
   ]
  },
  {
   "cell_type": "markdown",
   "metadata": {},
   "source": [
    "### Sets:\n",
    "- Collection which has Unique Values i.e. **Removes Duplicate Values**\n",
    "- Concatenation Operation is not allowed\n",
    "- Considers Case Change as a Different Element : for String Elements\n",
    "- **Set() Returns an Unordered Set** : Elements will not necessarily be in a Sorted Order\n",
    "- Set Operations like Union, Intersection, Set Difference are allowed"
   ]
  },
  {
   "cell_type": "code",
   "execution_count": 29,
   "metadata": {},
   "outputs": [
    {
     "name": "stdout",
     "output_type": "stream",
     "text": [
      "List with duplicates: [1, 1, 2, 3, 4, 'John', 12, 1, 'john', 2, 4, 8, 'doe', 12, 'Doe', 1, 1, 4, 5]\n",
      "Set 2 without duplicates :  {1, 2, 3, 4, 'John', 'doe', 5, 8, 12, 'Doe', 'john'}\n"
     ]
    }
   ],
   "source": [
    "my_list_2 = [1,1,2,3,4,'John',12,1,'john',2,4,8,'doe',12,'Doe',1,1,4,5]\n",
    "print( 'List with duplicates:', my_list_2 )\n",
    "my_set_2 = set ([1,1,2,3,4,'John',12,1,'Doe',2,4,8,'john',12,'doe',1,1,4,5])\n",
    "print( 'Set 2 without duplicates : ', my_set_2 )"
   ]
  },
  {
   "cell_type": "code",
   "execution_count": 30,
   "metadata": {},
   "outputs": [
    {
     "name": "stdout",
     "output_type": "stream",
     "text": [
      " Set 1 without duplicates :  {1, 2, 3, 4, 5, 8, 9, 12}\n",
      " Set 2 without duplicates :  {1, 2, 3, 4, 'John', 'doe', 5, 8, 12, 'Doe', 'john'}\n",
      " Set Union :  {1, 2, 3, 4, 'John', 'doe', 5, 8, 9, 12, 'Doe', 'john'}\n",
      " Set Intersection :  {1, 2, 3, 4, 5, 8, 12}\n",
      " Set (2-1) Difference :  {'John', 'doe', 'Doe', 'john'}\n",
      " Set (1-2) Difference :  {9}\n",
      " Set are Disjoint :  False\n"
     ]
    }
   ],
   "source": [
    "my_set = set( [1,1,2,3,4,5,12,1,3,2,4,8,9,12,12,1,1,4,5] )\n",
    "print( ' Set 1 without duplicates : ', my_set )\n",
    "print( ' Set 2 without duplicates : ', my_set_2 )\n",
    "print( ' Set Union : ', my_set_2.union(my_set) )\n",
    "print( ' Set Intersection : ', my_set_2.intersection(my_set) )\n",
    "print( ' Set (2-1) Difference : ', my_set_2.difference(my_set) )\n",
    "print( ' Set (1-2) Difference : ', my_set.difference(my_set_2) )\n",
    "print( ' Set are Disjoint : ', my_set.isdisjoint(my_set_2) )"
   ]
  },
  {
   "cell_type": "markdown",
   "metadata": {},
   "source": [
    "*****"
   ]
  },
  {
   "cell_type": "markdown",
   "metadata": {},
   "source": [
    "###### 4. Given a list of n-1 numbers ranging from 1 to n, your task is to find the missing number. There are no duplicates.\n",
    "- Example - Input:1 2 4 6 3 7 8 and Output:5"
   ]
  },
  {
   "cell_type": "code",
   "execution_count": 8,
   "metadata": {},
   "outputs": [
    {
     "name": "stdout",
     "output_type": "stream",
     "text": [
      "Original List :  [18, 14, 20, 16, 19, 15]\n",
      "Sorted List :  [14, 15, 16, 18, 19, 20]\n",
      "Missing Number :  17\n"
     ]
    }
   ],
   "source": [
    "num_list = [ 18,14,20,16,19,15 ]\n",
    "print( 'Original List : ',  num_list )\n",
    "num_list = sorted( num_list )\n",
    "print( 'Sorted List : ',  num_list )\n",
    "\n",
    "j = 0\n",
    "for i in range( num_list[0], num_list[ len(num_list)-1 ] ):\n",
    "    if i != num_list[j]:\n",
    "        print( 'Missing Number : ', i )\n",
    "        break\n",
    "    else:\n",
    "        j = j+1"
   ]
  },
  {
   "cell_type": "markdown",
   "metadata": {},
   "source": [
    "****"
   ]
  },
  {
   "cell_type": "markdown",
   "metadata": {},
   "source": [
    "###### 5. With a given list L, write a program to print this list L after removing all duplicate values with original order reserved.\n",
    "- Example - Input List - 12 24 35 24 88 120 155 88 120 155 and output List  - 12 24 35 88 120 155"
   ]
  },
  {
   "cell_type": "code",
   "execution_count": 7,
   "metadata": {},
   "outputs": [
    {
     "name": "stdout",
     "output_type": "stream",
     "text": [
      "Original List :  [17, 72, 108, 102, 97, 8, 17, 108, 63, 97, 55, 79, 8]\n",
      "List with duplicates removed:  [97, 102, 72, 8, 108, 79, 17, 55, 63]\n",
      "Ascending Order : 8,17,55,63,72,79,97,102,108,\n",
      "Descending Order : 108,102,97,79,72,63,55,17,8,"
     ]
    }
   ],
   "source": [
    "num_list_2 = [ 17 , 72 , 108 , 102 , 97 , 8 , 17 , 108 , 63 , 97, 55, 79, 8 ]\n",
    "print( 'Original List : ',  num_list_2 )\n",
    "\n",
    "num_list_2 = list( set( num_list_2 ) )\n",
    "print( 'List with duplicates removed: ',  num_list_2 )\n",
    "\n",
    "print( 'Ascending Order :', end=' ' )\n",
    "for i in sorted(num_list_2):\n",
    "    print( i, end=',' )\n",
    "print()\n",
    "print( 'Descending Order :', end=' ' )\n",
    "for i in sorted(num_list_2, reverse=True):\n",
    "    print( i, end=',' )"
   ]
  },
  {
   "cell_type": "markdown",
   "metadata": {},
   "source": [
    "****"
   ]
  }
 ],
 "metadata": {
  "kernelspec": {
   "display_name": "Python 3",
   "language": "python",
   "name": "python3"
  },
  "language_info": {
   "codemirror_mode": {
    "name": "ipython",
    "version": 3
   },
   "file_extension": ".py",
   "mimetype": "text/x-python",
   "name": "python",
   "nbconvert_exporter": "python",
   "pygments_lexer": "ipython3",
   "version": "3.7.7"
  }
 },
 "nbformat": 4,
 "nbformat_minor": 4
}
