{
 "cells": [
  {
   "cell_type": "markdown",
   "metadata": {},
   "source": [
    "### LetsUpgrade - Python Assignment Day 3"
   ]
  },
  {
   "cell_type": "markdown",
   "metadata": {},
   "source": [
    "###### 1. Write a program to subtract two complex numbers in Python."
   ]
  },
  {
   "cell_type": "code",
   "execution_count": 1,
   "metadata": {},
   "outputs": [
    {
     "name": "stdout",
     "output_type": "stream",
     "text": [
      "(5+8j)  -  (2+3j)  =  (3+5j)\n"
     ]
    }
   ],
   "source": [
    "n1 = 5+8j\n",
    "n2 = 2+3j\n",
    "print( n1, ' - ', n2, ' = ', (n1-n2) )"
   ]
  },
  {
   "cell_type": "markdown",
   "metadata": {},
   "source": [
    "********"
   ]
  },
  {
   "cell_type": "markdown",
   "metadata": {},
   "source": [
    "###### 2. Write a program to find the fourth root of a number."
   ]
  },
  {
   "cell_type": "code",
   "execution_count": 5,
   "metadata": {},
   "outputs": [],
   "source": [
    "import math"
   ]
  },
  {
   "cell_type": "code",
   "execution_count": 6,
   "metadata": {},
   "outputs": [
    {
     "name": "stdout",
     "output_type": "stream",
     "text": [
      "Fourth Root of  256  =  4.0\n",
      "Fourth Root of  16  =  2.0\n"
     ]
    }
   ],
   "source": [
    "n1 = 256\n",
    "n2 = 16\n",
    "print( 'Fourth Root of ', n1, ' = ', math.sqrt( math.sqrt(n1) ) )\n",
    "print( 'Fourth Root of ', n2, ' = ', math.sqrt( math.sqrt(n2) ) )"
   ]
  },
  {
   "cell_type": "markdown",
   "metadata": {},
   "source": [
    "********"
   ]
  },
  {
   "cell_type": "markdown",
   "metadata": {},
   "source": [
    "###### 3. Write a program to swap two numbers in Python with the help of a temporary variable."
   ]
  },
  {
   "cell_type": "code",
   "execution_count": 9,
   "metadata": {},
   "outputs": [],
   "source": [
    "def swapNumsWithTempVar(n1,n2):\n",
    "    temp = n1\n",
    "    n1 = n2\n",
    "    n2 = temp\n",
    "    \n",
    "    return n1,n2"
   ]
  },
  {
   "cell_type": "code",
   "execution_count": 12,
   "metadata": {},
   "outputs": [
    {
     "name": "stdout",
     "output_type": "stream",
     "text": [
      "Original Numbers : \t v1 :  17  and v2 :  5\n",
      "Swapped Numbers  : \t v1 :  5  and v2 :  17\n"
     ]
    }
   ],
   "source": [
    "v1 = 17\n",
    "v2 = 5\n",
    "print( 'Original Numbers : \\t v1 : ', v1, ' and v2 : ', v2 )\n",
    "v1,v2 = swapNumsWithTempVar(17,5)\n",
    "print( 'Swapped Numbers  : \\t v1 : ', v1, ' and v2 : ', v2 )"
   ]
  },
  {
   "cell_type": "markdown",
   "metadata": {},
   "source": [
    "********"
   ]
  },
  {
   "cell_type": "markdown",
   "metadata": {},
   "source": [
    "###### 4. Write a program to swap two numbers in Python without using a temporary variable.:\n",
    "- Arithmetic Operations\n",
    "- Python Construct"
   ]
  },
  {
   "cell_type": "markdown",
   "metadata": {},
   "source": [
    "###### Way 1 - Arithematic Operations"
   ]
  },
  {
   "cell_type": "code",
   "execution_count": 15,
   "metadata": {},
   "outputs": [],
   "source": [
    "def swapNumsWithoutTempVar(n1,n2):\n",
    "    n1 = n1 + n2\n",
    "    n2 = n1 - n2\n",
    "    n1 = n1 - n2\n",
    "    \n",
    "    return n1,n2"
   ]
  },
  {
   "cell_type": "code",
   "execution_count": 16,
   "metadata": {},
   "outputs": [
    {
     "name": "stdout",
     "output_type": "stream",
     "text": [
      "Original Numbers : \t v1 :  17  and v2 :  5\n",
      "Swapped Numbers  : \t v1 :  5  and v2 :  17\n"
     ]
    }
   ],
   "source": [
    "v1 = 17\n",
    "v2 = 5\n",
    "print( 'Original Numbers : \\t v1 : ', v1, ' and v2 : ', v2 )\n",
    "v1,v2 = swapNumsWithoutTempVar(17,5)\n",
    "print( 'Swapped Numbers  : \\t v1 : ', v1, ' and v2 : ', v2 )"
   ]
  },
  {
   "cell_type": "markdown",
   "metadata": {},
   "source": [
    "###### Way 2 - Python Construct "
   ]
  },
  {
   "cell_type": "code",
   "execution_count": 17,
   "metadata": {},
   "outputs": [
    {
     "name": "stdout",
     "output_type": "stream",
     "text": [
      "Original Numbers : \t v1 :  17  and v2 :  5\n",
      "Swapped Numbers  : \t v1 :  5  and v2 :  17\n"
     ]
    }
   ],
   "source": [
    "v1 = 17\n",
    "v2 = 5\n",
    "print( 'Original Numbers : \\t v1 : ', v1, ' and v2 : ', v2 )\n",
    "\n",
    "# Python in-built Construct for Swapping 2 Numbers\n",
    "v1,v2 = v2,v1\n",
    "\n",
    "print( 'Swapped Numbers  : \\t v1 : ', v1, ' and v2 : ', v2 )"
   ]
  },
  {
   "cell_type": "markdown",
   "metadata": {},
   "source": [
    "********"
   ]
  },
  {
   "cell_type": "markdown",
   "metadata": {},
   "source": [
    "###### 5. Write a program to convert fahrenheit to kelvin and celsius both."
   ]
  },
  {
   "cell_type": "code",
   "execution_count": 20,
   "metadata": {},
   "outputs": [
    {
     "name": "stdout",
     "output_type": "stream",
     "text": [
      "Temperature in Fahrenheit :  100\n",
      "Equivalent Temperature in Celsius :  37.778\n",
      "Equivalent Temperature in Kelvin :  310.928\n"
     ]
    }
   ],
   "source": [
    "tempF = 100\n",
    "\n",
    "tempC = float((tempF - 32) * (5/9))\n",
    "\n",
    "tempK = tempC + 273.15\n",
    "\n",
    "print( 'Temperature in Fahrenheit : ', tempF )\n",
    "print( 'Equivalent Temperature in Celsius : ', round(tempC,3) )\n",
    "print( 'Equivalent Temperature in Kelvin : ', round(tempK,3) )"
   ]
  },
  {
   "cell_type": "markdown",
   "metadata": {},
   "source": [
    "********"
   ]
  },
  {
   "cell_type": "markdown",
   "metadata": {},
   "source": [
    "###### 6. Write a program to demonstrate all the available data types in Python. "
   ]
  },
  {
   "cell_type": "code",
   "execution_count": 26,
   "metadata": {},
   "outputs": [
    {
     "name": "stdout",
     "output_type": "stream",
     "text": [
      "Value :  10  Data-Type :  <class 'int'>\n",
      "Value :  Rohan  Data-Type :  <class 'str'>\n",
      "Value :  10.5  Data-Type :  <class 'float'>\n",
      "Value :  (5+8j)  Data-Type :  <class 'complex'>\n",
      "Value :  True  Data-Type :  <class 'bool'>\n"
     ]
    }
   ],
   "source": [
    "a = 10\n",
    "print( 'Value : ', a , ' Data-Type : ', type(a) )\n",
    "a = 'Rohan'\n",
    "print( 'Value : ', a , ' Data-Type : ', type(a) )\n",
    "a = 10.5\n",
    "print( 'Value : ', a , ' Data-Type : ', type(a) )\n",
    "a = 5+8j\n",
    "print( 'Value : ', a , ' Data-Type : ', type(a) )\n",
    "a = True\n",
    "print( 'Value : ', a , ' Data-Type : ', type(a) )"
   ]
  },
  {
   "cell_type": "markdown",
   "metadata": {},
   "source": [
    "*****"
   ]
  },
  {
   "cell_type": "markdown",
   "metadata": {},
   "source": [
    "###### 7. Create a Markdown cell in jupyter and list the steps discussed in the session by Dr. Darshan Ingle sir to create Github profile and upload Githubs Assignment link."
   ]
  },
  {
   "cell_type": "markdown",
   "metadata": {},
   "source": [
    "- **GitHub is a repository where we can push our code to either our Public or Private repositories**\n",
    "- **GitHub Profile can be showcased to future employers**\n",
    "    - Future employers can check the work you did or the Projects you developed\n",
    "- **Steps specified by Darshan Sir**\n",
    "    - Create a day-wise folder structure on your local machine (laptop/desktop)\n",
    "    - Create a Public Repository with the name **LetsUpgrade-AI-ML**\n",
    "    - Drag-And-Drop the folder from your local machine onto your GitHub repository\n",
    "    - Add comments if required, Beginners can ignore\n",
    "    - In assignment submission form, fill contact details, select proper folder from drop down\n",
    "        - Before submitting check if the specified Repo is public or not using Incognito mode\n",
    "    - Double-check the Google Form response on you specified email-id \n",
    "    - We can delete the file or repository directly from yur GitHub profile"
   ]
  },
  {
   "cell_type": "markdown",
   "metadata": {},
   "source": [
    "******"
   ]
  }
 ],
 "metadata": {
  "kernelspec": {
   "display_name": "Python 3",
   "language": "python",
   "name": "python3"
  },
  "language_info": {
   "codemirror_mode": {
    "name": "ipython",
    "version": 3
   },
   "file_extension": ".py",
   "mimetype": "text/x-python",
   "name": "python",
   "nbconvert_exporter": "python",
   "pygments_lexer": "ipython3",
   "version": "3.7.7"
  }
 },
 "nbformat": 4,
 "nbformat_minor": 4
}
